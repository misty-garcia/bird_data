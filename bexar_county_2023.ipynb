{
 "cells": [
  {
   "cell_type": "markdown",
   "id": "a4da2596",
   "metadata": {},
   "source": [
    "# Birds in Bexar County 2023"
   ]
  },
  {
   "cell_type": "code",
   "execution_count": 1,
   "id": "21b8fa72",
   "metadata": {},
   "outputs": [],
   "source": [
    "import pandas as pd\n",
    "import numpy as np\n",
    "\n",
    "import os"
   ]
  },
  {
   "cell_type": "markdown",
   "id": "92a9d6a5",
   "metadata": {},
   "source": [
    "## acquire data"
   ]
  },
  {
   "cell_type": "code",
   "execution_count": 2,
   "id": "77018ec7",
   "metadata": {},
   "outputs": [],
   "source": [
    "#read in the csv\n",
    "df_init = pd.read_csv('data/ebd_US-TX-029_2023/ebd_US-TX-029_202301_202312_smp_relDec-2023.txt', sep='\\t')"
   ]
  },
  {
   "cell_type": "code",
   "execution_count": 3,
   "id": "576b41c9",
   "metadata": {},
   "outputs": [
    {
     "name": "stdout",
     "output_type": "stream",
     "text": [
      "<class 'pandas.core.frame.DataFrame'>\n",
      "RangeIndex: 254085 entries, 0 to 254084\n",
      "Data columns (total 50 columns):\n",
      " #   Column                      Non-Null Count   Dtype  \n",
      "---  ------                      --------------   -----  \n",
      " 0   GLOBAL UNIQUE IDENTIFIER    254085 non-null  object \n",
      " 1   LAST EDITED DATE            254085 non-null  object \n",
      " 2   TAXONOMIC ORDER             254085 non-null  int64  \n",
      " 3   CATEGORY                    254085 non-null  object \n",
      " 4   TAXON CONCEPT ID            254085 non-null  object \n",
      " 5   COMMON NAME                 254085 non-null  object \n",
      " 6   SCIENTIFIC NAME             254085 non-null  object \n",
      " 7   SUBSPECIES COMMON NAME      7781 non-null    object \n",
      " 8   SUBSPECIES SCIENTIFIC NAME  7781 non-null    object \n",
      " 9   EXOTIC CODE                 16108 non-null   object \n",
      " 10  OBSERVATION COUNT           254085 non-null  object \n",
      " 11  BREEDING CODE               3967 non-null    object \n",
      " 12  BREEDING CATEGORY           3967 non-null    object \n",
      " 13  BEHAVIOR CODE               3967 non-null    object \n",
      " 14  AGE/SEX                     765 non-null     object \n",
      " 15  COUNTRY                     254085 non-null  object \n",
      " 16  COUNTRY CODE                254085 non-null  object \n",
      " 17  STATE                       254085 non-null  object \n",
      " 18  STATE CODE                  254085 non-null  object \n",
      " 19  COUNTY                      254085 non-null  object \n",
      " 20  COUNTY CODE                 254085 non-null  object \n",
      " 21  IBA CODE                    4544 non-null    object \n",
      " 22  BCR CODE                    254085 non-null  int64  \n",
      " 23  USFWS CODE                  0 non-null       float64\n",
      " 24  ATLAS BLOCK                 0 non-null       float64\n",
      " 25  LOCALITY                    254085 non-null  object \n",
      " 26  LOCALITY ID                 254085 non-null  object \n",
      " 27  LOCALITY TYPE               254085 non-null  object \n",
      " 28  LATITUDE                    254085 non-null  float64\n",
      " 29  LONGITUDE                   254085 non-null  float64\n",
      " 30  OBSERVATION DATE            254085 non-null  object \n",
      " 31  TIME OBSERVATIONS STARTED   253695 non-null  object \n",
      " 32  OBSERVER ID                 254085 non-null  object \n",
      " 33  SAMPLING EVENT IDENTIFIER   254085 non-null  object \n",
      " 34  PROTOCOL TYPE               254085 non-null  object \n",
      " 35  PROTOCOL CODE               254085 non-null  object \n",
      " 36  PROJECT CODE                254085 non-null  object \n",
      " 37  DURATION MINUTES            243413 non-null  float64\n",
      " 38  EFFORT DISTANCE KM          195426 non-null  float64\n",
      " 39  EFFORT AREA HA              113 non-null     float64\n",
      " 40  NUMBER OBSERVERS            253409 non-null  float64\n",
      " 41  ALL SPECIES REPORTED        254085 non-null  int64  \n",
      " 42  GROUP IDENTIFIER            77026 non-null   object \n",
      " 43  HAS MEDIA                   254085 non-null  int64  \n",
      " 44  APPROVED                    254085 non-null  int64  \n",
      " 45  REVIEWED                    254085 non-null  int64  \n",
      " 46  REASON                      0 non-null       float64\n",
      " 47  TRIP COMMENTS               26319 non-null   object \n",
      " 48  SPECIES COMMENTS            13029 non-null   object \n",
      " 49  Unnamed: 49                 0 non-null       float64\n",
      "dtypes: float64(10), int64(6), object(34)\n",
      "memory usage: 96.9+ MB\n"
     ]
    }
   ],
   "source": [
    "df_init.info()"
   ]
  },
  {
   "cell_type": "code",
   "execution_count": 4,
   "id": "fb1e2cfc",
   "metadata": {},
   "outputs": [],
   "source": [
    "#make it python friendly\n",
    "df_init.columns = df_init.columns.str.lower().str.replace('\\W+','_',regex=True)"
   ]
  },
  {
   "cell_type": "code",
   "execution_count": 5,
   "id": "4799c60c",
   "metadata": {},
   "outputs": [
    {
     "data": {
      "text/html": [
       "<div>\n",
       "<style scoped>\n",
       "    .dataframe tbody tr th:only-of-type {\n",
       "        vertical-align: middle;\n",
       "    }\n",
       "\n",
       "    .dataframe tbody tr th {\n",
       "        vertical-align: top;\n",
       "    }\n",
       "\n",
       "    .dataframe thead th {\n",
       "        text-align: right;\n",
       "    }\n",
       "</style>\n",
       "<table border=\"1\" class=\"dataframe\">\n",
       "  <thead>\n",
       "    <tr style=\"text-align: right;\">\n",
       "      <th></th>\n",
       "      <th>global_unique_identifier</th>\n",
       "      <th>last_edited_date</th>\n",
       "      <th>taxonomic_order</th>\n",
       "      <th>category</th>\n",
       "      <th>taxon_concept_id</th>\n",
       "      <th>common_name</th>\n",
       "      <th>scientific_name</th>\n",
       "      <th>subspecies_common_name</th>\n",
       "      <th>subspecies_scientific_name</th>\n",
       "      <th>exotic_code</th>\n",
       "      <th>...</th>\n",
       "      <th>number_observers</th>\n",
       "      <th>all_species_reported</th>\n",
       "      <th>group_identifier</th>\n",
       "      <th>has_media</th>\n",
       "      <th>approved</th>\n",
       "      <th>reviewed</th>\n",
       "      <th>reason</th>\n",
       "      <th>trip_comments</th>\n",
       "      <th>species_comments</th>\n",
       "      <th>unnamed_49</th>\n",
       "    </tr>\n",
       "  </thead>\n",
       "  <tbody>\n",
       "    <tr>\n",
       "      <th>0</th>\n",
       "      <td>URN:CornellLabOfOrnithology:EBIRD:OBS1604293624</td>\n",
       "      <td>2023-01-11 23:54:00.580061</td>\n",
       "      <td>5751</td>\n",
       "      <td>species</td>\n",
       "      <td>avibase-8EB0C1FA</td>\n",
       "      <td>American Avocet</td>\n",
       "      <td>Recurvirostra americana</td>\n",
       "      <td>NaN</td>\n",
       "      <td>NaN</td>\n",
       "      <td>NaN</td>\n",
       "      <td>...</td>\n",
       "      <td>1.0</td>\n",
       "      <td>1</td>\n",
       "      <td>NaN</td>\n",
       "      <td>0</td>\n",
       "      <td>1</td>\n",
       "      <td>0</td>\n",
       "      <td>NaN</td>\n",
       "      <td>NaN</td>\n",
       "      <td>Seen and heard in flight over Bird Pond; indiv...</td>\n",
       "      <td>NaN</td>\n",
       "    </tr>\n",
       "    <tr>\n",
       "      <th>1</th>\n",
       "      <td>URN:CornellLabOfOrnithology:EBIRD:OBS1595602863</td>\n",
       "      <td>2023-10-25 00:17:23.078205</td>\n",
       "      <td>7335</td>\n",
       "      <td>species</td>\n",
       "      <td>avibase-13E9F9B4</td>\n",
       "      <td>American Bittern</td>\n",
       "      <td>Botaurus lentiginosus</td>\n",
       "      <td>NaN</td>\n",
       "      <td>NaN</td>\n",
       "      <td>NaN</td>\n",
       "      <td>...</td>\n",
       "      <td>2.0</td>\n",
       "      <td>1</td>\n",
       "      <td>NaN</td>\n",
       "      <td>0</td>\n",
       "      <td>1</td>\n",
       "      <td>0</td>\n",
       "      <td>NaN</td>\n",
       "      <td>NaN</td>\n",
       "      <td>NaN</td>\n",
       "      <td>NaN</td>\n",
       "    </tr>\n",
       "    <tr>\n",
       "      <th>2</th>\n",
       "      <td>URN:CornellLabOfOrnithology:EBIRD:OBS1607571036</td>\n",
       "      <td>2023-01-15 21:40:16.314384</td>\n",
       "      <td>21168</td>\n",
       "      <td>species</td>\n",
       "      <td>avibase-69544B59</td>\n",
       "      <td>American Crow</td>\n",
       "      <td>Corvus brachyrhynchos</td>\n",
       "      <td>NaN</td>\n",
       "      <td>NaN</td>\n",
       "      <td>NaN</td>\n",
       "      <td>...</td>\n",
       "      <td>1.0</td>\n",
       "      <td>0</td>\n",
       "      <td>NaN</td>\n",
       "      <td>0</td>\n",
       "      <td>1</td>\n",
       "      <td>0</td>\n",
       "      <td>NaN</td>\n",
       "      <td>NaN</td>\n",
       "      <td>NaN</td>\n",
       "      <td>NaN</td>\n",
       "    </tr>\n",
       "    <tr>\n",
       "      <th>3</th>\n",
       "      <td>URN:CornellLabOfOrnithology:EBIRD:OBS1611944707</td>\n",
       "      <td>2023-01-21 17:57:44.50285</td>\n",
       "      <td>21168</td>\n",
       "      <td>species</td>\n",
       "      <td>avibase-69544B59</td>\n",
       "      <td>American Crow</td>\n",
       "      <td>Corvus brachyrhynchos</td>\n",
       "      <td>NaN</td>\n",
       "      <td>NaN</td>\n",
       "      <td>NaN</td>\n",
       "      <td>...</td>\n",
       "      <td>13.0</td>\n",
       "      <td>1</td>\n",
       "      <td>G9532004</td>\n",
       "      <td>0</td>\n",
       "      <td>1</td>\n",
       "      <td>0</td>\n",
       "      <td>NaN</td>\n",
       "      <td>This was a bird walk for the Bexar Audubon Soc...</td>\n",
       "      <td>NaN</td>\n",
       "      <td>NaN</td>\n",
       "    </tr>\n",
       "    <tr>\n",
       "      <th>4</th>\n",
       "      <td>URN:CornellLabOfOrnithology:EBIRD:OBS1610976542</td>\n",
       "      <td>2023-01-20 15:08:11.491595</td>\n",
       "      <td>21168</td>\n",
       "      <td>species</td>\n",
       "      <td>avibase-69544B59</td>\n",
       "      <td>American Crow</td>\n",
       "      <td>Corvus brachyrhynchos</td>\n",
       "      <td>NaN</td>\n",
       "      <td>NaN</td>\n",
       "      <td>NaN</td>\n",
       "      <td>...</td>\n",
       "      <td>1.0</td>\n",
       "      <td>1</td>\n",
       "      <td>NaN</td>\n",
       "      <td>0</td>\n",
       "      <td>1</td>\n",
       "      <td>0</td>\n",
       "      <td>NaN</td>\n",
       "      <td>NaN</td>\n",
       "      <td>NaN</td>\n",
       "      <td>NaN</td>\n",
       "    </tr>\n",
       "  </tbody>\n",
       "</table>\n",
       "<p>5 rows × 50 columns</p>\n",
       "</div>"
      ],
      "text/plain": [
       "                          global_unique_identifier  \\\n",
       "0  URN:CornellLabOfOrnithology:EBIRD:OBS1604293624   \n",
       "1  URN:CornellLabOfOrnithology:EBIRD:OBS1595602863   \n",
       "2  URN:CornellLabOfOrnithology:EBIRD:OBS1607571036   \n",
       "3  URN:CornellLabOfOrnithology:EBIRD:OBS1611944707   \n",
       "4  URN:CornellLabOfOrnithology:EBIRD:OBS1610976542   \n",
       "\n",
       "             last_edited_date  taxonomic_order category  taxon_concept_id  \\\n",
       "0  2023-01-11 23:54:00.580061             5751  species  avibase-8EB0C1FA   \n",
       "1  2023-10-25 00:17:23.078205             7335  species  avibase-13E9F9B4   \n",
       "2  2023-01-15 21:40:16.314384            21168  species  avibase-69544B59   \n",
       "3   2023-01-21 17:57:44.50285            21168  species  avibase-69544B59   \n",
       "4  2023-01-20 15:08:11.491595            21168  species  avibase-69544B59   \n",
       "\n",
       "        common_name          scientific_name subspecies_common_name  \\\n",
       "0   American Avocet  Recurvirostra americana                    NaN   \n",
       "1  American Bittern    Botaurus lentiginosus                    NaN   \n",
       "2     American Crow    Corvus brachyrhynchos                    NaN   \n",
       "3     American Crow    Corvus brachyrhynchos                    NaN   \n",
       "4     American Crow    Corvus brachyrhynchos                    NaN   \n",
       "\n",
       "  subspecies_scientific_name exotic_code  ... number_observers  \\\n",
       "0                        NaN         NaN  ...              1.0   \n",
       "1                        NaN         NaN  ...              2.0   \n",
       "2                        NaN         NaN  ...              1.0   \n",
       "3                        NaN         NaN  ...             13.0   \n",
       "4                        NaN         NaN  ...              1.0   \n",
       "\n",
       "  all_species_reported group_identifier has_media approved reviewed reason  \\\n",
       "0                    1              NaN         0        1        0    NaN   \n",
       "1                    1              NaN         0        1        0    NaN   \n",
       "2                    0              NaN         0        1        0    NaN   \n",
       "3                    1         G9532004         0        1        0    NaN   \n",
       "4                    1              NaN         0        1        0    NaN   \n",
       "\n",
       "                                       trip_comments  \\\n",
       "0                                                NaN   \n",
       "1                                                NaN   \n",
       "2                                                NaN   \n",
       "3  This was a bird walk for the Bexar Audubon Soc...   \n",
       "4                                                NaN   \n",
       "\n",
       "                                    species_comments unnamed_49  \n",
       "0  Seen and heard in flight over Bird Pond; indiv...        NaN  \n",
       "1                                                NaN        NaN  \n",
       "2                                                NaN        NaN  \n",
       "3                                                NaN        NaN  \n",
       "4                                                NaN        NaN  \n",
       "\n",
       "[5 rows x 50 columns]"
      ]
     },
     "execution_count": 5,
     "metadata": {},
     "output_type": "execute_result"
    }
   ],
   "source": [
    "df_init.head()"
   ]
  },
  {
   "cell_type": "code",
   "execution_count": 6,
   "id": "dfb28213",
   "metadata": {},
   "outputs": [
    {
     "data": {
      "text/plain": [
       "(254085, 50)"
      ]
     },
     "execution_count": 6,
     "metadata": {},
     "output_type": "execute_result"
    }
   ],
   "source": [
    "df_init.shape"
   ]
  },
  {
   "cell_type": "markdown",
   "id": "b80eec53",
   "metadata": {},
   "source": [
    "## prepare part 1"
   ]
  },
  {
   "cell_type": "code",
   "execution_count": 7,
   "id": "89218a96",
   "metadata": {},
   "outputs": [
    {
     "data": {
      "text/html": [
       "<div>\n",
       "<style scoped>\n",
       "    .dataframe tbody tr th:only-of-type {\n",
       "        vertical-align: middle;\n",
       "    }\n",
       "\n",
       "    .dataframe tbody tr th {\n",
       "        vertical-align: top;\n",
       "    }\n",
       "\n",
       "    .dataframe thead th {\n",
       "        text-align: right;\n",
       "    }\n",
       "</style>\n",
       "<table border=\"1\" class=\"dataframe\">\n",
       "  <thead>\n",
       "    <tr style=\"text-align: right;\">\n",
       "      <th></th>\n",
       "      <th>global_unique_identifier</th>\n",
       "      <th>last_edited_date</th>\n",
       "      <th>taxonomic_order</th>\n",
       "      <th>category</th>\n",
       "      <th>taxon_concept_id</th>\n",
       "      <th>common_name</th>\n",
       "      <th>scientific_name</th>\n",
       "      <th>subspecies_common_name</th>\n",
       "      <th>subspecies_scientific_name</th>\n",
       "      <th>exotic_code</th>\n",
       "      <th>...</th>\n",
       "      <th>number_observers</th>\n",
       "      <th>all_species_reported</th>\n",
       "      <th>group_identifier</th>\n",
       "      <th>has_media</th>\n",
       "      <th>approved</th>\n",
       "      <th>reviewed</th>\n",
       "      <th>reason</th>\n",
       "      <th>trip_comments</th>\n",
       "      <th>species_comments</th>\n",
       "      <th>unnamed_49</th>\n",
       "    </tr>\n",
       "  </thead>\n",
       "  <tbody>\n",
       "    <tr>\n",
       "      <th>0</th>\n",
       "      <td>URN:CornellLabOfOrnithology:EBIRD:OBS1604293624</td>\n",
       "      <td>2023-01-11 23:54:00.580061</td>\n",
       "      <td>5751</td>\n",
       "      <td>species</td>\n",
       "      <td>avibase-8EB0C1FA</td>\n",
       "      <td>American Avocet</td>\n",
       "      <td>Recurvirostra americana</td>\n",
       "      <td>NaN</td>\n",
       "      <td>NaN</td>\n",
       "      <td>NaN</td>\n",
       "      <td>...</td>\n",
       "      <td>1.0</td>\n",
       "      <td>1</td>\n",
       "      <td>NaN</td>\n",
       "      <td>0</td>\n",
       "      <td>1</td>\n",
       "      <td>0</td>\n",
       "      <td>NaN</td>\n",
       "      <td>NaN</td>\n",
       "      <td>Seen and heard in flight over Bird Pond; indiv...</td>\n",
       "      <td>NaN</td>\n",
       "    </tr>\n",
       "    <tr>\n",
       "      <th>1</th>\n",
       "      <td>URN:CornellLabOfOrnithology:EBIRD:OBS1595602863</td>\n",
       "      <td>2023-10-25 00:17:23.078205</td>\n",
       "      <td>7335</td>\n",
       "      <td>species</td>\n",
       "      <td>avibase-13E9F9B4</td>\n",
       "      <td>American Bittern</td>\n",
       "      <td>Botaurus lentiginosus</td>\n",
       "      <td>NaN</td>\n",
       "      <td>NaN</td>\n",
       "      <td>NaN</td>\n",
       "      <td>...</td>\n",
       "      <td>2.0</td>\n",
       "      <td>1</td>\n",
       "      <td>NaN</td>\n",
       "      <td>0</td>\n",
       "      <td>1</td>\n",
       "      <td>0</td>\n",
       "      <td>NaN</td>\n",
       "      <td>NaN</td>\n",
       "      <td>NaN</td>\n",
       "      <td>NaN</td>\n",
       "    </tr>\n",
       "    <tr>\n",
       "      <th>2</th>\n",
       "      <td>URN:CornellLabOfOrnithology:EBIRD:OBS1607571036</td>\n",
       "      <td>2023-01-15 21:40:16.314384</td>\n",
       "      <td>21168</td>\n",
       "      <td>species</td>\n",
       "      <td>avibase-69544B59</td>\n",
       "      <td>American Crow</td>\n",
       "      <td>Corvus brachyrhynchos</td>\n",
       "      <td>NaN</td>\n",
       "      <td>NaN</td>\n",
       "      <td>NaN</td>\n",
       "      <td>...</td>\n",
       "      <td>1.0</td>\n",
       "      <td>0</td>\n",
       "      <td>NaN</td>\n",
       "      <td>0</td>\n",
       "      <td>1</td>\n",
       "      <td>0</td>\n",
       "      <td>NaN</td>\n",
       "      <td>NaN</td>\n",
       "      <td>NaN</td>\n",
       "      <td>NaN</td>\n",
       "    </tr>\n",
       "    <tr>\n",
       "      <th>3</th>\n",
       "      <td>URN:CornellLabOfOrnithology:EBIRD:OBS1611944707</td>\n",
       "      <td>2023-01-21 17:57:44.50285</td>\n",
       "      <td>21168</td>\n",
       "      <td>species</td>\n",
       "      <td>avibase-69544B59</td>\n",
       "      <td>American Crow</td>\n",
       "      <td>Corvus brachyrhynchos</td>\n",
       "      <td>NaN</td>\n",
       "      <td>NaN</td>\n",
       "      <td>NaN</td>\n",
       "      <td>...</td>\n",
       "      <td>13.0</td>\n",
       "      <td>1</td>\n",
       "      <td>G9532004</td>\n",
       "      <td>0</td>\n",
       "      <td>1</td>\n",
       "      <td>0</td>\n",
       "      <td>NaN</td>\n",
       "      <td>This was a bird walk for the Bexar Audubon Soc...</td>\n",
       "      <td>NaN</td>\n",
       "      <td>NaN</td>\n",
       "    </tr>\n",
       "    <tr>\n",
       "      <th>4</th>\n",
       "      <td>URN:CornellLabOfOrnithology:EBIRD:OBS1610976542</td>\n",
       "      <td>2023-01-20 15:08:11.491595</td>\n",
       "      <td>21168</td>\n",
       "      <td>species</td>\n",
       "      <td>avibase-69544B59</td>\n",
       "      <td>American Crow</td>\n",
       "      <td>Corvus brachyrhynchos</td>\n",
       "      <td>NaN</td>\n",
       "      <td>NaN</td>\n",
       "      <td>NaN</td>\n",
       "      <td>...</td>\n",
       "      <td>1.0</td>\n",
       "      <td>1</td>\n",
       "      <td>NaN</td>\n",
       "      <td>0</td>\n",
       "      <td>1</td>\n",
       "      <td>0</td>\n",
       "      <td>NaN</td>\n",
       "      <td>NaN</td>\n",
       "      <td>NaN</td>\n",
       "      <td>NaN</td>\n",
       "    </tr>\n",
       "  </tbody>\n",
       "</table>\n",
       "<p>5 rows × 50 columns</p>\n",
       "</div>"
      ],
      "text/plain": [
       "                          global_unique_identifier  \\\n",
       "0  URN:CornellLabOfOrnithology:EBIRD:OBS1604293624   \n",
       "1  URN:CornellLabOfOrnithology:EBIRD:OBS1595602863   \n",
       "2  URN:CornellLabOfOrnithology:EBIRD:OBS1607571036   \n",
       "3  URN:CornellLabOfOrnithology:EBIRD:OBS1611944707   \n",
       "4  URN:CornellLabOfOrnithology:EBIRD:OBS1610976542   \n",
       "\n",
       "             last_edited_date  taxonomic_order category  taxon_concept_id  \\\n",
       "0  2023-01-11 23:54:00.580061             5751  species  avibase-8EB0C1FA   \n",
       "1  2023-10-25 00:17:23.078205             7335  species  avibase-13E9F9B4   \n",
       "2  2023-01-15 21:40:16.314384            21168  species  avibase-69544B59   \n",
       "3   2023-01-21 17:57:44.50285            21168  species  avibase-69544B59   \n",
       "4  2023-01-20 15:08:11.491595            21168  species  avibase-69544B59   \n",
       "\n",
       "        common_name          scientific_name subspecies_common_name  \\\n",
       "0   American Avocet  Recurvirostra americana                    NaN   \n",
       "1  American Bittern    Botaurus lentiginosus                    NaN   \n",
       "2     American Crow    Corvus brachyrhynchos                    NaN   \n",
       "3     American Crow    Corvus brachyrhynchos                    NaN   \n",
       "4     American Crow    Corvus brachyrhynchos                    NaN   \n",
       "\n",
       "  subspecies_scientific_name exotic_code  ... number_observers  \\\n",
       "0                        NaN         NaN  ...              1.0   \n",
       "1                        NaN         NaN  ...              2.0   \n",
       "2                        NaN         NaN  ...              1.0   \n",
       "3                        NaN         NaN  ...             13.0   \n",
       "4                        NaN         NaN  ...              1.0   \n",
       "\n",
       "  all_species_reported group_identifier has_media approved reviewed reason  \\\n",
       "0                    1              NaN         0        1        0    NaN   \n",
       "1                    1              NaN         0        1        0    NaN   \n",
       "2                    0              NaN         0        1        0    NaN   \n",
       "3                    1         G9532004         0        1        0    NaN   \n",
       "4                    1              NaN         0        1        0    NaN   \n",
       "\n",
       "                                       trip_comments  \\\n",
       "0                                                NaN   \n",
       "1                                                NaN   \n",
       "2                                                NaN   \n",
       "3  This was a bird walk for the Bexar Audubon Soc...   \n",
       "4                                                NaN   \n",
       "\n",
       "                                    species_comments unnamed_49  \n",
       "0  Seen and heard in flight over Bird Pond; indiv...        NaN  \n",
       "1                                                NaN        NaN  \n",
       "2                                                NaN        NaN  \n",
       "3                                                NaN        NaN  \n",
       "4                                                NaN        NaN  \n",
       "\n",
       "[5 rows x 50 columns]"
      ]
     },
     "execution_count": 7,
     "metadata": {},
     "output_type": "execute_result"
    }
   ],
   "source": [
    "df_init.head()"
   ]
  },
  {
   "cell_type": "markdown",
   "id": "4d91e392",
   "metadata": {},
   "source": [
    "#### drop rows with nothing in them"
   ]
  },
  {
   "cell_type": "code",
   "execution_count": 8,
   "id": "87d81327",
   "metadata": {},
   "outputs": [],
   "source": [
    "df_init = df_init.dropna(how='all',axis=1)"
   ]
  },
  {
   "cell_type": "markdown",
   "id": "9be5b245",
   "metadata": {},
   "source": [
    "#### drop all the columns not useful for this analysis"
   ]
  },
  {
   "cell_type": "code",
   "execution_count": 9,
   "id": "6bbaa9be",
   "metadata": {},
   "outputs": [],
   "source": [
    "df = df_init.drop(columns=['global_unique_identifier','last_edited_date','taxon_concept_id',\n",
    "                                'scientific_name','subspecies_common_name','subspecies_scientific_name',\n",
    "                                'exotic_code','breeding_code','breeding_category','behavior_code',\n",
    "                                'age_sex','country','country_code','state_code','state','county',\n",
    "                                'county_code','iba_code','bcr_code', 'locality_id', 'locality_type',\n",
    "                                'protocol_code','protocol_type', 'project_code','effort_area_ha',\n",
    "                                'has_media','approved','reviewed'])"
   ]
  },
  {
   "cell_type": "markdown",
   "id": "17bd0cc1",
   "metadata": {},
   "source": [
    "# State of Bexar Bird/ers in 2023"
   ]
  },
  {
   "cell_type": "code",
   "execution_count": 10,
   "id": "9ea1fbbd",
   "metadata": {},
   "outputs": [
    {
     "data": {
      "text/html": [
       "<div>\n",
       "<style scoped>\n",
       "    .dataframe tbody tr th:only-of-type {\n",
       "        vertical-align: middle;\n",
       "    }\n",
       "\n",
       "    .dataframe tbody tr th {\n",
       "        vertical-align: top;\n",
       "    }\n",
       "\n",
       "    .dataframe thead th {\n",
       "        text-align: right;\n",
       "    }\n",
       "</style>\n",
       "<table border=\"1\" class=\"dataframe\">\n",
       "  <thead>\n",
       "    <tr style=\"text-align: right;\">\n",
       "      <th></th>\n",
       "      <th>taxonomic_order</th>\n",
       "      <th>category</th>\n",
       "      <th>common_name</th>\n",
       "      <th>observation_count</th>\n",
       "      <th>locality</th>\n",
       "      <th>latitude</th>\n",
       "      <th>longitude</th>\n",
       "      <th>observation_date</th>\n",
       "      <th>time_observations_started</th>\n",
       "      <th>observer_id</th>\n",
       "      <th>sampling_event_identifier</th>\n",
       "      <th>duration_minutes</th>\n",
       "      <th>effort_distance_km</th>\n",
       "      <th>number_observers</th>\n",
       "      <th>all_species_reported</th>\n",
       "      <th>group_identifier</th>\n",
       "      <th>trip_comments</th>\n",
       "      <th>species_comments</th>\n",
       "    </tr>\n",
       "  </thead>\n",
       "  <tbody>\n",
       "    <tr>\n",
       "      <th>0</th>\n",
       "      <td>5751</td>\n",
       "      <td>species</td>\n",
       "      <td>American Avocet</td>\n",
       "      <td>1</td>\n",
       "      <td>Mitchell Lake Audubon Center</td>\n",
       "      <td>29.304862</td>\n",
       "      <td>-98.497704</td>\n",
       "      <td>2023-01-11</td>\n",
       "      <td>07:30:00</td>\n",
       "      <td>obsr3537385</td>\n",
       "      <td>S125972869</td>\n",
       "      <td>180.0</td>\n",
       "      <td>3.219</td>\n",
       "      <td>1.0</td>\n",
       "      <td>1</td>\n",
       "      <td>NaN</td>\n",
       "      <td>NaN</td>\n",
       "      <td>Seen and heard in flight over Bird Pond; indiv...</td>\n",
       "    </tr>\n",
       "    <tr>\n",
       "      <th>1</th>\n",
       "      <td>7335</td>\n",
       "      <td>species</td>\n",
       "      <td>American Bittern</td>\n",
       "      <td>1</td>\n",
       "      <td>Medina River Greenway--Pleasanton Rd Trailhead</td>\n",
       "      <td>29.270249</td>\n",
       "      <td>-98.494046</td>\n",
       "      <td>2023-01-02</td>\n",
       "      <td>08:50:00</td>\n",
       "      <td>obsr1483904</td>\n",
       "      <td>S125181190</td>\n",
       "      <td>74.0</td>\n",
       "      <td>1.724</td>\n",
       "      <td>2.0</td>\n",
       "      <td>1</td>\n",
       "      <td>NaN</td>\n",
       "      <td>NaN</td>\n",
       "      <td>NaN</td>\n",
       "    </tr>\n",
       "    <tr>\n",
       "      <th>2</th>\n",
       "      <td>21168</td>\n",
       "      <td>species</td>\n",
       "      <td>American Crow</td>\n",
       "      <td>4</td>\n",
       "      <td>Olmos Basin Park, San Antonio US-TX (29.4734,-...</td>\n",
       "      <td>29.473376</td>\n",
       "      <td>-98.476835</td>\n",
       "      <td>2023-01-15</td>\n",
       "      <td>15:30:00</td>\n",
       "      <td>obsr2096377</td>\n",
       "      <td>S126262342</td>\n",
       "      <td>NaN</td>\n",
       "      <td>NaN</td>\n",
       "      <td>1.0</td>\n",
       "      <td>0</td>\n",
       "      <td>NaN</td>\n",
       "      <td>NaN</td>\n",
       "      <td>NaN</td>\n",
       "    </tr>\n",
       "    <tr>\n",
       "      <th>3</th>\n",
       "      <td>21168</td>\n",
       "      <td>species</td>\n",
       "      <td>American Crow</td>\n",
       "      <td>2</td>\n",
       "      <td>Medina River Greenway--Pleasanton Rd Trailhead</td>\n",
       "      <td>29.270249</td>\n",
       "      <td>-98.494046</td>\n",
       "      <td>2023-01-21</td>\n",
       "      <td>08:03:00</td>\n",
       "      <td>obsr3073010</td>\n",
       "      <td>S126645616</td>\n",
       "      <td>108.0</td>\n",
       "      <td>1.650</td>\n",
       "      <td>13.0</td>\n",
       "      <td>1</td>\n",
       "      <td>G9532004</td>\n",
       "      <td>This was a bird walk for the Bexar Audubon Soc...</td>\n",
       "      <td>NaN</td>\n",
       "    </tr>\n",
       "    <tr>\n",
       "      <th>4</th>\n",
       "      <td>21168</td>\n",
       "      <td>species</td>\n",
       "      <td>American Crow</td>\n",
       "      <td>3</td>\n",
       "      <td>Bexar Co.--Hardy/Mathis Rd. (E. of I-37)</td>\n",
       "      <td>29.135219</td>\n",
       "      <td>-98.412738</td>\n",
       "      <td>2023-01-20</td>\n",
       "      <td>08:00:00</td>\n",
       "      <td>obsr59645</td>\n",
       "      <td>S126554160</td>\n",
       "      <td>180.0</td>\n",
       "      <td>32.187</td>\n",
       "      <td>1.0</td>\n",
       "      <td>1</td>\n",
       "      <td>NaN</td>\n",
       "      <td>NaN</td>\n",
       "      <td>NaN</td>\n",
       "    </tr>\n",
       "  </tbody>\n",
       "</table>\n",
       "</div>"
      ],
      "text/plain": [
       "   taxonomic_order category       common_name observation_count  \\\n",
       "0             5751  species   American Avocet                 1   \n",
       "1             7335  species  American Bittern                 1   \n",
       "2            21168  species     American Crow                 4   \n",
       "3            21168  species     American Crow                 2   \n",
       "4            21168  species     American Crow                 3   \n",
       "\n",
       "                                            locality   latitude  longitude  \\\n",
       "0                       Mitchell Lake Audubon Center  29.304862 -98.497704   \n",
       "1     Medina River Greenway--Pleasanton Rd Trailhead  29.270249 -98.494046   \n",
       "2  Olmos Basin Park, San Antonio US-TX (29.4734,-...  29.473376 -98.476835   \n",
       "3     Medina River Greenway--Pleasanton Rd Trailhead  29.270249 -98.494046   \n",
       "4           Bexar Co.--Hardy/Mathis Rd. (E. of I-37)  29.135219 -98.412738   \n",
       "\n",
       "  observation_date time_observations_started  observer_id  \\\n",
       "0       2023-01-11                  07:30:00  obsr3537385   \n",
       "1       2023-01-02                  08:50:00  obsr1483904   \n",
       "2       2023-01-15                  15:30:00  obsr2096377   \n",
       "3       2023-01-21                  08:03:00  obsr3073010   \n",
       "4       2023-01-20                  08:00:00    obsr59645   \n",
       "\n",
       "  sampling_event_identifier  duration_minutes  effort_distance_km  \\\n",
       "0                S125972869             180.0               3.219   \n",
       "1                S125181190              74.0               1.724   \n",
       "2                S126262342               NaN                 NaN   \n",
       "3                S126645616             108.0               1.650   \n",
       "4                S126554160             180.0              32.187   \n",
       "\n",
       "   number_observers  all_species_reported group_identifier  \\\n",
       "0               1.0                     1              NaN   \n",
       "1               2.0                     1              NaN   \n",
       "2               1.0                     0              NaN   \n",
       "3              13.0                     1         G9532004   \n",
       "4               1.0                     1              NaN   \n",
       "\n",
       "                                       trip_comments  \\\n",
       "0                                                NaN   \n",
       "1                                                NaN   \n",
       "2                                                NaN   \n",
       "3  This was a bird walk for the Bexar Audubon Soc...   \n",
       "4                                                NaN   \n",
       "\n",
       "                                    species_comments  \n",
       "0  Seen and heard in flight over Bird Pond; indiv...  \n",
       "1                                                NaN  \n",
       "2                                                NaN  \n",
       "3                                                NaN  \n",
       "4                                                NaN  "
      ]
     },
     "execution_count": 10,
     "metadata": {},
     "output_type": "execute_result"
    }
   ],
   "source": [
    "df.head()"
   ]
  },
  {
   "cell_type": "markdown",
   "id": "58550aa7",
   "metadata": {},
   "source": [
    "### number of species seen"
   ]
  },
  {
   "cell_type": "code",
   "execution_count": 11,
   "id": "056a2838",
   "metadata": {},
   "outputs": [
    {
     "data": {
      "text/plain": [
       "492"
      ]
     },
     "execution_count": 11,
     "metadata": {},
     "output_type": "execute_result"
    }
   ],
   "source": [
    "df.taxonomic_order.nunique()"
   ]
  },
  {
   "cell_type": "markdown",
   "id": "333e078b",
   "metadata": {},
   "source": [
    "> this value includes hybrids and unknowns"
   ]
  },
  {
   "cell_type": "code",
   "execution_count": 12,
   "id": "cd72954f",
   "metadata": {},
   "outputs": [
    {
     "data": {
      "text/plain": [
       "339"
      ]
     },
     "execution_count": 12,
     "metadata": {},
     "output_type": "execute_result"
    }
   ],
   "source": [
    "df [df.category == 'species'].taxonomic_order.nunique()"
   ]
  },
  {
   "cell_type": "markdown",
   "id": "4517f61f",
   "metadata": {},
   "source": [
    "> there were 339 different species observered"
   ]
  },
  {
   "cell_type": "markdown",
   "id": "a4c8f183",
   "metadata": {},
   "source": [
    "### bird watching places"
   ]
  },
  {
   "cell_type": "code",
   "execution_count": 13,
   "id": "3e2afd96",
   "metadata": {},
   "outputs": [
    {
     "data": {
      "text/plain": [
       "3347"
      ]
     },
     "execution_count": 13,
     "metadata": {},
     "output_type": "execute_result"
    }
   ],
   "source": [
    "df.locality.nunique()"
   ]
  },
  {
   "cell_type": "markdown",
   "id": "fc195bf8",
   "metadata": {},
   "source": [
    "> there were 3347 different places logged for birdwatching"
   ]
  },
  {
   "cell_type": "markdown",
   "id": "af1c5da4",
   "metadata": {},
   "source": [
    "the following sites are the top ten hotspots based on species seen:\n",
    "\n",
    "        1\tMitchell Lake Audubon Center (HOTE 103)\t353\n",
    "        2\tBraunig Lake (HOTE 101)\t277\n",
    "        3\tBrackenridge Park (Avenue A & River Rd.)\t269\n",
    "        4\tCrescent Bend Nature Park (Bexar Co.)\t268\n",
    "        5\tCalaveras Lake (HOTE 100)\t266\n",
    "        6\tSan Antonio Botanical Garden (HOTE 096)\t255\n",
    "        7\tMedina River Natural Area (HOTE 104)\t242\n",
    "        8\tLive Oak City Park\t240\n",
    "        9\tSouth Side Lions Park (HOTE 099)\t229\n",
    "        10\tBexar Co.--S. Evans Rd Lake\t228\n",
    "        \n",
    "how does that compare to where birders actually went?"
   ]
  },
  {
   "cell_type": "code",
   "execution_count": 14,
   "id": "46c372b2",
   "metadata": {},
   "outputs": [
    {
     "data": {
      "text/plain": [
       "Mitchell Lake Audubon Center (HOTE 103)                           1394\n",
       "Crescent Bend Nature Park (Bexar Co.)                              920\n",
       "San Antonio Botanical Garden (HOTE 096)                            591\n",
       "Home-Las Cimas: balcony                                            411\n",
       "Brackenridge Park (Avenue A & River Rd.)                           346\n",
       "Home                                                               304\n",
       "209 Winged Teal                                                    302\n",
       "Wiltshire Yard                                                     299\n",
       "Government Canyon SNA (HOTE 085)                                   277\n",
       "Honeydew Ridge, San Antonio US-TX 29.47995, -98.75086              240\n",
       "Backyard                                                           194\n",
       "Brackenridge Park (HOTE 095)                                       192\n",
       "Braunig Lake (HOTE 101)                                            187\n",
       "Woodlawn Lake (HOTE 093)                                           180\n",
       "Leon Creek Greenway--Buddy Calk Trailhead/Earl Scott Pond area     172\n",
       "Name: locality, dtype: int64"
      ]
     },
     "execution_count": 14,
     "metadata": {},
     "output_type": "execute_result"
    }
   ],
   "source": [
    "df[['sampling_event_identifier','locality']].drop_duplicates().locality.value_counts().head(15)"
   ]
  },
  {
   "cell_type": "code",
   "execution_count": 15,
   "id": "29f89a33",
   "metadata": {},
   "outputs": [
    {
     "data": {
      "text/plain": [
       "197"
      ]
     },
     "execution_count": 15,
     "metadata": {},
     "output_type": "execute_result"
    }
   ],
   "source": [
    "df[['sampling_event_identifier','locality']].drop_duplicates().locality.str.contains('Braunig').sum()"
   ]
  },
  {
   "cell_type": "markdown",
   "id": "81dddc35",
   "metadata": {},
   "source": [
    "> both Braunig Lake and Calaveras Lake appear to be an underutilized site for birdwatching"
   ]
  },
  {
   "cell_type": "markdown",
   "id": "665a3aa0",
   "metadata": {},
   "source": [
    "### popular birding days"
   ]
  },
  {
   "cell_type": "code",
   "execution_count": 16,
   "id": "3351024e",
   "metadata": {},
   "outputs": [
    {
     "data": {
      "text/plain": [
       "365"
      ]
     },
     "execution_count": 16,
     "metadata": {},
     "output_type": "execute_result"
    }
   ],
   "source": [
    "df.observation_date.nunique()"
   ]
  },
  {
   "cell_type": "markdown",
   "id": "dc172080",
   "metadata": {},
   "source": [
    ">there was at least one list submitted every single day"
   ]
  },
  {
   "cell_type": "code",
   "execution_count": 17,
   "id": "e821360e",
   "metadata": {},
   "outputs": [
    {
     "data": {
      "text/plain": [
       "observation_date\n",
       "2023-12-16    233\n",
       "2023-02-19    203\n",
       "2023-12-17    184\n",
       "2023-02-18    170\n",
       "2023-04-22    165\n",
       "Name: sampling_event_identifier, dtype: int64"
      ]
     },
     "execution_count": 17,
     "metadata": {},
     "output_type": "execute_result"
    }
   ],
   "source": [
    "df.groupby(['observation_date']).sampling_event_identifier.nunique().sort_values(ascending=False).head(5)"
   ]
  },
  {
   "cell_type": "markdown",
   "id": "51c2502a",
   "metadata": {},
   "source": [
    "> december 16 and 17 were christmas count days! and the most popular bird days!\n",
    "\n",
    "> were february 18 and 19 also counting days?"
   ]
  },
  {
   "cell_type": "code",
   "execution_count": 18,
   "id": "774551dd",
   "metadata": {},
   "outputs": [
    {
     "data": {
      "text/plain": [
       "observation_date\n",
       "2023-06-27    17\n",
       "2023-08-03    16\n",
       "2023-06-29    15\n",
       "2023-08-02    15\n",
       "2023-07-10    13\n",
       "Name: sampling_event_identifier, dtype: int64"
      ]
     },
     "execution_count": 18,
     "metadata": {},
     "output_type": "execute_result"
    }
   ],
   "source": [
    "df.groupby(['observation_date']).sampling_event_identifier.nunique().sort_values(ascending=False).tail(5)"
   ]
  },
  {
   "cell_type": "markdown",
   "id": "e11268ea",
   "metadata": {},
   "source": [
    "> on july 10, 2023, only 13 ebird lists were submitted"
   ]
  },
  {
   "cell_type": "markdown",
   "id": "1bcdd0fd",
   "metadata": {},
   "source": [
    "### time of day"
   ]
  },
  {
   "cell_type": "code",
   "execution_count": 19,
   "id": "42243315",
   "metadata": {},
   "outputs": [
    {
     "data": {
      "text/plain": [
       "00       74\n",
       "01        7\n",
       "02       27\n",
       "03       11\n",
       "04       43\n",
       "05      168\n",
       "06     4795\n",
       "07    42720\n",
       "08    57601\n",
       "09    35850\n",
       "10    21339\n",
       "11    17478\n",
       "12    14457\n",
       "13    13030\n",
       "14    10839\n",
       "15     8903\n",
       "16     8865\n",
       "17     8067\n",
       "18     5078\n",
       "19     3183\n",
       "20      886\n",
       "21      136\n",
       "22       81\n",
       "23       57\n",
       "Name: time_observations_started, dtype: int64"
      ]
     },
     "execution_count": 19,
     "metadata": {},
     "output_type": "execute_result"
    }
   ],
   "source": [
    "df.time_observations_started.str[:2].value_counts().sort_index()"
   ]
  },
  {
   "cell_type": "markdown",
   "id": "60a7485c",
   "metadata": {},
   "source": [
    "> 8 am is the most popular start time\n",
    "\n",
    "> why are people starting lists during nighttime hours?"
   ]
  },
  {
   "cell_type": "markdown",
   "id": "d256c3bc",
   "metadata": {},
   "source": [
    "### birders"
   ]
  },
  {
   "cell_type": "code",
   "execution_count": 20,
   "id": "63edcbbe",
   "metadata": {},
   "outputs": [
    {
     "data": {
      "text/plain": [
       "2028"
      ]
     },
     "execution_count": 20,
     "metadata": {},
     "output_type": "execute_result"
    }
   ],
   "source": [
    "df.observer_id.nunique()"
   ]
  },
  {
   "cell_type": "markdown",
   "id": "f9ebbb5d",
   "metadata": {},
   "source": [
    "> there were 2028 birders in 2023"
   ]
  },
  {
   "cell_type": "markdown",
   "id": "7e918d72",
   "metadata": {},
   "source": [
    "#### how many lists each birder submitted"
   ]
  },
  {
   "cell_type": "code",
   "execution_count": 21,
   "id": "3ed7b274",
   "metadata": {},
   "outputs": [
    {
     "data": {
      "text/plain": [
       "observer_id\n",
       "obsr1000095     4\n",
       "obsr1000873     5\n",
       "obsr100089     16\n",
       "obsr1001058     1\n",
       "obsr1002059    14\n",
       "               ..\n",
       "obsr996571      5\n",
       "obsr997493      4\n",
       "obsr998330      1\n",
       "obsr999292      5\n",
       "obsr999479      1\n",
       "Name: sampling_event_identifier, Length: 2028, dtype: int64"
      ]
     },
     "execution_count": 21,
     "metadata": {},
     "output_type": "execute_result"
    }
   ],
   "source": [
    "obvs_ls = df.groupby(['observer_id']).sampling_event_identifier.nunique()\n",
    "obvs_ls"
   ]
  },
  {
   "cell_type": "code",
   "execution_count": 22,
   "id": "3a94d1f3",
   "metadata": {},
   "outputs": [
    {
     "data": {
      "text/plain": [
       "799"
      ]
     },
     "execution_count": 22,
     "metadata": {},
     "output_type": "execute_result"
    }
   ],
   "source": [
    "obvs_ls [obvs_ls == 1 ].count()"
   ]
  },
  {
   "cell_type": "code",
   "execution_count": 23,
   "id": "7b654fe8",
   "metadata": {},
   "outputs": [
    {
     "data": {
      "text/plain": [
       "0.39398422090729784"
      ]
     },
     "execution_count": 23,
     "metadata": {},
     "output_type": "execute_result"
    }
   ],
   "source": [
    "799/2028"
   ]
  },
  {
   "cell_type": "markdown",
   "id": "59ec8797",
   "metadata": {},
   "source": [
    "> 39% of birders only submitted 1 list"
   ]
  },
  {
   "cell_type": "code",
   "execution_count": 24,
   "id": "d0a4fb53",
   "metadata": {},
   "outputs": [
    {
     "data": {
      "text/plain": [
       "9.6"
      ]
     },
     "execution_count": 24,
     "metadata": {},
     "output_type": "execute_result"
    }
   ],
   "source": [
    "round(obvs_ls.mean(),1)"
   ]
  },
  {
   "cell_type": "markdown",
   "id": "f4c27acb",
   "metadata": {},
   "source": [
    "> birders submitted an average of 9.6 checklists"
   ]
  },
  {
   "cell_type": "code",
   "execution_count": 25,
   "id": "7fc9b299",
   "metadata": {},
   "outputs": [
    {
     "data": {
      "text/plain": [
       "<Axes: >"
      ]
     },
     "execution_count": 25,
     "metadata": {},
     "output_type": "execute_result"
    },
    {
     "data": {
      "image/png": "[encoded data removed]",
      "text/plain": [
       "<Figure size 640x480 with 1 Axes>"
      ]
     },
     "metadata": {},
     "output_type": "display_data"
    }
   ],
   "source": [
    "obvs_ls [obvs_ls > 1].hist(bins=30)"
   ]
  },
  {
   "cell_type": "code",
   "execution_count": 26,
   "id": "a5de9546",
   "metadata": {},
   "outputs": [
    {
     "data": {
      "text/plain": [
       "34"
      ]
     },
     "execution_count": 26,
     "metadata": {},
     "output_type": "execute_result"
    }
   ],
   "source": [
    "obvs_ls [obvs_ls > 100].nunique()"
   ]
  },
  {
   "cell_type": "markdown",
   "id": "e8a6d7a4",
   "metadata": {},
   "source": [
    "> only 34 birders submitted over 100 checklists"
   ]
  },
  {
   "cell_type": "markdown",
   "id": "49f11031",
   "metadata": {},
   "source": [
    "### checklists"
   ]
  },
  {
   "cell_type": "code",
   "execution_count": 27,
   "id": "52151be4",
   "metadata": {},
   "outputs": [
    {
     "data": {
      "text/plain": [
       "19427"
      ]
     },
     "execution_count": 27,
     "metadata": {},
     "output_type": "execute_result"
    }
   ],
   "source": [
    "df.sampling_event_identifier.nunique()"
   ]
  },
  {
   "cell_type": "markdown",
   "id": "9abde0c7",
   "metadata": {},
   "source": [
    "> 19,427 ebird lists were submitted"
   ]
  },
  {
   "cell_type": "code",
   "execution_count": 28,
   "id": "ebf9a6a3",
   "metadata": {},
   "outputs": [
    {
     "data": {
      "text/plain": [
       "14806"
      ]
     },
     "execution_count": 28,
     "metadata": {},
     "output_type": "execute_result"
    }
   ],
   "source": [
    "df [df.all_species_reported == 1].sampling_event_identifier.nunique()"
   ]
  },
  {
   "cell_type": "code",
   "execution_count": 29,
   "id": "0534092d",
   "metadata": {},
   "outputs": [
    {
     "data": {
      "text/plain": [
       "0.7621351726977917"
      ]
     },
     "execution_count": 29,
     "metadata": {},
     "output_type": "execute_result"
    }
   ],
   "source": [
    "14806/19427"
   ]
  },
  {
   "cell_type": "markdown",
   "id": "0258a9d3",
   "metadata": {},
   "source": [
    "> 76% of those lists were complete lists"
   ]
  },
  {
   "cell_type": "code",
   "execution_count": 53,
   "id": "471f198e",
   "metadata": {},
   "outputs": [],
   "source": [
    "df.to_csv('condensed_bexar2023.csv')"
   ]
  },
  {
   "cell_type": "code",
   "execution_count": null,
   "id": "91231e0a",
   "metadata": {},
   "outputs": [],
   "source": []
  },
  {
   "cell_type": "markdown",
   "id": "a421fb99",
   "metadata": {},
   "source": [
    "# part 2 - Visualize things "
   ]
  },
  {
   "cell_type": "code",
   "execution_count": 30,
   "id": "0b26c115",
   "metadata": {},
   "outputs": [
    {
     "data": {
      "text/html": [
       "<div>\n",
       "<style scoped>\n",
       "    .dataframe tbody tr th:only-of-type {\n",
       "        vertical-align: middle;\n",
       "    }\n",
       "\n",
       "    .dataframe tbody tr th {\n",
       "        vertical-align: top;\n",
       "    }\n",
       "\n",
       "    .dataframe thead th {\n",
       "        text-align: right;\n",
       "    }\n",
       "</style>\n",
       "<table border=\"1\" class=\"dataframe\">\n",
       "  <thead>\n",
       "    <tr style=\"text-align: right;\">\n",
       "      <th></th>\n",
       "      <th>taxonomic_order</th>\n",
       "      <th>category</th>\n",
       "      <th>common_name</th>\n",
       "      <th>observation_count</th>\n",
       "      <th>locality</th>\n",
       "      <th>latitude</th>\n",
       "      <th>longitude</th>\n",
       "      <th>observation_date</th>\n",
       "      <th>time_observations_started</th>\n",
       "      <th>observer_id</th>\n",
       "      <th>sampling_event_identifier</th>\n",
       "      <th>duration_minutes</th>\n",
       "      <th>effort_distance_km</th>\n",
       "      <th>number_observers</th>\n",
       "      <th>all_species_reported</th>\n",
       "      <th>group_identifier</th>\n",
       "      <th>trip_comments</th>\n",
       "      <th>species_comments</th>\n",
       "    </tr>\n",
       "  </thead>\n",
       "  <tbody>\n",
       "    <tr>\n",
       "      <th>0</th>\n",
       "      <td>5751</td>\n",
       "      <td>species</td>\n",
       "      <td>American Avocet</td>\n",
       "      <td>1</td>\n",
       "      <td>Mitchell Lake Audubon Center</td>\n",
       "      <td>29.304862</td>\n",
       "      <td>-98.497704</td>\n",
       "      <td>2023-01-11</td>\n",
       "      <td>07:30:00</td>\n",
       "      <td>obsr3537385</td>\n",
       "      <td>S125972869</td>\n",
       "      <td>180.0</td>\n",
       "      <td>3.219</td>\n",
       "      <td>1.0</td>\n",
       "      <td>1</td>\n",
       "      <td>NaN</td>\n",
       "      <td>NaN</td>\n",
       "      <td>Seen and heard in flight over Bird Pond; indiv...</td>\n",
       "    </tr>\n",
       "    <tr>\n",
       "      <th>1</th>\n",
       "      <td>7335</td>\n",
       "      <td>species</td>\n",
       "      <td>American Bittern</td>\n",
       "      <td>1</td>\n",
       "      <td>Medina River Greenway--Pleasanton Rd Trailhead</td>\n",
       "      <td>29.270249</td>\n",
       "      <td>-98.494046</td>\n",
       "      <td>2023-01-02</td>\n",
       "      <td>08:50:00</td>\n",
       "      <td>obsr1483904</td>\n",
       "      <td>S125181190</td>\n",
       "      <td>74.0</td>\n",
       "      <td>1.724</td>\n",
       "      <td>2.0</td>\n",
       "      <td>1</td>\n",
       "      <td>NaN</td>\n",
       "      <td>NaN</td>\n",
       "      <td>NaN</td>\n",
       "    </tr>\n",
       "    <tr>\n",
       "      <th>2</th>\n",
       "      <td>21168</td>\n",
       "      <td>species</td>\n",
       "      <td>American Crow</td>\n",
       "      <td>4</td>\n",
       "      <td>Olmos Basin Park, San Antonio US-TX (29.4734,-...</td>\n",
       "      <td>29.473376</td>\n",
       "      <td>-98.476835</td>\n",
       "      <td>2023-01-15</td>\n",
       "      <td>15:30:00</td>\n",
       "      <td>obsr2096377</td>\n",
       "      <td>S126262342</td>\n",
       "      <td>NaN</td>\n",
       "      <td>NaN</td>\n",
       "      <td>1.0</td>\n",
       "      <td>0</td>\n",
       "      <td>NaN</td>\n",
       "      <td>NaN</td>\n",
       "      <td>NaN</td>\n",
       "    </tr>\n",
       "    <tr>\n",
       "      <th>3</th>\n",
       "      <td>21168</td>\n",
       "      <td>species</td>\n",
       "      <td>American Crow</td>\n",
       "      <td>2</td>\n",
       "      <td>Medina River Greenway--Pleasanton Rd Trailhead</td>\n",
       "      <td>29.270249</td>\n",
       "      <td>-98.494046</td>\n",
       "      <td>2023-01-21</td>\n",
       "      <td>08:03:00</td>\n",
       "      <td>obsr3073010</td>\n",
       "      <td>S126645616</td>\n",
       "      <td>108.0</td>\n",
       "      <td>1.650</td>\n",
       "      <td>13.0</td>\n",
       "      <td>1</td>\n",
       "      <td>G9532004</td>\n",
       "      <td>This was a bird walk for the Bexar Audubon Soc...</td>\n",
       "      <td>NaN</td>\n",
       "    </tr>\n",
       "    <tr>\n",
       "      <th>4</th>\n",
       "      <td>21168</td>\n",
       "      <td>species</td>\n",
       "      <td>American Crow</td>\n",
       "      <td>3</td>\n",
       "      <td>Bexar Co.--Hardy/Mathis Rd. (E. of I-37)</td>\n",
       "      <td>29.135219</td>\n",
       "      <td>-98.412738</td>\n",
       "      <td>2023-01-20</td>\n",
       "      <td>08:00:00</td>\n",
       "      <td>obsr59645</td>\n",
       "      <td>S126554160</td>\n",
       "      <td>180.0</td>\n",
       "      <td>32.187</td>\n",
       "      <td>1.0</td>\n",
       "      <td>1</td>\n",
       "      <td>NaN</td>\n",
       "      <td>NaN</td>\n",
       "      <td>NaN</td>\n",
       "    </tr>\n",
       "  </tbody>\n",
       "</table>\n",
       "</div>"
      ],
      "text/plain": [
       "   taxonomic_order category       common_name observation_count  \\\n",
       "0             5751  species   American Avocet                 1   \n",
       "1             7335  species  American Bittern                 1   \n",
       "2            21168  species     American Crow                 4   \n",
       "3            21168  species     American Crow                 2   \n",
       "4            21168  species     American Crow                 3   \n",
       "\n",
       "                                            locality   latitude  longitude  \\\n",
       "0                       Mitchell Lake Audubon Center  29.304862 -98.497704   \n",
       "1     Medina River Greenway--Pleasanton Rd Trailhead  29.270249 -98.494046   \n",
       "2  Olmos Basin Park, San Antonio US-TX (29.4734,-...  29.473376 -98.476835   \n",
       "3     Medina River Greenway--Pleasanton Rd Trailhead  29.270249 -98.494046   \n",
       "4           Bexar Co.--Hardy/Mathis Rd. (E. of I-37)  29.135219 -98.412738   \n",
       "\n",
       "  observation_date time_observations_started  observer_id  \\\n",
       "0       2023-01-11                  07:30:00  obsr3537385   \n",
       "1       2023-01-02                  08:50:00  obsr1483904   \n",
       "2       2023-01-15                  15:30:00  obsr2096377   \n",
       "3       2023-01-21                  08:03:00  obsr3073010   \n",
       "4       2023-01-20                  08:00:00    obsr59645   \n",
       "\n",
       "  sampling_event_identifier  duration_minutes  effort_distance_km  \\\n",
       "0                S125972869             180.0               3.219   \n",
       "1                S125181190              74.0               1.724   \n",
       "2                S126262342               NaN                 NaN   \n",
       "3                S126645616             108.0               1.650   \n",
       "4                S126554160             180.0              32.187   \n",
       "\n",
       "   number_observers  all_species_reported group_identifier  \\\n",
       "0               1.0                     1              NaN   \n",
       "1               2.0                     1              NaN   \n",
       "2               1.0                     0              NaN   \n",
       "3              13.0                     1         G9532004   \n",
       "4               1.0                     1              NaN   \n",
       "\n",
       "                                       trip_comments  \\\n",
       "0                                                NaN   \n",
       "1                                                NaN   \n",
       "2                                                NaN   \n",
       "3  This was a bird walk for the Bexar Audubon Soc...   \n",
       "4                                                NaN   \n",
       "\n",
       "                                    species_comments  \n",
       "0  Seen and heard in flight over Bird Pond; indiv...  \n",
       "1                                                NaN  \n",
       "2                                                NaN  \n",
       "3                                                NaN  \n",
       "4                                                NaN  "
      ]
     },
     "execution_count": 30,
     "metadata": {},
     "output_type": "execute_result"
    }
   ],
   "source": [
    "df.head()"
   ]
  },
  {
   "cell_type": "code",
   "execution_count": 31,
   "id": "e03bb90f",
   "metadata": {},
   "outputs": [],
   "source": [
    "dfviz = df.drop(columns=['observer_id','duration_minutes','effort_distance_km',\n",
    "                      'number_observers','sampling_event_identifier','time_observations_started',\n",
    "                      'all_species_reported','trip_comments','species_comments'])"
   ]
  },
  {
   "cell_type": "code",
   "execution_count": 32,
   "id": "48588901",
   "metadata": {},
   "outputs": [
    {
     "data": {
      "text/html": [
       "<div>\n",
       "<style scoped>\n",
       "    .dataframe tbody tr th:only-of-type {\n",
       "        vertical-align: middle;\n",
       "    }\n",
       "\n",
       "    .dataframe tbody tr th {\n",
       "        vertical-align: top;\n",
       "    }\n",
       "\n",
       "    .dataframe thead th {\n",
       "        text-align: right;\n",
       "    }\n",
       "</style>\n",
       "<table border=\"1\" class=\"dataframe\">\n",
       "  <thead>\n",
       "    <tr style=\"text-align: right;\">\n",
       "      <th></th>\n",
       "      <th>taxonomic_order</th>\n",
       "      <th>category</th>\n",
       "      <th>common_name</th>\n",
       "      <th>observation_count</th>\n",
       "      <th>locality</th>\n",
       "      <th>latitude</th>\n",
       "      <th>longitude</th>\n",
       "      <th>observation_date</th>\n",
       "      <th>group_identifier</th>\n",
       "    </tr>\n",
       "  </thead>\n",
       "  <tbody>\n",
       "    <tr>\n",
       "      <th>0</th>\n",
       "      <td>5751</td>\n",
       "      <td>species</td>\n",
       "      <td>American Avocet</td>\n",
       "      <td>1</td>\n",
       "      <td>Mitchell Lake Audubon Center</td>\n",
       "      <td>29.304862</td>\n",
       "      <td>-98.497704</td>\n",
       "      <td>2023-01-11</td>\n",
       "      <td>NaN</td>\n",
       "    </tr>\n",
       "    <tr>\n",
       "      <th>1</th>\n",
       "      <td>7335</td>\n",
       "      <td>species</td>\n",
       "      <td>American Bittern</td>\n",
       "      <td>1</td>\n",
       "      <td>Medina River Greenway--Pleasanton Rd Trailhead</td>\n",
       "      <td>29.270249</td>\n",
       "      <td>-98.494046</td>\n",
       "      <td>2023-01-02</td>\n",
       "      <td>NaN</td>\n",
       "    </tr>\n",
       "    <tr>\n",
       "      <th>2</th>\n",
       "      <td>21168</td>\n",
       "      <td>species</td>\n",
       "      <td>American Crow</td>\n",
       "      <td>4</td>\n",
       "      <td>Olmos Basin Park, San Antonio US-TX (29.4734,-...</td>\n",
       "      <td>29.473376</td>\n",
       "      <td>-98.476835</td>\n",
       "      <td>2023-01-15</td>\n",
       "      <td>NaN</td>\n",
       "    </tr>\n",
       "    <tr>\n",
       "      <th>3</th>\n",
       "      <td>21168</td>\n",
       "      <td>species</td>\n",
       "      <td>American Crow</td>\n",
       "      <td>2</td>\n",
       "      <td>Medina River Greenway--Pleasanton Rd Trailhead</td>\n",
       "      <td>29.270249</td>\n",
       "      <td>-98.494046</td>\n",
       "      <td>2023-01-21</td>\n",
       "      <td>G9532004</td>\n",
       "    </tr>\n",
       "    <tr>\n",
       "      <th>4</th>\n",
       "      <td>21168</td>\n",
       "      <td>species</td>\n",
       "      <td>American Crow</td>\n",
       "      <td>3</td>\n",
       "      <td>Bexar Co.--Hardy/Mathis Rd. (E. of I-37)</td>\n",
       "      <td>29.135219</td>\n",
       "      <td>-98.412738</td>\n",
       "      <td>2023-01-20</td>\n",
       "      <td>NaN</td>\n",
       "    </tr>\n",
       "  </tbody>\n",
       "</table>\n",
       "</div>"
      ],
      "text/plain": [
       "   taxonomic_order category       common_name observation_count  \\\n",
       "0             5751  species   American Avocet                 1   \n",
       "1             7335  species  American Bittern                 1   \n",
       "2            21168  species     American Crow                 4   \n",
       "3            21168  species     American Crow                 2   \n",
       "4            21168  species     American Crow                 3   \n",
       "\n",
       "                                            locality   latitude  longitude  \\\n",
       "0                       Mitchell Lake Audubon Center  29.304862 -98.497704   \n",
       "1     Medina River Greenway--Pleasanton Rd Trailhead  29.270249 -98.494046   \n",
       "2  Olmos Basin Park, San Antonio US-TX (29.4734,-...  29.473376 -98.476835   \n",
       "3     Medina River Greenway--Pleasanton Rd Trailhead  29.270249 -98.494046   \n",
       "4           Bexar Co.--Hardy/Mathis Rd. (E. of I-37)  29.135219 -98.412738   \n",
       "\n",
       "  observation_date group_identifier  \n",
       "0       2023-01-11              NaN  \n",
       "1       2023-01-02              NaN  \n",
       "2       2023-01-15              NaN  \n",
       "3       2023-01-21         G9532004  \n",
       "4       2023-01-20              NaN  "
      ]
     },
     "execution_count": 32,
     "metadata": {},
     "output_type": "execute_result"
    }
   ],
   "source": [
    "dfviz.head()"
   ]
  },
  {
   "cell_type": "markdown",
   "id": "2fc85302",
   "metadata": {},
   "source": [
    "#### only keep the known species category"
   ]
  },
  {
   "cell_type": "code",
   "execution_count": 33,
   "id": "bb20fcf7",
   "metadata": {},
   "outputs": [
    {
     "data": {
      "text/plain": [
       "species     242768\n",
       "issf          4210\n",
       "domestic      3422\n",
       "spuh          2017\n",
       "slash         1399\n",
       "form           242\n",
       "hybrid          27\n",
       "Name: category, dtype: int64"
      ]
     },
     "execution_count": 33,
     "metadata": {},
     "output_type": "execute_result"
    }
   ],
   "source": [
    "dfviz.category.value_counts()"
   ]
  },
  {
   "cell_type": "code",
   "execution_count": 34,
   "id": "d12e986d",
   "metadata": {},
   "outputs": [],
   "source": [
    "dfviz = dfviz [dfviz.category == 'species']"
   ]
  },
  {
   "cell_type": "code",
   "execution_count": 35,
   "id": "fc9fe320",
   "metadata": {},
   "outputs": [],
   "source": [
    "dfviz = dfviz.drop(columns='category')"
   ]
  },
  {
   "cell_type": "code",
   "execution_count": 36,
   "id": "b7e8b03c",
   "metadata": {},
   "outputs": [
    {
     "data": {
      "text/html": [
       "<div>\n",
       "<style scoped>\n",
       "    .dataframe tbody tr th:only-of-type {\n",
       "        vertical-align: middle;\n",
       "    }\n",
       "\n",
       "    .dataframe tbody tr th {\n",
       "        vertical-align: top;\n",
       "    }\n",
       "\n",
       "    .dataframe thead th {\n",
       "        text-align: right;\n",
       "    }\n",
       "</style>\n",
       "<table border=\"1\" class=\"dataframe\">\n",
       "  <thead>\n",
       "    <tr style=\"text-align: right;\">\n",
       "      <th></th>\n",
       "      <th>taxonomic_order</th>\n",
       "      <th>common_name</th>\n",
       "      <th>observation_count</th>\n",
       "      <th>locality</th>\n",
       "      <th>latitude</th>\n",
       "      <th>longitude</th>\n",
       "      <th>observation_date</th>\n",
       "      <th>group_identifier</th>\n",
       "    </tr>\n",
       "  </thead>\n",
       "  <tbody>\n",
       "    <tr>\n",
       "      <th>0</th>\n",
       "      <td>5751</td>\n",
       "      <td>American Avocet</td>\n",
       "      <td>1</td>\n",
       "      <td>Mitchell Lake Audubon Center</td>\n",
       "      <td>29.304862</td>\n",
       "      <td>-98.497704</td>\n",
       "      <td>2023-01-11</td>\n",
       "      <td>NaN</td>\n",
       "    </tr>\n",
       "    <tr>\n",
       "      <th>1</th>\n",
       "      <td>7335</td>\n",
       "      <td>American Bittern</td>\n",
       "      <td>1</td>\n",
       "      <td>Medina River Greenway--Pleasanton Rd Trailhead</td>\n",
       "      <td>29.270249</td>\n",
       "      <td>-98.494046</td>\n",
       "      <td>2023-01-02</td>\n",
       "      <td>NaN</td>\n",
       "    </tr>\n",
       "    <tr>\n",
       "      <th>2</th>\n",
       "      <td>21168</td>\n",
       "      <td>American Crow</td>\n",
       "      <td>4</td>\n",
       "      <td>Olmos Basin Park, San Antonio US-TX (29.4734,-...</td>\n",
       "      <td>29.473376</td>\n",
       "      <td>-98.476835</td>\n",
       "      <td>2023-01-15</td>\n",
       "      <td>NaN</td>\n",
       "    </tr>\n",
       "    <tr>\n",
       "      <th>3</th>\n",
       "      <td>21168</td>\n",
       "      <td>American Crow</td>\n",
       "      <td>2</td>\n",
       "      <td>Medina River Greenway--Pleasanton Rd Trailhead</td>\n",
       "      <td>29.270249</td>\n",
       "      <td>-98.494046</td>\n",
       "      <td>2023-01-21</td>\n",
       "      <td>G9532004</td>\n",
       "    </tr>\n",
       "    <tr>\n",
       "      <th>4</th>\n",
       "      <td>21168</td>\n",
       "      <td>American Crow</td>\n",
       "      <td>3</td>\n",
       "      <td>Bexar Co.--Hardy/Mathis Rd. (E. of I-37)</td>\n",
       "      <td>29.135219</td>\n",
       "      <td>-98.412738</td>\n",
       "      <td>2023-01-20</td>\n",
       "      <td>NaN</td>\n",
       "    </tr>\n",
       "  </tbody>\n",
       "</table>\n",
       "</div>"
      ],
      "text/plain": [
       "   taxonomic_order       common_name observation_count  \\\n",
       "0             5751   American Avocet                 1   \n",
       "1             7335  American Bittern                 1   \n",
       "2            21168     American Crow                 4   \n",
       "3            21168     American Crow                 2   \n",
       "4            21168     American Crow                 3   \n",
       "\n",
       "                                            locality   latitude  longitude  \\\n",
       "0                       Mitchell Lake Audubon Center  29.304862 -98.497704   \n",
       "1     Medina River Greenway--Pleasanton Rd Trailhead  29.270249 -98.494046   \n",
       "2  Olmos Basin Park, San Antonio US-TX (29.4734,-...  29.473376 -98.476835   \n",
       "3     Medina River Greenway--Pleasanton Rd Trailhead  29.270249 -98.494046   \n",
       "4           Bexar Co.--Hardy/Mathis Rd. (E. of I-37)  29.135219 -98.412738   \n",
       "\n",
       "  observation_date group_identifier  \n",
       "0       2023-01-11              NaN  \n",
       "1       2023-01-02              NaN  \n",
       "2       2023-01-15              NaN  \n",
       "3       2023-01-21         G9532004  \n",
       "4       2023-01-20              NaN  "
      ]
     },
     "execution_count": 36,
     "metadata": {},
     "output_type": "execute_result"
    }
   ],
   "source": [
    "dfviz.head()"
   ]
  },
  {
   "cell_type": "code",
   "execution_count": 37,
   "id": "9fdc0987",
   "metadata": {},
   "outputs": [
    {
     "data": {
      "text/plain": [
       "(242768, 8)"
      ]
     },
     "execution_count": 37,
     "metadata": {},
     "output_type": "execute_result"
    }
   ],
   "source": [
    "dfviz.shape"
   ]
  },
  {
   "cell_type": "markdown",
   "id": "51c3d2d1",
   "metadata": {},
   "source": [
    "#### get rid of duplicate observations"
   ]
  },
  {
   "cell_type": "markdown",
   "id": "1cc5c4e4",
   "metadata": {},
   "source": [
    "when multiple people are birding together and they see the same bird, that bird gets counted twice. this is annotated as the the group_identifier. i do not want those duplicate counts in this analysis. the highest observation count will be kept for these duplications."
   ]
  },
  {
   "cell_type": "code",
   "execution_count": 38,
   "id": "a37f6e31",
   "metadata": {},
   "outputs": [
    {
     "data": {
      "text/html": [
       "<div>\n",
       "<style scoped>\n",
       "    .dataframe tbody tr th:only-of-type {\n",
       "        vertical-align: middle;\n",
       "    }\n",
       "\n",
       "    .dataframe tbody tr th {\n",
       "        vertical-align: top;\n",
       "    }\n",
       "\n",
       "    .dataframe thead th {\n",
       "        text-align: right;\n",
       "    }\n",
       "</style>\n",
       "<table border=\"1\" class=\"dataframe\">\n",
       "  <thead>\n",
       "    <tr style=\"text-align: right;\">\n",
       "      <th></th>\n",
       "      <th>taxonomic_order</th>\n",
       "      <th>common_name</th>\n",
       "      <th>observation_count</th>\n",
       "      <th>locality</th>\n",
       "      <th>latitude</th>\n",
       "      <th>longitude</th>\n",
       "      <th>observation_date</th>\n",
       "      <th>group_identifier</th>\n",
       "    </tr>\n",
       "  </thead>\n",
       "  <tbody>\n",
       "    <tr>\n",
       "      <th>80289</th>\n",
       "      <td>33300</td>\n",
       "      <td>Bronzed Cowbird</td>\n",
       "      <td>1</td>\n",
       "      <td>San Antonio Botanical Garden (HOTE 096)</td>\n",
       "      <td>29.457417</td>\n",
       "      <td>-98.459301</td>\n",
       "      <td>2023-04-23</td>\n",
       "      <td>G10060644</td>\n",
       "    </tr>\n",
       "    <tr>\n",
       "      <th>80299</th>\n",
       "      <td>33300</td>\n",
       "      <td>Bronzed Cowbird</td>\n",
       "      <td>1</td>\n",
       "      <td>Bexar Co.--Hardy/Mathis Rd. (E. of I-37)</td>\n",
       "      <td>29.135219</td>\n",
       "      <td>-98.412738</td>\n",
       "      <td>2023-04-27</td>\n",
       "      <td>G10085726</td>\n",
       "    </tr>\n",
       "    <tr>\n",
       "      <th>80321</th>\n",
       "      <td>8293</td>\n",
       "      <td>Broad-winged Hawk</td>\n",
       "      <td>1</td>\n",
       "      <td>Devil's Bend Park</td>\n",
       "      <td>29.282749</td>\n",
       "      <td>-98.617229</td>\n",
       "      <td>2023-04-27</td>\n",
       "      <td>G10083518</td>\n",
       "    </tr>\n",
       "    <tr>\n",
       "      <th>80323</th>\n",
       "      <td>8293</td>\n",
       "      <td>Broad-winged Hawk</td>\n",
       "      <td>1</td>\n",
       "      <td>Crescent Bend Nature Park (Bexar Co.)</td>\n",
       "      <td>29.550227</td>\n",
       "      <td>-98.232574</td>\n",
       "      <td>2023-04-21</td>\n",
       "      <td>G10042387</td>\n",
       "    </tr>\n",
       "    <tr>\n",
       "      <th>80328</th>\n",
       "      <td>8293</td>\n",
       "      <td>Broad-winged Hawk</td>\n",
       "      <td>1</td>\n",
       "      <td>Braunig Lake (HOTE 101)</td>\n",
       "      <td>29.248820</td>\n",
       "      <td>-98.393971</td>\n",
       "      <td>2023-04-19</td>\n",
       "      <td>G10030657</td>\n",
       "    </tr>\n",
       "  </tbody>\n",
       "</table>\n",
       "</div>"
      ],
      "text/plain": [
       "       taxonomic_order        common_name observation_count  \\\n",
       "80289            33300    Bronzed Cowbird                 1   \n",
       "80299            33300    Bronzed Cowbird                 1   \n",
       "80321             8293  Broad-winged Hawk                 1   \n",
       "80323             8293  Broad-winged Hawk                 1   \n",
       "80328             8293  Broad-winged Hawk                 1   \n",
       "\n",
       "                                       locality   latitude  longitude  \\\n",
       "80289   San Antonio Botanical Garden (HOTE 096)  29.457417 -98.459301   \n",
       "80299  Bexar Co.--Hardy/Mathis Rd. (E. of I-37)  29.135219 -98.412738   \n",
       "80321                         Devil's Bend Park  29.282749 -98.617229   \n",
       "80323     Crescent Bend Nature Park (Bexar Co.)  29.550227 -98.232574   \n",
       "80328                   Braunig Lake (HOTE 101)  29.248820 -98.393971   \n",
       "\n",
       "      observation_date group_identifier  \n",
       "80289       2023-04-23        G10060644  \n",
       "80299       2023-04-27        G10085726  \n",
       "80321       2023-04-27        G10083518  \n",
       "80323       2023-04-21        G10042387  \n",
       "80328       2023-04-19        G10030657  "
      ]
     },
     "execution_count": 38,
     "metadata": {},
     "output_type": "execute_result"
    }
   ],
   "source": [
    "#find all dupe checklists\n",
    "#sort them by observation count\n",
    "#drop the duplicates, except teh first instance\n",
    "df_keep_dups = dfviz [dfviz.group_identifier.notnull()].sort_values('observation_count', \n",
    "                                               ascending=False).drop_duplicates(subset=['taxonomic_order',\n",
    "                                                                                        'group_identifier'])\n",
    "df_keep_dups.tail()"
   ]
  },
  {
   "cell_type": "code",
   "execution_count": 39,
   "id": "13178c3f",
   "metadata": {},
   "outputs": [
    {
     "data": {
      "text/plain": [
       "(28802, 8)"
      ]
     },
     "execution_count": 39,
     "metadata": {},
     "output_type": "execute_result"
    }
   ],
   "source": [
    "df_keep_dups.shape"
   ]
  },
  {
   "cell_type": "code",
   "execution_count": 40,
   "id": "d57bad11",
   "metadata": {},
   "outputs": [
    {
     "data": {
      "text/html": [
       "<div>\n",
       "<style scoped>\n",
       "    .dataframe tbody tr th:only-of-type {\n",
       "        vertical-align: middle;\n",
       "    }\n",
       "\n",
       "    .dataframe tbody tr th {\n",
       "        vertical-align: top;\n",
       "    }\n",
       "\n",
       "    .dataframe thead th {\n",
       "        text-align: right;\n",
       "    }\n",
       "</style>\n",
       "<table border=\"1\" class=\"dataframe\">\n",
       "  <thead>\n",
       "    <tr style=\"text-align: right;\">\n",
       "      <th></th>\n",
       "      <th>taxonomic_order</th>\n",
       "      <th>common_name</th>\n",
       "      <th>observation_count</th>\n",
       "      <th>locality</th>\n",
       "      <th>latitude</th>\n",
       "      <th>longitude</th>\n",
       "      <th>observation_date</th>\n",
       "      <th>group_identifier</th>\n",
       "    </tr>\n",
       "  </thead>\n",
       "  <tbody>\n",
       "    <tr>\n",
       "      <th>0</th>\n",
       "      <td>5751</td>\n",
       "      <td>American Avocet</td>\n",
       "      <td>1</td>\n",
       "      <td>Mitchell Lake Audubon Center</td>\n",
       "      <td>29.304862</td>\n",
       "      <td>-98.497704</td>\n",
       "      <td>2023-01-11</td>\n",
       "      <td>NaN</td>\n",
       "    </tr>\n",
       "    <tr>\n",
       "      <th>1</th>\n",
       "      <td>7335</td>\n",
       "      <td>American Bittern</td>\n",
       "      <td>1</td>\n",
       "      <td>Medina River Greenway--Pleasanton Rd Trailhead</td>\n",
       "      <td>29.270249</td>\n",
       "      <td>-98.494046</td>\n",
       "      <td>2023-01-02</td>\n",
       "      <td>NaN</td>\n",
       "    </tr>\n",
       "    <tr>\n",
       "      <th>2</th>\n",
       "      <td>21168</td>\n",
       "      <td>American Crow</td>\n",
       "      <td>4</td>\n",
       "      <td>Olmos Basin Park, San Antonio US-TX (29.4734,-...</td>\n",
       "      <td>29.473376</td>\n",
       "      <td>-98.476835</td>\n",
       "      <td>2023-01-15</td>\n",
       "      <td>NaN</td>\n",
       "    </tr>\n",
       "    <tr>\n",
       "      <th>4</th>\n",
       "      <td>21168</td>\n",
       "      <td>American Crow</td>\n",
       "      <td>3</td>\n",
       "      <td>Bexar Co.--Hardy/Mathis Rd. (E. of I-37)</td>\n",
       "      <td>29.135219</td>\n",
       "      <td>-98.412738</td>\n",
       "      <td>2023-01-20</td>\n",
       "      <td>NaN</td>\n",
       "    </tr>\n",
       "    <tr>\n",
       "      <th>5</th>\n",
       "      <td>21168</td>\n",
       "      <td>American Crow</td>\n",
       "      <td>1</td>\n",
       "      <td>Salado Creek Greenway--Jack White Park</td>\n",
       "      <td>29.452304</td>\n",
       "      <td>-98.423899</td>\n",
       "      <td>2023-01-18</td>\n",
       "      <td>NaN</td>\n",
       "    </tr>\n",
       "  </tbody>\n",
       "</table>\n",
       "</div>"
      ],
      "text/plain": [
       "   taxonomic_order       common_name observation_count  \\\n",
       "0             5751   American Avocet                 1   \n",
       "1             7335  American Bittern                 1   \n",
       "2            21168     American Crow                 4   \n",
       "4            21168     American Crow                 3   \n",
       "5            21168     American Crow                 1   \n",
       "\n",
       "                                            locality   latitude  longitude  \\\n",
       "0                       Mitchell Lake Audubon Center  29.304862 -98.497704   \n",
       "1     Medina River Greenway--Pleasanton Rd Trailhead  29.270249 -98.494046   \n",
       "2  Olmos Basin Park, San Antonio US-TX (29.4734,-...  29.473376 -98.476835   \n",
       "4           Bexar Co.--Hardy/Mathis Rd. (E. of I-37)  29.135219 -98.412738   \n",
       "5             Salado Creek Greenway--Jack White Park  29.452304 -98.423899   \n",
       "\n",
       "  observation_date group_identifier  \n",
       "0       2023-01-11              NaN  \n",
       "1       2023-01-02              NaN  \n",
       "2       2023-01-15              NaN  \n",
       "4       2023-01-20              NaN  \n",
       "5       2023-01-18              NaN  "
      ]
     },
     "execution_count": 40,
     "metadata": {},
     "output_type": "execute_result"
    }
   ],
   "source": [
    "#remove all duplicate checklists completely\n",
    "df_no_dups = dfviz [dfviz.group_identifier.isnull()]\n",
    "df_no_dups.head()"
   ]
  },
  {
   "cell_type": "code",
   "execution_count": 41,
   "id": "755ebb1b",
   "metadata": {},
   "outputs": [
    {
     "data": {
      "text/plain": [
       "(168877, 8)"
      ]
     },
     "execution_count": 41,
     "metadata": {},
     "output_type": "execute_result"
    }
   ],
   "source": [
    "df_no_dups.shape"
   ]
  },
  {
   "cell_type": "code",
   "execution_count": 42,
   "id": "b9273fc8",
   "metadata": {},
   "outputs": [],
   "source": [
    "#combine the no dups df with the first dups only df\n",
    "dff = pd.concat([df_no_dups, df_keep_dups])"
   ]
  },
  {
   "cell_type": "code",
   "execution_count": 43,
   "id": "51468af6",
   "metadata": {},
   "outputs": [
    {
     "data": {
      "text/html": [
       "<div>\n",
       "<style scoped>\n",
       "    .dataframe tbody tr th:only-of-type {\n",
       "        vertical-align: middle;\n",
       "    }\n",
       "\n",
       "    .dataframe tbody tr th {\n",
       "        vertical-align: top;\n",
       "    }\n",
       "\n",
       "    .dataframe thead th {\n",
       "        text-align: right;\n",
       "    }\n",
       "</style>\n",
       "<table border=\"1\" class=\"dataframe\">\n",
       "  <thead>\n",
       "    <tr style=\"text-align: right;\">\n",
       "      <th></th>\n",
       "      <th>taxonomic_order</th>\n",
       "      <th>common_name</th>\n",
       "      <th>observation_count</th>\n",
       "      <th>locality</th>\n",
       "      <th>latitude</th>\n",
       "      <th>longitude</th>\n",
       "      <th>observation_date</th>\n",
       "      <th>group_identifier</th>\n",
       "    </tr>\n",
       "  </thead>\n",
       "  <tbody>\n",
       "    <tr>\n",
       "      <th>0</th>\n",
       "      <td>5751</td>\n",
       "      <td>American Avocet</td>\n",
       "      <td>1</td>\n",
       "      <td>Mitchell Lake Audubon Center</td>\n",
       "      <td>29.304862</td>\n",
       "      <td>-98.497704</td>\n",
       "      <td>2023-01-11</td>\n",
       "      <td>NaN</td>\n",
       "    </tr>\n",
       "    <tr>\n",
       "      <th>1</th>\n",
       "      <td>7335</td>\n",
       "      <td>American Bittern</td>\n",
       "      <td>1</td>\n",
       "      <td>Medina River Greenway--Pleasanton Rd Trailhead</td>\n",
       "      <td>29.270249</td>\n",
       "      <td>-98.494046</td>\n",
       "      <td>2023-01-02</td>\n",
       "      <td>NaN</td>\n",
       "    </tr>\n",
       "    <tr>\n",
       "      <th>2</th>\n",
       "      <td>21168</td>\n",
       "      <td>American Crow</td>\n",
       "      <td>4</td>\n",
       "      <td>Olmos Basin Park, San Antonio US-TX (29.4734,-...</td>\n",
       "      <td>29.473376</td>\n",
       "      <td>-98.476835</td>\n",
       "      <td>2023-01-15</td>\n",
       "      <td>NaN</td>\n",
       "    </tr>\n",
       "    <tr>\n",
       "      <th>4</th>\n",
       "      <td>21168</td>\n",
       "      <td>American Crow</td>\n",
       "      <td>3</td>\n",
       "      <td>Bexar Co.--Hardy/Mathis Rd. (E. of I-37)</td>\n",
       "      <td>29.135219</td>\n",
       "      <td>-98.412738</td>\n",
       "      <td>2023-01-20</td>\n",
       "      <td>NaN</td>\n",
       "    </tr>\n",
       "    <tr>\n",
       "      <th>5</th>\n",
       "      <td>21168</td>\n",
       "      <td>American Crow</td>\n",
       "      <td>1</td>\n",
       "      <td>Salado Creek Greenway--Jack White Park</td>\n",
       "      <td>29.452304</td>\n",
       "      <td>-98.423899</td>\n",
       "      <td>2023-01-18</td>\n",
       "      <td>NaN</td>\n",
       "    </tr>\n",
       "  </tbody>\n",
       "</table>\n",
       "</div>"
      ],
      "text/plain": [
       "   taxonomic_order       common_name observation_count  \\\n",
       "0             5751   American Avocet                 1   \n",
       "1             7335  American Bittern                 1   \n",
       "2            21168     American Crow                 4   \n",
       "4            21168     American Crow                 3   \n",
       "5            21168     American Crow                 1   \n",
       "\n",
       "                                            locality   latitude  longitude  \\\n",
       "0                       Mitchell Lake Audubon Center  29.304862 -98.497704   \n",
       "1     Medina River Greenway--Pleasanton Rd Trailhead  29.270249 -98.494046   \n",
       "2  Olmos Basin Park, San Antonio US-TX (29.4734,-...  29.473376 -98.476835   \n",
       "4           Bexar Co.--Hardy/Mathis Rd. (E. of I-37)  29.135219 -98.412738   \n",
       "5             Salado Creek Greenway--Jack White Park  29.452304 -98.423899   \n",
       "\n",
       "  observation_date group_identifier  \n",
       "0       2023-01-11              NaN  \n",
       "1       2023-01-02              NaN  \n",
       "2       2023-01-15              NaN  \n",
       "4       2023-01-20              NaN  \n",
       "5       2023-01-18              NaN  "
      ]
     },
     "execution_count": 43,
     "metadata": {},
     "output_type": "execute_result"
    }
   ],
   "source": [
    "dff.head()"
   ]
  },
  {
   "cell_type": "markdown",
   "id": "dfb2191a",
   "metadata": {},
   "source": [
    "#### group identifier is no longer needed since dups have been removed"
   ]
  },
  {
   "cell_type": "code",
   "execution_count": 44,
   "id": "cda1ecf7",
   "metadata": {},
   "outputs": [],
   "source": [
    "dff = dff.drop('group_identifier', axis=1)"
   ]
  },
  {
   "cell_type": "code",
   "execution_count": 45,
   "id": "af217ca7",
   "metadata": {},
   "outputs": [
    {
     "data": {
      "text/html": [
       "<div>\n",
       "<style scoped>\n",
       "    .dataframe tbody tr th:only-of-type {\n",
       "        vertical-align: middle;\n",
       "    }\n",
       "\n",
       "    .dataframe tbody tr th {\n",
       "        vertical-align: top;\n",
       "    }\n",
       "\n",
       "    .dataframe thead th {\n",
       "        text-align: right;\n",
       "    }\n",
       "</style>\n",
       "<table border=\"1\" class=\"dataframe\">\n",
       "  <thead>\n",
       "    <tr style=\"text-align: right;\">\n",
       "      <th></th>\n",
       "      <th>taxonomic_order</th>\n",
       "      <th>common_name</th>\n",
       "      <th>observation_count</th>\n",
       "      <th>locality</th>\n",
       "      <th>latitude</th>\n",
       "      <th>longitude</th>\n",
       "      <th>observation_date</th>\n",
       "    </tr>\n",
       "  </thead>\n",
       "  <tbody>\n",
       "    <tr>\n",
       "      <th>0</th>\n",
       "      <td>5751</td>\n",
       "      <td>American Avocet</td>\n",
       "      <td>1</td>\n",
       "      <td>Mitchell Lake Audubon Center</td>\n",
       "      <td>29.304862</td>\n",
       "      <td>-98.497704</td>\n",
       "      <td>2023-01-11</td>\n",
       "    </tr>\n",
       "    <tr>\n",
       "      <th>1</th>\n",
       "      <td>7335</td>\n",
       "      <td>American Bittern</td>\n",
       "      <td>1</td>\n",
       "      <td>Medina River Greenway--Pleasanton Rd Trailhead</td>\n",
       "      <td>29.270249</td>\n",
       "      <td>-98.494046</td>\n",
       "      <td>2023-01-02</td>\n",
       "    </tr>\n",
       "    <tr>\n",
       "      <th>2</th>\n",
       "      <td>21168</td>\n",
       "      <td>American Crow</td>\n",
       "      <td>4</td>\n",
       "      <td>Olmos Basin Park, San Antonio US-TX (29.4734,-...</td>\n",
       "      <td>29.473376</td>\n",
       "      <td>-98.476835</td>\n",
       "      <td>2023-01-15</td>\n",
       "    </tr>\n",
       "    <tr>\n",
       "      <th>4</th>\n",
       "      <td>21168</td>\n",
       "      <td>American Crow</td>\n",
       "      <td>3</td>\n",
       "      <td>Bexar Co.--Hardy/Mathis Rd. (E. of I-37)</td>\n",
       "      <td>29.135219</td>\n",
       "      <td>-98.412738</td>\n",
       "      <td>2023-01-20</td>\n",
       "    </tr>\n",
       "    <tr>\n",
       "      <th>5</th>\n",
       "      <td>21168</td>\n",
       "      <td>American Crow</td>\n",
       "      <td>1</td>\n",
       "      <td>Salado Creek Greenway--Jack White Park</td>\n",
       "      <td>29.452304</td>\n",
       "      <td>-98.423899</td>\n",
       "      <td>2023-01-18</td>\n",
       "    </tr>\n",
       "  </tbody>\n",
       "</table>\n",
       "</div>"
      ],
      "text/plain": [
       "   taxonomic_order       common_name observation_count  \\\n",
       "0             5751   American Avocet                 1   \n",
       "1             7335  American Bittern                 1   \n",
       "2            21168     American Crow                 4   \n",
       "4            21168     American Crow                 3   \n",
       "5            21168     American Crow                 1   \n",
       "\n",
       "                                            locality   latitude  longitude  \\\n",
       "0                       Mitchell Lake Audubon Center  29.304862 -98.497704   \n",
       "1     Medina River Greenway--Pleasanton Rd Trailhead  29.270249 -98.494046   \n",
       "2  Olmos Basin Park, San Antonio US-TX (29.4734,-...  29.473376 -98.476835   \n",
       "4           Bexar Co.--Hardy/Mathis Rd. (E. of I-37)  29.135219 -98.412738   \n",
       "5             Salado Creek Greenway--Jack White Park  29.452304 -98.423899   \n",
       "\n",
       "  observation_date  \n",
       "0       2023-01-11  \n",
       "1       2023-01-02  \n",
       "2       2023-01-15  \n",
       "4       2023-01-20  \n",
       "5       2023-01-18  "
      ]
     },
     "execution_count": 45,
     "metadata": {},
     "output_type": "execute_result"
    }
   ],
   "source": [
    "dff.head()"
   ]
  },
  {
   "cell_type": "markdown",
   "id": "1223a35a",
   "metadata": {},
   "source": [
    "## visual the data"
   ]
  },
  {
   "cell_type": "markdown",
   "id": "9384b45e",
   "metadata": {},
   "source": [
    "plotly?"
   ]
  },
  {
   "cell_type": "code",
   "execution_count": null,
   "id": "22d2fd79",
   "metadata": {},
   "outputs": [],
   "source": []
  }
 ],
 "metadata": {
  "kernelspec": {
   "display_name": "Python 3 (ipykernel)",
   "language": "python",
   "name": "python3"
  },
  "language_info": {
   "codemirror_mode": {
    "name": "ipython",
    "version": 3
   },
   "file_extension": ".py",
   "mimetype": "text/x-python",
   "name": "python",
   "nbconvert_exporter": "python",
   "pygments_lexer": "ipython3",
   "version": "3.9.12"
  }
 },
 "nbformat": 4,
 "nbformat_minor": 5
}
