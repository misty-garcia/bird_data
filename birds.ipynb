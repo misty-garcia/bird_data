{
 "cells": [
  {
   "cell_type": "code",
   "execution_count": 89,
   "id": "b0fba701",
   "metadata": {},
   "outputs": [],
   "source": [
    "import pandas as pd\n",
    "import numpy as np\n",
    "import re\n",
    "import os"
   ]
  },
  {
   "cell_type": "code",
   "execution_count": 140,
   "id": "75a686c6",
   "metadata": {},
   "outputs": [],
   "source": [
    "# df = pd.read_csv('ebd_US-TX_relAug-2023/ebd_US-TX_relAug-2023.txt', sep='\\t')\n",
    "df = pd.read_csv('bexar_county_birding.txt', index_col=0)"
   ]
  },
  {
   "cell_type": "code",
   "execution_count": 141,
   "id": "da03cd62",
   "metadata": {},
   "outputs": [
    {
     "data": {
      "text/html": [
       "<div>\n",
       "<style scoped>\n",
       "    .dataframe tbody tr th:only-of-type {\n",
       "        vertical-align: middle;\n",
       "    }\n",
       "\n",
       "    .dataframe tbody tr th {\n",
       "        vertical-align: top;\n",
       "    }\n",
       "\n",
       "    .dataframe thead th {\n",
       "        text-align: right;\n",
       "    }\n",
       "</style>\n",
       "<table border=\"1\" class=\"dataframe\">\n",
       "  <thead>\n",
       "    <tr style=\"text-align: right;\">\n",
       "      <th></th>\n",
       "      <th>global_unique_identifier</th>\n",
       "      <th>last_edited_date</th>\n",
       "      <th>taxonomic_order</th>\n",
       "      <th>category</th>\n",
       "      <th>taxon_concept_id</th>\n",
       "      <th>common_name</th>\n",
       "      <th>scientific_name</th>\n",
       "      <th>subspecies_common_name</th>\n",
       "      <th>subspecies_scientific_name</th>\n",
       "      <th>exotic_code</th>\n",
       "      <th>...</th>\n",
       "      <th>number_observers</th>\n",
       "      <th>all_species_reported</th>\n",
       "      <th>group_identifier</th>\n",
       "      <th>has_media</th>\n",
       "      <th>approved</th>\n",
       "      <th>reviewed</th>\n",
       "      <th>reason</th>\n",
       "      <th>trip_comments</th>\n",
       "      <th>species_comments</th>\n",
       "      <th>unnamed__49</th>\n",
       "    </tr>\n",
       "  </thead>\n",
       "  <tbody>\n",
       "    <tr>\n",
       "      <th>30302</th>\n",
       "      <td>URN:CornellLabOfOrnithology:EBIRD:OBS847277689</td>\n",
       "      <td>2023-03-04 07:36:07.729744</td>\n",
       "      <td>5706</td>\n",
       "      <td>species</td>\n",
       "      <td>avibase-8EB0C1FA</td>\n",
       "      <td>American Avocet</td>\n",
       "      <td>Recurvirostra americana</td>\n",
       "      <td>NaN</td>\n",
       "      <td>NaN</td>\n",
       "      <td>NaN</td>\n",
       "      <td>...</td>\n",
       "      <td>2.0</td>\n",
       "      <td>1.0</td>\n",
       "      <td>G4836653</td>\n",
       "      <td>0.0</td>\n",
       "      <td>1.0</td>\n",
       "      <td>0.0</td>\n",
       "      <td>NaN</td>\n",
       "      <td>NaN</td>\n",
       "      <td>NaN</td>\n",
       "      <td>NaN</td>\n",
       "    </tr>\n",
       "    <tr>\n",
       "      <th>30303</th>\n",
       "      <td>URN:CornellLabOfOrnithology:EBIRD:OBS847254144</td>\n",
       "      <td>2023-03-04 07:36:07.729744</td>\n",
       "      <td>5706</td>\n",
       "      <td>species</td>\n",
       "      <td>avibase-8EB0C1FA</td>\n",
       "      <td>American Avocet</td>\n",
       "      <td>Recurvirostra americana</td>\n",
       "      <td>NaN</td>\n",
       "      <td>NaN</td>\n",
       "      <td>NaN</td>\n",
       "      <td>...</td>\n",
       "      <td>2.0</td>\n",
       "      <td>1.0</td>\n",
       "      <td>G4837345</td>\n",
       "      <td>0.0</td>\n",
       "      <td>1.0</td>\n",
       "      <td>0.0</td>\n",
       "      <td>NaN</td>\n",
       "      <td>NaN</td>\n",
       "      <td>NaN</td>\n",
       "      <td>NaN</td>\n",
       "    </tr>\n",
       "    <tr>\n",
       "      <th>30304</th>\n",
       "      <td>URN:CornellLabOfOrnithology:EBIRD:OBS867237981</td>\n",
       "      <td>2023-03-04 07:36:07.729744</td>\n",
       "      <td>5706</td>\n",
       "      <td>species</td>\n",
       "      <td>avibase-8EB0C1FA</td>\n",
       "      <td>American Avocet</td>\n",
       "      <td>Recurvirostra americana</td>\n",
       "      <td>NaN</td>\n",
       "      <td>NaN</td>\n",
       "      <td>NaN</td>\n",
       "      <td>...</td>\n",
       "      <td>3812.0</td>\n",
       "      <td>1.0</td>\n",
       "      <td>G4891614</td>\n",
       "      <td>0.0</td>\n",
       "      <td>1.0</td>\n",
       "      <td>0.0</td>\n",
       "      <td>NaN</td>\n",
       "      <td>NaN</td>\n",
       "      <td>NaN</td>\n",
       "      <td>NaN</td>\n",
       "    </tr>\n",
       "    <tr>\n",
       "      <th>30305</th>\n",
       "      <td>URN:CornellLabOfOrnithology:EBIRD:OBS848142715</td>\n",
       "      <td>2023-03-04 07:36:07.729744</td>\n",
       "      <td>5706</td>\n",
       "      <td>species</td>\n",
       "      <td>avibase-8EB0C1FA</td>\n",
       "      <td>American Avocet</td>\n",
       "      <td>Recurvirostra americana</td>\n",
       "      <td>NaN</td>\n",
       "      <td>NaN</td>\n",
       "      <td>NaN</td>\n",
       "      <td>...</td>\n",
       "      <td>11.0</td>\n",
       "      <td>1.0</td>\n",
       "      <td>G4836781</td>\n",
       "      <td>0.0</td>\n",
       "      <td>1.0</td>\n",
       "      <td>0.0</td>\n",
       "      <td>NaN</td>\n",
       "      <td>NaN</td>\n",
       "      <td>NaN</td>\n",
       "      <td>NaN</td>\n",
       "    </tr>\n",
       "    <tr>\n",
       "      <th>30306</th>\n",
       "      <td>URN:CornellLabOfOrnithology:EBIRD:OBS852505966</td>\n",
       "      <td>2023-03-04 07:36:07.729744</td>\n",
       "      <td>5706</td>\n",
       "      <td>species</td>\n",
       "      <td>avibase-8EB0C1FA</td>\n",
       "      <td>American Avocet</td>\n",
       "      <td>Recurvirostra americana</td>\n",
       "      <td>NaN</td>\n",
       "      <td>NaN</td>\n",
       "      <td>NaN</td>\n",
       "      <td>...</td>\n",
       "      <td>1.0</td>\n",
       "      <td>1.0</td>\n",
       "      <td>NaN</td>\n",
       "      <td>0.0</td>\n",
       "      <td>1.0</td>\n",
       "      <td>0.0</td>\n",
       "      <td>NaN</td>\n",
       "      <td>NaN</td>\n",
       "      <td>NaN</td>\n",
       "      <td>NaN</td>\n",
       "    </tr>\n",
       "  </tbody>\n",
       "</table>\n",
       "<p>5 rows × 50 columns</p>\n",
       "</div>"
      ],
      "text/plain": [
       "                             global_unique_identifier  \\\n",
       "30302  URN:CornellLabOfOrnithology:EBIRD:OBS847277689   \n",
       "30303  URN:CornellLabOfOrnithology:EBIRD:OBS847254144   \n",
       "30304  URN:CornellLabOfOrnithology:EBIRD:OBS867237981   \n",
       "30305  URN:CornellLabOfOrnithology:EBIRD:OBS848142715   \n",
       "30306  URN:CornellLabOfOrnithology:EBIRD:OBS852505966   \n",
       "\n",
       "                 last_edited_date  taxonomic_order category  taxon_concept_id  \\\n",
       "30302  2023-03-04 07:36:07.729744             5706  species  avibase-8EB0C1FA   \n",
       "30303  2023-03-04 07:36:07.729744             5706  species  avibase-8EB0C1FA   \n",
       "30304  2023-03-04 07:36:07.729744             5706  species  avibase-8EB0C1FA   \n",
       "30305  2023-03-04 07:36:07.729744             5706  species  avibase-8EB0C1FA   \n",
       "30306  2023-03-04 07:36:07.729744             5706  species  avibase-8EB0C1FA   \n",
       "\n",
       "           common_name          scientific_name subspecies_common_name  \\\n",
       "30302  American Avocet  Recurvirostra americana                    NaN   \n",
       "30303  American Avocet  Recurvirostra americana                    NaN   \n",
       "30304  American Avocet  Recurvirostra americana                    NaN   \n",
       "30305  American Avocet  Recurvirostra americana                    NaN   \n",
       "30306  American Avocet  Recurvirostra americana                    NaN   \n",
       "\n",
       "      subspecies_scientific_name exotic_code  ... number_observers  \\\n",
       "30302                        NaN         NaN  ...              2.0   \n",
       "30303                        NaN         NaN  ...              2.0   \n",
       "30304                        NaN         NaN  ...           3812.0   \n",
       "30305                        NaN         NaN  ...             11.0   \n",
       "30306                        NaN         NaN  ...              1.0   \n",
       "\n",
       "      all_species_reported group_identifier has_media approved reviewed  \\\n",
       "30302                  1.0         G4836653       0.0      1.0      0.0   \n",
       "30303                  1.0         G4837345       0.0      1.0      0.0   \n",
       "30304                  1.0         G4891614       0.0      1.0      0.0   \n",
       "30305                  1.0         G4836781       0.0      1.0      0.0   \n",
       "30306                  1.0              NaN       0.0      1.0      0.0   \n",
       "\n",
       "      reason trip_comments species_comments unnamed__49  \n",
       "30302    NaN           NaN              NaN         NaN  \n",
       "30303    NaN           NaN              NaN         NaN  \n",
       "30304    NaN           NaN              NaN         NaN  \n",
       "30305    NaN           NaN              NaN         NaN  \n",
       "30306    NaN           NaN              NaN         NaN  \n",
       "\n",
       "[5 rows x 50 columns]"
      ]
     },
     "execution_count": 141,
     "metadata": {},
     "output_type": "execute_result"
    }
   ],
   "source": [
    "df.head()"
   ]
  },
  {
   "cell_type": "code",
   "execution_count": 142,
   "id": "993f0053",
   "metadata": {},
   "outputs": [
    {
     "data": {
      "text/plain": [
       "(835193, 50)"
      ]
     },
     "execution_count": 142,
     "metadata": {},
     "output_type": "execute_result"
    }
   ],
   "source": [
    "df.shape"
   ]
  },
  {
   "cell_type": "code",
   "execution_count": 143,
   "id": "e0e89d48",
   "metadata": {},
   "outputs": [
    {
     "data": {
      "text/plain": [
       "Index(['global_unique_identifier', 'last_edited_date', 'taxonomic_order',\n",
       "       'category', 'taxon_concept_id', 'common_name', 'scientific_name',\n",
       "       'subspecies_common_name', 'subspecies_scientific_name', 'exotic_code',\n",
       "       'observation_count', 'breeding_code', 'breeding_category',\n",
       "       'behavior_code', 'age_sex', 'country', 'country_code', 'state',\n",
       "       'state_code', 'county', 'county_code', 'iba_code', 'bcr_code',\n",
       "       'usfws_code', 'atlas_block', 'locality', 'locality_id', 'locality_type',\n",
       "       'latitude', 'longitude', 'observation_date',\n",
       "       'time_observations_started', 'observer_id', 'sampling_event_identifier',\n",
       "       'protocol_type', 'protocol_code', 'project_code', 'duration_minutes',\n",
       "       'effort_distance_km', 'effort_area_ha', 'number_observers',\n",
       "       'all_species_reported', 'group_identifier', 'has_media', 'approved',\n",
       "       'reviewed', 'reason', 'trip_comments', 'species_comments',\n",
       "       'unnamed__49'],\n",
       "      dtype='object')"
      ]
     },
     "execution_count": 143,
     "metadata": {},
     "output_type": "execute_result"
    }
   ],
   "source": [
    "df.columns"
   ]
  },
  {
   "cell_type": "markdown",
   "id": "e569901e",
   "metadata": {},
   "source": [
    "#### global_unique_identifier"
   ]
  },
  {
   "cell_type": "code",
   "execution_count": 144,
   "id": "3f759b89",
   "metadata": {},
   "outputs": [
    {
     "data": {
      "text/plain": [
       "URN:CornellLabOfOrnithology:EBIRD:OBS847277689     1\n",
       "URN:CornellLabOfOrnithology:EBIRD:OBS1413577576    1\n",
       "URN:CornellLabOfOrnithology:EBIRD:OBS1431340379    1\n",
       "URN:CornellLabOfOrnithology:EBIRD:OBS1411013605    1\n",
       "URN:CornellLabOfOrnithology:EBIRD:OBS1424980547    1\n",
       "                                                  ..\n",
       "URN:CornellLabOfOrnithology:EBIRD:OBS1128552306    1\n",
       "URN:CornellLabOfOrnithology:EBIRD:OBS1136168352    1\n",
       "URN:CornellLabOfOrnithology:EBIRD:OBS1115672126    1\n",
       "URN:CornellLabOfOrnithology:EBIRD:OBS1133949542    1\n",
       "URN:CornellLabOfOrnithology:EBIRD:OBS1807225521    1\n",
       "Name: global_unique_identifier, Length: 835193, dtype: int64"
      ]
     },
     "execution_count": 144,
     "metadata": {},
     "output_type": "execute_result"
    }
   ],
   "source": [
    "df.global_unique_identifier.value_counts()"
   ]
  },
  {
   "cell_type": "markdown",
   "id": "ebe41a8b",
   "metadata": {},
   "source": [
    "> unique identifier, can drop"
   ]
  },
  {
   "cell_type": "code",
   "execution_count": 145,
   "id": "b2e811f6",
   "metadata": {},
   "outputs": [],
   "source": [
    "df = df.drop(columns='global_unique_identifier')"
   ]
  },
  {
   "cell_type": "code",
   "execution_count": 146,
   "id": "33bc09da",
   "metadata": {},
   "outputs": [
    {
     "data": {
      "text/html": [
       "<div>\n",
       "<style scoped>\n",
       "    .dataframe tbody tr th:only-of-type {\n",
       "        vertical-align: middle;\n",
       "    }\n",
       "\n",
       "    .dataframe tbody tr th {\n",
       "        vertical-align: top;\n",
       "    }\n",
       "\n",
       "    .dataframe thead th {\n",
       "        text-align: right;\n",
       "    }\n",
       "</style>\n",
       "<table border=\"1\" class=\"dataframe\">\n",
       "  <thead>\n",
       "    <tr style=\"text-align: right;\">\n",
       "      <th></th>\n",
       "      <th>last_edited_date</th>\n",
       "      <th>taxonomic_order</th>\n",
       "      <th>category</th>\n",
       "      <th>taxon_concept_id</th>\n",
       "      <th>common_name</th>\n",
       "      <th>scientific_name</th>\n",
       "      <th>subspecies_common_name</th>\n",
       "      <th>subspecies_scientific_name</th>\n",
       "      <th>exotic_code</th>\n",
       "      <th>observation_count</th>\n",
       "      <th>...</th>\n",
       "      <th>number_observers</th>\n",
       "      <th>all_species_reported</th>\n",
       "      <th>group_identifier</th>\n",
       "      <th>has_media</th>\n",
       "      <th>approved</th>\n",
       "      <th>reviewed</th>\n",
       "      <th>reason</th>\n",
       "      <th>trip_comments</th>\n",
       "      <th>species_comments</th>\n",
       "      <th>unnamed__49</th>\n",
       "    </tr>\n",
       "  </thead>\n",
       "  <tbody>\n",
       "    <tr>\n",
       "      <th>30302</th>\n",
       "      <td>2023-03-04 07:36:07.729744</td>\n",
       "      <td>5706</td>\n",
       "      <td>species</td>\n",
       "      <td>avibase-8EB0C1FA</td>\n",
       "      <td>American Avocet</td>\n",
       "      <td>Recurvirostra americana</td>\n",
       "      <td>NaN</td>\n",
       "      <td>NaN</td>\n",
       "      <td>NaN</td>\n",
       "      <td>2</td>\n",
       "      <td>...</td>\n",
       "      <td>2.0</td>\n",
       "      <td>1.0</td>\n",
       "      <td>G4836653</td>\n",
       "      <td>0.0</td>\n",
       "      <td>1.0</td>\n",
       "      <td>0.0</td>\n",
       "      <td>NaN</td>\n",
       "      <td>NaN</td>\n",
       "      <td>NaN</td>\n",
       "      <td>NaN</td>\n",
       "    </tr>\n",
       "    <tr>\n",
       "      <th>30303</th>\n",
       "      <td>2023-03-04 07:36:07.729744</td>\n",
       "      <td>5706</td>\n",
       "      <td>species</td>\n",
       "      <td>avibase-8EB0C1FA</td>\n",
       "      <td>American Avocet</td>\n",
       "      <td>Recurvirostra americana</td>\n",
       "      <td>NaN</td>\n",
       "      <td>NaN</td>\n",
       "      <td>NaN</td>\n",
       "      <td>1</td>\n",
       "      <td>...</td>\n",
       "      <td>2.0</td>\n",
       "      <td>1.0</td>\n",
       "      <td>G4837345</td>\n",
       "      <td>0.0</td>\n",
       "      <td>1.0</td>\n",
       "      <td>0.0</td>\n",
       "      <td>NaN</td>\n",
       "      <td>NaN</td>\n",
       "      <td>NaN</td>\n",
       "      <td>NaN</td>\n",
       "    </tr>\n",
       "    <tr>\n",
       "      <th>30304</th>\n",
       "      <td>2023-03-04 07:36:07.729744</td>\n",
       "      <td>5706</td>\n",
       "      <td>species</td>\n",
       "      <td>avibase-8EB0C1FA</td>\n",
       "      <td>American Avocet</td>\n",
       "      <td>Recurvirostra americana</td>\n",
       "      <td>NaN</td>\n",
       "      <td>NaN</td>\n",
       "      <td>NaN</td>\n",
       "      <td>2</td>\n",
       "      <td>...</td>\n",
       "      <td>3812.0</td>\n",
       "      <td>1.0</td>\n",
       "      <td>G4891614</td>\n",
       "      <td>0.0</td>\n",
       "      <td>1.0</td>\n",
       "      <td>0.0</td>\n",
       "      <td>NaN</td>\n",
       "      <td>NaN</td>\n",
       "      <td>NaN</td>\n",
       "      <td>NaN</td>\n",
       "    </tr>\n",
       "    <tr>\n",
       "      <th>30305</th>\n",
       "      <td>2023-03-04 07:36:07.729744</td>\n",
       "      <td>5706</td>\n",
       "      <td>species</td>\n",
       "      <td>avibase-8EB0C1FA</td>\n",
       "      <td>American Avocet</td>\n",
       "      <td>Recurvirostra americana</td>\n",
       "      <td>NaN</td>\n",
       "      <td>NaN</td>\n",
       "      <td>NaN</td>\n",
       "      <td>2</td>\n",
       "      <td>...</td>\n",
       "      <td>11.0</td>\n",
       "      <td>1.0</td>\n",
       "      <td>G4836781</td>\n",
       "      <td>0.0</td>\n",
       "      <td>1.0</td>\n",
       "      <td>0.0</td>\n",
       "      <td>NaN</td>\n",
       "      <td>NaN</td>\n",
       "      <td>NaN</td>\n",
       "      <td>NaN</td>\n",
       "    </tr>\n",
       "    <tr>\n",
       "      <th>30306</th>\n",
       "      <td>2023-03-04 07:36:07.729744</td>\n",
       "      <td>5706</td>\n",
       "      <td>species</td>\n",
       "      <td>avibase-8EB0C1FA</td>\n",
       "      <td>American Avocet</td>\n",
       "      <td>Recurvirostra americana</td>\n",
       "      <td>NaN</td>\n",
       "      <td>NaN</td>\n",
       "      <td>NaN</td>\n",
       "      <td>1</td>\n",
       "      <td>...</td>\n",
       "      <td>1.0</td>\n",
       "      <td>1.0</td>\n",
       "      <td>NaN</td>\n",
       "      <td>0.0</td>\n",
       "      <td>1.0</td>\n",
       "      <td>0.0</td>\n",
       "      <td>NaN</td>\n",
       "      <td>NaN</td>\n",
       "      <td>NaN</td>\n",
       "      <td>NaN</td>\n",
       "    </tr>\n",
       "  </tbody>\n",
       "</table>\n",
       "<p>5 rows × 49 columns</p>\n",
       "</div>"
      ],
      "text/plain": [
       "                 last_edited_date  taxonomic_order category  taxon_concept_id  \\\n",
       "30302  2023-03-04 07:36:07.729744             5706  species  avibase-8EB0C1FA   \n",
       "30303  2023-03-04 07:36:07.729744             5706  species  avibase-8EB0C1FA   \n",
       "30304  2023-03-04 07:36:07.729744             5706  species  avibase-8EB0C1FA   \n",
       "30305  2023-03-04 07:36:07.729744             5706  species  avibase-8EB0C1FA   \n",
       "30306  2023-03-04 07:36:07.729744             5706  species  avibase-8EB0C1FA   \n",
       "\n",
       "           common_name          scientific_name subspecies_common_name  \\\n",
       "30302  American Avocet  Recurvirostra americana                    NaN   \n",
       "30303  American Avocet  Recurvirostra americana                    NaN   \n",
       "30304  American Avocet  Recurvirostra americana                    NaN   \n",
       "30305  American Avocet  Recurvirostra americana                    NaN   \n",
       "30306  American Avocet  Recurvirostra americana                    NaN   \n",
       "\n",
       "      subspecies_scientific_name exotic_code observation_count  ...  \\\n",
       "30302                        NaN         NaN                 2  ...   \n",
       "30303                        NaN         NaN                 1  ...   \n",
       "30304                        NaN         NaN                 2  ...   \n",
       "30305                        NaN         NaN                 2  ...   \n",
       "30306                        NaN         NaN                 1  ...   \n",
       "\n",
       "      number_observers all_species_reported group_identifier has_media  \\\n",
       "30302              2.0                  1.0         G4836653       0.0   \n",
       "30303              2.0                  1.0         G4837345       0.0   \n",
       "30304           3812.0                  1.0         G4891614       0.0   \n",
       "30305             11.0                  1.0         G4836781       0.0   \n",
       "30306              1.0                  1.0              NaN       0.0   \n",
       "\n",
       "      approved reviewed reason trip_comments species_comments unnamed__49  \n",
       "30302      1.0      0.0    NaN           NaN              NaN         NaN  \n",
       "30303      1.0      0.0    NaN           NaN              NaN         NaN  \n",
       "30304      1.0      0.0    NaN           NaN              NaN         NaN  \n",
       "30305      1.0      0.0    NaN           NaN              NaN         NaN  \n",
       "30306      1.0      0.0    NaN           NaN              NaN         NaN  \n",
       "\n",
       "[5 rows x 49 columns]"
      ]
     },
     "execution_count": 146,
     "metadata": {},
     "output_type": "execute_result"
    }
   ],
   "source": [
    "df.head()"
   ]
  },
  {
   "cell_type": "markdown",
   "id": "c1b2b3e3",
   "metadata": {},
   "source": [
    "#### last_edited_date"
   ]
  },
  {
   "cell_type": "code",
   "execution_count": 147,
   "id": "b08256e7",
   "metadata": {},
   "outputs": [
    {
     "data": {
      "text/plain": [
       "2023-03-04 07:36:07.729744    101291\n",
       "2021-03-29 16:58:41.721063     52001\n",
       "2022-05-25 17:30:45.104755     32645\n",
       "2023-03-03 21:43:04.119784     22732\n",
       "2021-03-23 23:52:29.063059     13466\n",
       "                               ...  \n",
       "2021-09-13 12:07:11.329355         1\n",
       "2021-09-05 19:30:46.625503         1\n",
       "2021-09-14 09:56:25.444488         1\n",
       "2021-09-14 11:03:50.949137         1\n",
       "2023-08-19 13:54:52.447503         1\n",
       "Name: last_edited_date, Length: 163065, dtype: int64"
      ]
     },
     "execution_count": 147,
     "metadata": {},
     "output_type": "execute_result"
    }
   ],
   "source": [
    "df.last_edited_date.value_counts()"
   ]
  },
  {
   "cell_type": "markdown",
   "id": "5979ee69",
   "metadata": {},
   "source": [
    "> dont need down to the microsecond, just keeping the date"
   ]
  },
  {
   "cell_type": "code",
   "execution_count": 148,
   "id": "3ef9f462",
   "metadata": {},
   "outputs": [],
   "source": [
    "df.last_edited_date = df.last_edited_date.str.split(expand=True)[0]"
   ]
  },
  {
   "cell_type": "code",
   "execution_count": 149,
   "id": "56a71c3f",
   "metadata": {},
   "outputs": [
    {
     "data": {
      "text/plain": [
       "2023-03-04    124033\n",
       "2023-03-03     56512\n",
       "2021-03-29     52395\n",
       "2022-05-25     38342\n",
       "2023-03-05     20938\n",
       "               ...  \n",
       "2020-07-03        16\n",
       "2020-07-02        14\n",
       "2023-09-11        12\n",
       "2020-04-04         6\n",
       "2020-01-16         6\n",
       "Name: last_edited_date, Length: 1349, dtype: int64"
      ]
     },
     "execution_count": 149,
     "metadata": {},
     "output_type": "execute_result"
    }
   ],
   "source": [
    "df.last_edited_date.value_counts()"
   ]
  },
  {
   "cell_type": "code",
   "execution_count": 150,
   "id": "77cc1b0c",
   "metadata": {},
   "outputs": [
    {
     "data": {
      "text/plain": [
       "2020-01-01      44\n",
       "2020-01-02     120\n",
       "2020-01-03      71\n",
       "2020-01-04     144\n",
       "2020-01-05      47\n",
       "              ... \n",
       "2023-09-06    1284\n",
       "2023-09-08      93\n",
       "2023-09-09      52\n",
       "2023-09-10      29\n",
       "2023-09-11      12\n",
       "Name: last_edited_date, Length: 1349, dtype: int64"
      ]
     },
     "execution_count": 150,
     "metadata": {},
     "output_type": "execute_result"
    }
   ],
   "source": [
    "df.last_edited_date.value_counts().sort_index()"
   ]
  },
  {
   "cell_type": "markdown",
   "id": "ee2a257d",
   "metadata": {},
   "source": [
    "> is there a bird date? not an edit date"
   ]
  },
  {
   "cell_type": "markdown",
   "id": "d5810272",
   "metadata": {},
   "source": [
    "#### taxonomic_order"
   ]
  },
  {
   "cell_type": "code",
   "execution_count": 151,
   "id": "85265e8b",
   "metadata": {},
   "outputs": [
    {
     "data": {
      "text/plain": [
       "33811    37790\n",
       "2382     31621\n",
       "27525    27989\n",
       "26774    25890\n",
       "21660    23895\n",
       "         ...  \n",
       "32546        1\n",
       "33380        1\n",
       "2228         1\n",
       "6441         1\n",
       "7225         1\n",
       "Name: taxonomic_order, Length: 589, dtype: int64"
      ]
     },
     "execution_count": 151,
     "metadata": {},
     "output_type": "execute_result"
    }
   ],
   "source": [
    "df.taxonomic_order.value_counts()"
   ]
  },
  {
   "cell_type": "markdown",
   "id": "280408f9",
   "metadata": {},
   "source": [
    "> i dont know what this is"
   ]
  },
  {
   "cell_type": "markdown",
   "id": "b4bafa7b",
   "metadata": {},
   "source": [
    "#### category"
   ]
  },
  {
   "cell_type": "code",
   "execution_count": 152,
   "id": "0ab2714a",
   "metadata": {},
   "outputs": [
    {
     "data": {
      "text/plain": [
       "species       794528\n",
       "issf           13606\n",
       "domestic       11255\n",
       "spuh            8762\n",
       "slash           6377\n",
       "form             438\n",
       "hybrid           225\n",
       "intergrade         2\n",
       "Name: category, dtype: int64"
      ]
     },
     "execution_count": 152,
     "metadata": {},
     "output_type": "execute_result"
    }
   ],
   "source": [
    "df.category.value_counts()"
   ]
  },
  {
   "cell_type": "markdown",
   "id": "9658d3f4",
   "metadata": {},
   "source": [
    "    species = what it is\n",
    "    issf = ?\n",
    "    domestic = not wild\n",
    "    spuh = ?\n",
    "    slash = ?\n",
    "    form = some species have different forms\n",
    "    hybrid = mix of two species\n",
    "    intergrade = ? "
   ]
  },
  {
   "cell_type": "markdown",
   "id": "858c4d56",
   "metadata": {},
   "source": [
    "> what is issf, spuh, form, and intergrade?\n",
    "\n",
    "> imma get rid of hybrids, they are so unlikely and rarely verified. theres also so few of them anyway."
   ]
  },
  {
   "cell_type": "code",
   "execution_count": 153,
   "id": "8e534d31",
   "metadata": {},
   "outputs": [],
   "source": [
    "df = df [df.category != 'hybrid']"
   ]
  },
  {
   "cell_type": "markdown",
   "id": "ba434a8a",
   "metadata": {},
   "source": [
    "#### taxon_concept_id"
   ]
  },
  {
   "cell_type": "code",
   "execution_count": 154,
   "id": "a3fb5098",
   "metadata": {},
   "outputs": [
    {
     "data": {
      "text/plain": [
       "avibase-4E74AE22    37790\n",
       "avibase-BFBC73AF    31621\n",
       "avibase-7EFF698D    27989\n",
       "avibase-CB5469E1    25890\n",
       "avibase-66698D9B    23895\n",
       "                    ...  \n",
       "avibase-703635C7        1\n",
       "avibase-E7C4CA9B        1\n",
       "avibase-B656B15D        1\n",
       "avibase-DB20CB6B        1\n",
       "avibase-8D657F5D        1\n",
       "Name: taxon_concept_id, Length: 574, dtype: int64"
      ]
     },
     "execution_count": 154,
     "metadata": {},
     "output_type": "execute_result"
    }
   ],
   "source": [
    "df.taxon_concept_id.value_counts()"
   ]
  },
  {
   "cell_type": "markdown",
   "id": "94ae0818",
   "metadata": {},
   "source": [
    "> no idea what this is either"
   ]
  },
  {
   "cell_type": "code",
   "execution_count": 155,
   "id": "ca0ff955",
   "metadata": {},
   "outputs": [
    {
     "data": {
      "text/plain": [
       "33811    37790\n",
       "2382     31621\n",
       "27525    27989\n",
       "26774    25890\n",
       "21660    23895\n",
       "         ...  \n",
       "32742        1\n",
       "7335         1\n",
       "32546        1\n",
       "33380        1\n",
       "7225         1\n",
       "Name: taxonomic_order, Length: 574, dtype: int64"
      ]
     },
     "execution_count": 155,
     "metadata": {},
     "output_type": "execute_result"
    }
   ],
   "source": [
    "df.taxonomic_order.value_counts()"
   ]
  },
  {
   "cell_type": "code",
   "execution_count": 156,
   "id": "316d65f7",
   "metadata": {},
   "outputs": [
    {
     "data": {
      "text/html": [
       "<div>\n",
       "<style scoped>\n",
       "    .dataframe tbody tr th:only-of-type {\n",
       "        vertical-align: middle;\n",
       "    }\n",
       "\n",
       "    .dataframe tbody tr th {\n",
       "        vertical-align: top;\n",
       "    }\n",
       "\n",
       "    .dataframe thead th {\n",
       "        text-align: right;\n",
       "    }\n",
       "</style>\n",
       "<table border=\"1\" class=\"dataframe\">\n",
       "  <thead>\n",
       "    <tr style=\"text-align: right;\">\n",
       "      <th></th>\n",
       "      <th>taxon_concept_id</th>\n",
       "      <th>taxonomic_order</th>\n",
       "    </tr>\n",
       "  </thead>\n",
       "  <tbody>\n",
       "    <tr>\n",
       "      <th>30302</th>\n",
       "      <td>avibase-8EB0C1FA</td>\n",
       "      <td>5706</td>\n",
       "    </tr>\n",
       "    <tr>\n",
       "      <th>30303</th>\n",
       "      <td>avibase-8EB0C1FA</td>\n",
       "      <td>5706</td>\n",
       "    </tr>\n",
       "    <tr>\n",
       "      <th>30304</th>\n",
       "      <td>avibase-8EB0C1FA</td>\n",
       "      <td>5706</td>\n",
       "    </tr>\n",
       "    <tr>\n",
       "      <th>30305</th>\n",
       "      <td>avibase-8EB0C1FA</td>\n",
       "      <td>5706</td>\n",
       "    </tr>\n",
       "    <tr>\n",
       "      <th>30306</th>\n",
       "      <td>avibase-8EB0C1FA</td>\n",
       "      <td>5706</td>\n",
       "    </tr>\n",
       "    <tr>\n",
       "      <th>...</th>\n",
       "      <td>...</td>\n",
       "      <td>...</td>\n",
       "    </tr>\n",
       "    <tr>\n",
       "      <th>23930074</th>\n",
       "      <td>avibase-C70EB219</td>\n",
       "      <td>33479</td>\n",
       "    </tr>\n",
       "    <tr>\n",
       "      <th>23930075</th>\n",
       "      <td>avibase-C70EB219</td>\n",
       "      <td>33479</td>\n",
       "    </tr>\n",
       "    <tr>\n",
       "      <th>23930076</th>\n",
       "      <td>avibase-597D7DD6</td>\n",
       "      <td>8231</td>\n",
       "    </tr>\n",
       "    <tr>\n",
       "      <th>23930077</th>\n",
       "      <td>avibase-597D7DD6</td>\n",
       "      <td>8231</td>\n",
       "    </tr>\n",
       "    <tr>\n",
       "      <th>23930078</th>\n",
       "      <td>avibase-597D7DD6</td>\n",
       "      <td>8231</td>\n",
       "    </tr>\n",
       "  </tbody>\n",
       "</table>\n",
       "<p>834968 rows × 2 columns</p>\n",
       "</div>"
      ],
      "text/plain": [
       "          taxon_concept_id  taxonomic_order\n",
       "30302     avibase-8EB0C1FA             5706\n",
       "30303     avibase-8EB0C1FA             5706\n",
       "30304     avibase-8EB0C1FA             5706\n",
       "30305     avibase-8EB0C1FA             5706\n",
       "30306     avibase-8EB0C1FA             5706\n",
       "...                    ...              ...\n",
       "23930074  avibase-C70EB219            33479\n",
       "23930075  avibase-C70EB219            33479\n",
       "23930076  avibase-597D7DD6             8231\n",
       "23930077  avibase-597D7DD6             8231\n",
       "23930078  avibase-597D7DD6             8231\n",
       "\n",
       "[834968 rows x 2 columns]"
      ]
     },
     "execution_count": 156,
     "metadata": {},
     "output_type": "execute_result"
    }
   ],
   "source": [
    "df[['taxon_concept_id','taxonomic_order']]"
   ]
  },
  {
   "cell_type": "markdown",
   "id": "8748f2bb",
   "metadata": {},
   "source": [
    "> these are probably related in some way, still need to understand what taxon is"
   ]
  },
  {
   "cell_type": "markdown",
   "id": "12d3cf2f",
   "metadata": {},
   "source": [
    "#### common_name"
   ]
  },
  {
   "cell_type": "code",
   "execution_count": 157,
   "id": "79d33913",
   "metadata": {},
   "outputs": [
    {
     "data": {
      "text/plain": [
       "Northern Cardinal         38830\n",
       "White-winged Dove         31621\n",
       "Northern Mockingbird      27989\n",
       "Carolina Wren             25892\n",
       "Black-crested Titmouse    23895\n",
       "                          ...  \n",
       "longspur sp.                  1\n",
       "Acanthis/Spinus sp.           1\n",
       "LeConte's Sparrow             1\n",
       "Cape May Warbler              1\n",
       "waterfowl sp.                 1\n",
       "Name: common_name, Length: 499, dtype: int64"
      ]
     },
     "execution_count": 157,
     "metadata": {},
     "output_type": "execute_result"
    }
   ],
   "source": [
    "df.common_name.value_counts()"
   ]
  },
  {
   "cell_type": "markdown",
   "id": "19def472",
   "metadata": {},
   "source": [
    "#### scientific_name"
   ]
  },
  {
   "cell_type": "code",
   "execution_count": 158,
   "id": "6d30a784",
   "metadata": {},
   "outputs": [
    {
     "data": {
      "text/plain": [
       "Cardinalis cardinalis          38830\n",
       "Zenaida asiatica               31621\n",
       "Mimus polyglottos              27989\n",
       "Thryothorus ludovicianus       25892\n",
       "Baeolophus atricristatus       23895\n",
       "                               ...  \n",
       "Calcarius/Rhynchophanes sp.        1\n",
       "Acanthis/Spinus sp.                1\n",
       "Ammospiza leconteii                1\n",
       "Setophaga tigrina                  1\n",
       "Anatidae sp.                       1\n",
       "Name: scientific_name, Length: 499, dtype: int64"
      ]
     },
     "execution_count": 158,
     "metadata": {},
     "output_type": "execute_result"
    }
   ],
   "source": [
    "df.scientific_name.value_counts()"
   ]
  },
  {
   "cell_type": "code",
   "execution_count": 159,
   "id": "be025002",
   "metadata": {},
   "outputs": [
    {
     "data": {
      "text/plain": [
       "Accipitridae sp. (hawk sp.)               408\n",
       "Anatidae (duck sp.)                       386\n",
       "Anser sp. (Domestic type)                 362\n",
       "Calidris sp. (peep sp.)                   248\n",
       "Tyrannus sp. (yellow-bellied)             108\n",
       "Anatidae sp. (dabbling duck sp.)           80\n",
       "Spinus sp. (goldfinch sp.)                 36\n",
       "Anatidae sp. (teal sp.)                    28\n",
       "Corvus sp. (raven sp.)                     27\n",
       "Falco sp. (small falcon sp.)               17\n",
       "Anatidae (goose sp.)                       10\n",
       "Scolopacidae sp. (large shorebird sp.)      8\n",
       "Name: scientific_name, dtype: int64"
      ]
     },
     "execution_count": 159,
     "metadata": {},
     "output_type": "execute_result"
    }
   ],
   "source": [
    "df.scientific_name [df.scientific_name.str.contains('\\(')].value_counts()"
   ]
  },
  {
   "cell_type": "code",
   "execution_count": 160,
   "id": "4f8ff675",
   "metadata": {},
   "outputs": [],
   "source": [
    "df.scientific_name = df.scientific_name.str.replace(r'\\(.*\\)','',regex=True)"
   ]
  },
  {
   "cell_type": "code",
   "execution_count": 161,
   "id": "ad32fd87",
   "metadata": {},
   "outputs": [
    {
     "data": {
      "text/plain": [
       "Series([], Name: scientific_name, dtype: int64)"
      ]
     },
     "execution_count": 161,
     "metadata": {},
     "output_type": "execute_result"
    }
   ],
   "source": [
    "df.scientific_name [df.scientific_name.str.contains('\\(')].value_counts()"
   ]
  },
  {
   "cell_type": "code",
   "execution_count": 162,
   "id": "c7a6fb02",
   "metadata": {},
   "outputs": [
    {
     "data": {
      "text/html": [
       "<div>\n",
       "<style scoped>\n",
       "    .dataframe tbody tr th:only-of-type {\n",
       "        vertical-align: middle;\n",
       "    }\n",
       "\n",
       "    .dataframe tbody tr th {\n",
       "        vertical-align: top;\n",
       "    }\n",
       "\n",
       "    .dataframe thead th {\n",
       "        text-align: right;\n",
       "    }\n",
       "</style>\n",
       "<table border=\"1\" class=\"dataframe\">\n",
       "  <thead>\n",
       "    <tr style=\"text-align: right;\">\n",
       "      <th></th>\n",
       "      <th>0</th>\n",
       "      <th>1</th>\n",
       "      <th>2</th>\n",
       "    </tr>\n",
       "  </thead>\n",
       "  <tbody>\n",
       "    <tr>\n",
       "      <th>30302</th>\n",
       "      <td>Recurvirostra</td>\n",
       "      <td>americana</td>\n",
       "      <td>None</td>\n",
       "    </tr>\n",
       "    <tr>\n",
       "      <th>30303</th>\n",
       "      <td>Recurvirostra</td>\n",
       "      <td>americana</td>\n",
       "      <td>None</td>\n",
       "    </tr>\n",
       "    <tr>\n",
       "      <th>30304</th>\n",
       "      <td>Recurvirostra</td>\n",
       "      <td>americana</td>\n",
       "      <td>None</td>\n",
       "    </tr>\n",
       "    <tr>\n",
       "      <th>30305</th>\n",
       "      <td>Recurvirostra</td>\n",
       "      <td>americana</td>\n",
       "      <td>None</td>\n",
       "    </tr>\n",
       "    <tr>\n",
       "      <th>30306</th>\n",
       "      <td>Recurvirostra</td>\n",
       "      <td>americana</td>\n",
       "      <td>None</td>\n",
       "    </tr>\n",
       "    <tr>\n",
       "      <th>...</th>\n",
       "      <td>...</td>\n",
       "      <td>...</td>\n",
       "      <td>...</td>\n",
       "    </tr>\n",
       "    <tr>\n",
       "      <th>23930074</th>\n",
       "      <td>Setophaga</td>\n",
       "      <td>dominica</td>\n",
       "      <td>None</td>\n",
       "    </tr>\n",
       "    <tr>\n",
       "      <th>23930075</th>\n",
       "      <td>Setophaga</td>\n",
       "      <td>dominica</td>\n",
       "      <td>None</td>\n",
       "    </tr>\n",
       "    <tr>\n",
       "      <th>23930076</th>\n",
       "      <td>Buteo</td>\n",
       "      <td>albonotatus</td>\n",
       "      <td>None</td>\n",
       "    </tr>\n",
       "    <tr>\n",
       "      <th>23930077</th>\n",
       "      <td>Buteo</td>\n",
       "      <td>albonotatus</td>\n",
       "      <td>None</td>\n",
       "    </tr>\n",
       "    <tr>\n",
       "      <th>23930078</th>\n",
       "      <td>Buteo</td>\n",
       "      <td>albonotatus</td>\n",
       "      <td>None</td>\n",
       "    </tr>\n",
       "  </tbody>\n",
       "</table>\n",
       "<p>834968 rows × 3 columns</p>\n",
       "</div>"
      ],
      "text/plain": [
       "                      0            1     2\n",
       "30302     Recurvirostra    americana  None\n",
       "30303     Recurvirostra    americana  None\n",
       "30304     Recurvirostra    americana  None\n",
       "30305     Recurvirostra    americana  None\n",
       "30306     Recurvirostra    americana  None\n",
       "...                 ...          ...   ...\n",
       "23930074      Setophaga     dominica  None\n",
       "23930075      Setophaga     dominica  None\n",
       "23930076          Buteo  albonotatus  None\n",
       "23930077          Buteo  albonotatus  None\n",
       "23930078          Buteo  albonotatus  None\n",
       "\n",
       "[834968 rows x 3 columns]"
      ]
     },
     "execution_count": 162,
     "metadata": {},
     "output_type": "execute_result"
    }
   ],
   "source": [
    "df.scientific_name.str.split(expand=True)"
   ]
  },
  {
   "cell_type": "code",
   "execution_count": 163,
   "id": "19224200",
   "metadata": {},
   "outputs": [
    {
     "data": {
      "text/plain": [
       "Nycticorax nycticorax/Nyctanassa violacea    36\n",
       "Name: scientific_name, dtype: int64"
      ]
     },
     "execution_count": 163,
     "metadata": {},
     "output_type": "execute_result"
    }
   ],
   "source": [
    "df.scientific_name [df.scientific_name.str.split(expand=True)[2].notnull()].value_counts()"
   ]
  },
  {
   "cell_type": "code",
   "execution_count": 165,
   "id": "2143eab8",
   "metadata": {},
   "outputs": [
    {
     "data": {
      "text/plain": [
       "Black-crowned/Yellow-crowned Night-Heron    36\n",
       "Name: common_name, dtype: int64"
      ]
     },
     "execution_count": 165,
     "metadata": {},
     "output_type": "execute_result"
    }
   ],
   "source": [
    "df.common_name [df.scientific_name == 'Nycticorax nycticorax/Nyctanassa violacea'].value_counts()"
   ]
  },
  {
   "cell_type": "code",
   "execution_count": 166,
   "id": "62fddb1b",
   "metadata": {},
   "outputs": [
    {
     "data": {
      "text/plain": [
       "Cardinalis cardinalis          38830\n",
       "Zenaida asiatica               31621\n",
       "Mimus polyglottos              27989\n",
       "Thryothorus ludovicianus       25892\n",
       "Baeolophus atricristatus       23895\n",
       "                               ...  \n",
       "Calcarius/Rhynchophanes sp.        1\n",
       "Acanthis/Spinus sp.                1\n",
       "Turdidae sp.                       1\n",
       "Ammospiza leconteii                1\n",
       "Setophaga graciae                  1\n",
       "Name: scientific_name, Length: 497, dtype: int64"
      ]
     },
     "execution_count": 166,
     "metadata": {},
     "output_type": "execute_result"
    }
   ],
   "source": [
    "df.scientific_name.value_counts()"
   ]
  },
  {
   "cell_type": "code",
   "execution_count": 167,
   "id": "f9f5a52b",
   "metadata": {},
   "outputs": [
    {
     "data": {
      "text/plain": [
       "Zenaida                    45738\n",
       "Cardinalis                 39881\n",
       "Mimus                      27989\n",
       "Thryothorus                25892\n",
       "Baeolophus                 24405\n",
       "                           ...  \n",
       "Calcarius/Rhynchophanes        1\n",
       "Porphyrio                      1\n",
       "Asio                           1\n",
       "Numida                         1\n",
       "Geopelia                       1\n",
       "Name: 0, Length: 245, dtype: int64"
      ]
     },
     "execution_count": 167,
     "metadata": {},
     "output_type": "execute_result"
    }
   ],
   "source": [
    "df.scientific_name.str.split(expand=True)[0].value_counts()"
   ]
  },
  {
   "cell_type": "markdown",
   "id": "6e9271df",
   "metadata": {},
   "source": [
    "#### subspecies_common_name"
   ]
  },
  {
   "cell_type": "code",
   "execution_count": 172,
   "id": "c993863a",
   "metadata": {},
   "outputs": [
    {
     "data": {
      "text/plain": [
       "NaN                               810029\n",
       "Rock Pigeon (Feral Pigeon)          5224\n",
       "Crested Caracara (Northern)         3843\n",
       "Mallard (Domestic type)             3158\n",
       "Yellow-rumped Warbler (Myrtle)      2997\n",
       "                                   ...  \n",
       "Brown Pelican (Atlantic)               1\n",
       "Hutton's Vireo (Interior)              1\n",
       "Purple Finch (Eastern)                 1\n",
       "Green Jay (Green)                      1\n",
       "Virginia Rail (Virginia)               1\n",
       "Name: subspecies_common_name, Length: 84, dtype: int64"
      ]
     },
     "execution_count": 172,
     "metadata": {},
     "output_type": "execute_result"
    }
   ],
   "source": [
    "df.subspecies_common_name.value_counts(dropna=False)"
   ]
  },
  {
   "cell_type": "markdown",
   "id": "58a76738",
   "metadata": {},
   "source": [
    "#### subspecies_scientific_name"
   ]
  },
  {
   "cell_type": "code",
   "execution_count": 173,
   "id": "f3c72063",
   "metadata": {},
   "outputs": [
    {
     "data": {
      "text/plain": [
       "NaN                                    810029\n",
       "Columba livia (Feral Pigeon)             5224\n",
       "Caracara plancus cheriway                3843\n",
       "Anas platyrhynchos (Domestic type)       3158\n",
       "Setophaga coronata coronata              2997\n",
       "                                        ...  \n",
       "Pelecanus occidentalis carolinensis         1\n",
       "Vireo huttoni [stephensi Group]             1\n",
       "Haemorhous purpureus purpureus              1\n",
       "Cyanocorax yncas [luxuosus Group]           1\n",
       "Rallus limicola limicola/friedmanni         1\n",
       "Name: subspecies_scientific_name, Length: 84, dtype: int64"
      ]
     },
     "execution_count": 173,
     "metadata": {},
     "output_type": "execute_result"
    }
   ],
   "source": [
    "df.subspecies_scientific_name.value_counts(dropna=False)"
   ]
  },
  {
   "cell_type": "markdown",
   "id": "0adcb7e9",
   "metadata": {},
   "source": [
    "#### exotic_code"
   ]
  },
  {
   "cell_type": "code",
   "execution_count": 174,
   "id": "90561df1",
   "metadata": {},
   "outputs": [
    {
     "data": {
      "text/plain": [
       "N    43053\n",
       "X     7051\n",
       "P     5341\n",
       "Name: exotic_code, dtype: int64"
      ]
     },
     "execution_count": 174,
     "metadata": {},
     "output_type": "execute_result"
    }
   ],
   "source": [
    "df.exotic_code.value_counts()"
   ]
  },
  {
   "cell_type": "markdown",
   "id": "b2bb5bb1",
   "metadata": {},
   "source": [
    "> need to look up these codes"
   ]
  },
  {
   "cell_type": "code",
   "execution_count": null,
   "id": "bea3c60d",
   "metadata": {},
   "outputs": [],
   "source": []
  },
  {
   "cell_type": "code",
   "execution_count": 168,
   "id": "aebfe784",
   "metadata": {},
   "outputs": [
    {
     "data": {
      "text/plain": [
       "Index(['last_edited_date', 'taxonomic_order', 'category', 'taxon_concept_id',\n",
       "       'common_name', 'scientific_name', 'subspecies_common_name',\n",
       "       'subspecies_scientific_name', 'exotic_code', 'observation_count',\n",
       "       'breeding_code', 'breeding_category', 'behavior_code', 'age_sex',\n",
       "       'country', 'country_code', 'state', 'state_code', 'county',\n",
       "       'county_code', 'iba_code', 'bcr_code', 'usfws_code', 'atlas_block',\n",
       "       'locality', 'locality_id', 'locality_type', 'latitude', 'longitude',\n",
       "       'observation_date', 'time_observations_started', 'observer_id',\n",
       "       'sampling_event_identifier', 'protocol_type', 'protocol_code',\n",
       "       'project_code', 'duration_minutes', 'effort_distance_km',\n",
       "       'effort_area_ha', 'number_observers', 'all_species_reported',\n",
       "       'group_identifier', 'has_media', 'approved', 'reviewed', 'reason',\n",
       "       'trip_comments', 'species_comments', 'unnamed__49'],\n",
       "      dtype='object')"
      ]
     },
     "execution_count": 168,
     "metadata": {},
     "output_type": "execute_result"
    }
   ],
   "source": [
    "df.columns"
   ]
  },
  {
   "cell_type": "code",
   "execution_count": null,
   "id": "15535a59",
   "metadata": {},
   "outputs": [],
   "source": []
  },
  {
   "cell_type": "code",
   "execution_count": null,
   "id": "5c32bc78",
   "metadata": {},
   "outputs": [],
   "source": []
  },
  {
   "cell_type": "code",
   "execution_count": null,
   "id": "30529223",
   "metadata": {},
   "outputs": [],
   "source": []
  },
  {
   "cell_type": "code",
   "execution_count": null,
   "id": "f8741264",
   "metadata": {},
   "outputs": [],
   "source": []
  },
  {
   "cell_type": "code",
   "execution_count": 39,
   "id": "adf7ac2d",
   "metadata": {},
   "outputs": [
    {
     "data": {
      "text/html": [
       "<div>\n",
       "<style scoped>\n",
       "    .dataframe tbody tr th:only-of-type {\n",
       "        vertical-align: middle;\n",
       "    }\n",
       "\n",
       "    .dataframe tbody tr th {\n",
       "        vertical-align: top;\n",
       "    }\n",
       "\n",
       "    .dataframe thead th {\n",
       "        text-align: right;\n",
       "    }\n",
       "</style>\n",
       "<table border=\"1\" class=\"dataframe\">\n",
       "  <thead>\n",
       "    <tr style=\"text-align: right;\">\n",
       "      <th></th>\n",
       "      <th>breeding_code</th>\n",
       "      <th>behavior_code</th>\n",
       "    </tr>\n",
       "  </thead>\n",
       "  <tbody>\n",
       "    <tr>\n",
       "      <th>30302</th>\n",
       "      <td>0</td>\n",
       "      <td>0</td>\n",
       "    </tr>\n",
       "    <tr>\n",
       "      <th>30303</th>\n",
       "      <td>0</td>\n",
       "      <td>0</td>\n",
       "    </tr>\n",
       "    <tr>\n",
       "      <th>30304</th>\n",
       "      <td>0</td>\n",
       "      <td>0</td>\n",
       "    </tr>\n",
       "    <tr>\n",
       "      <th>30305</th>\n",
       "      <td>0</td>\n",
       "      <td>0</td>\n",
       "    </tr>\n",
       "    <tr>\n",
       "      <th>30306</th>\n",
       "      <td>0</td>\n",
       "      <td>0</td>\n",
       "    </tr>\n",
       "    <tr>\n",
       "      <th>...</th>\n",
       "      <td>...</td>\n",
       "      <td>...</td>\n",
       "    </tr>\n",
       "    <tr>\n",
       "      <th>23930074</th>\n",
       "      <td>0</td>\n",
       "      <td>0</td>\n",
       "    </tr>\n",
       "    <tr>\n",
       "      <th>23930075</th>\n",
       "      <td>0</td>\n",
       "      <td>0</td>\n",
       "    </tr>\n",
       "    <tr>\n",
       "      <th>23930076</th>\n",
       "      <td>0</td>\n",
       "      <td>0</td>\n",
       "    </tr>\n",
       "    <tr>\n",
       "      <th>23930077</th>\n",
       "      <td>0</td>\n",
       "      <td>0</td>\n",
       "    </tr>\n",
       "    <tr>\n",
       "      <th>23930078</th>\n",
       "      <td>0</td>\n",
       "      <td>0</td>\n",
       "    </tr>\n",
       "  </tbody>\n",
       "</table>\n",
       "<p>835193 rows × 2 columns</p>\n",
       "</div>"
      ],
      "text/plain": [
       "         breeding_code behavior_code\n",
       "30302                0             0\n",
       "30303                0             0\n",
       "30304                0             0\n",
       "30305                0             0\n",
       "30306                0             0\n",
       "...                ...           ...\n",
       "23930074             0             0\n",
       "23930075             0             0\n",
       "23930076             0             0\n",
       "23930077             0             0\n",
       "23930078             0             0\n",
       "\n",
       "[835193 rows x 2 columns]"
      ]
     },
     "execution_count": 39,
     "metadata": {},
     "output_type": "execute_result"
    }
   ],
   "source": [
    "df[['breeding_code','behavior_code']].fillna('0').dropna()"
   ]
  },
  {
   "cell_type": "code",
   "execution_count": 41,
   "id": "97eec6c0",
   "metadata": {},
   "outputs": [
    {
     "data": {
      "text/plain": [
       "0"
      ]
     },
     "execution_count": 41,
     "metadata": {},
     "output_type": "execute_result"
    }
   ],
   "source": [
    "(df.fillna('0').breeding_code != df.fillna('0').breeding_code).sum()"
   ]
  },
  {
   "cell_type": "code",
   "execution_count": null,
   "id": "f7b72e71",
   "metadata": {},
   "outputs": [],
   "source": []
  }
 ],
 "metadata": {
  "kernelspec": {
   "display_name": "Python 3 (ipykernel)",
   "language": "python",
   "name": "python3"
  },
  "language_info": {
   "codemirror_mode": {
    "name": "ipython",
    "version": 3
   },
   "file_extension": ".py",
   "mimetype": "text/x-python",
   "name": "python",
   "nbconvert_exporter": "python",
   "pygments_lexer": "ipython3",
   "version": "3.9.12"
  }
 },
 "nbformat": 4,
 "nbformat_minor": 5
}
