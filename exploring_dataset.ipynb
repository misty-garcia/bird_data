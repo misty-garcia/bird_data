{
 "cells": [
  {
   "cell_type": "markdown",
   "id": "fcb0bd59",
   "metadata": {},
   "source": [
    "# eBird Data"
   ]
  },
  {
   "cell_type": "markdown",
   "id": "95a31557",
   "metadata": {},
   "source": [
    "## explore the publicly available data from eBird"
   ]
  },
  {
   "cell_type": "code",
   "execution_count": 1,
   "id": "b0fba701",
   "metadata": {},
   "outputs": [],
   "source": [
    "import pandas as pd\n",
    "import numpy as np\n",
    "import re\n",
    "import os"
   ]
  },
  {
   "cell_type": "markdown",
   "id": "c995fb6b",
   "metadata": {},
   "source": [
    "All eBird data from Bexar county in 2023"
   ]
  },
  {
   "cell_type": "code",
   "execution_count": 108,
   "id": "75a686c6",
   "metadata": {},
   "outputs": [],
   "source": [
    "df = pd.read_csv('data/ebd_US-TX-029_2023/ebd_US-TX-029_202301_202312_smp_relDec-2023.txt', sep='\\t')"
   ]
  },
  {
   "cell_type": "code",
   "execution_count": 109,
   "id": "993f0053",
   "metadata": {},
   "outputs": [
    {
     "data": {
      "text/plain": [
       "(254085, 50)"
      ]
     },
     "execution_count": 109,
     "metadata": {},
     "output_type": "execute_result"
    }
   ],
   "source": [
    "df.shape"
   ]
  },
  {
   "cell_type": "code",
   "execution_count": 110,
   "id": "e0e89d48",
   "metadata": {},
   "outputs": [
    {
     "data": {
      "text/plain": [
       "Index(['GLOBAL UNIQUE IDENTIFIER', 'LAST EDITED DATE', 'TAXONOMIC ORDER',\n",
       "       'CATEGORY', 'TAXON CONCEPT ID', 'COMMON NAME', 'SCIENTIFIC NAME',\n",
       "       'SUBSPECIES COMMON NAME', 'SUBSPECIES SCIENTIFIC NAME', 'EXOTIC CODE',\n",
       "       'OBSERVATION COUNT', 'BREEDING CODE', 'BREEDING CATEGORY',\n",
       "       'BEHAVIOR CODE', 'AGE/SEX', 'COUNTRY', 'COUNTRY CODE', 'STATE',\n",
       "       'STATE CODE', 'COUNTY', 'COUNTY CODE', 'IBA CODE', 'BCR CODE',\n",
       "       'USFWS CODE', 'ATLAS BLOCK', 'LOCALITY', 'LOCALITY ID', 'LOCALITY TYPE',\n",
       "       'LATITUDE', 'LONGITUDE', 'OBSERVATION DATE',\n",
       "       'TIME OBSERVATIONS STARTED', 'OBSERVER ID', 'SAMPLING EVENT IDENTIFIER',\n",
       "       'PROTOCOL TYPE', 'PROTOCOL CODE', 'PROJECT CODE', 'DURATION MINUTES',\n",
       "       'EFFORT DISTANCE KM', 'EFFORT AREA HA', 'NUMBER OBSERVERS',\n",
       "       'ALL SPECIES REPORTED', 'GROUP IDENTIFIER', 'HAS MEDIA', 'APPROVED',\n",
       "       'REVIEWED', 'REASON', 'TRIP COMMENTS', 'SPECIES COMMENTS',\n",
       "       'Unnamed: 49'],\n",
       "      dtype='object')"
      ]
     },
     "execution_count": 110,
     "metadata": {},
     "output_type": "execute_result"
    }
   ],
   "source": [
    "df.columns"
   ]
  },
  {
   "cell_type": "code",
   "execution_count": 112,
   "id": "7dd02ec4",
   "metadata": {},
   "outputs": [],
   "source": [
    "df.columns = df.columns.str.lower().str.replace('\\W+','_',regex=True)"
   ]
  },
  {
   "cell_type": "code",
   "execution_count": 113,
   "id": "cba6efe1",
   "metadata": {},
   "outputs": [
    {
     "data": {
      "text/html": [
       "<div>\n",
       "<style scoped>\n",
       "    .dataframe tbody tr th:only-of-type {\n",
       "        vertical-align: middle;\n",
       "    }\n",
       "\n",
       "    .dataframe tbody tr th {\n",
       "        vertical-align: top;\n",
       "    }\n",
       "\n",
       "    .dataframe thead th {\n",
       "        text-align: right;\n",
       "    }\n",
       "</style>\n",
       "<table border=\"1\" class=\"dataframe\">\n",
       "  <thead>\n",
       "    <tr style=\"text-align: right;\">\n",
       "      <th></th>\n",
       "      <th>global_unique_identifier</th>\n",
       "      <th>last_edited_date</th>\n",
       "      <th>taxonomic_order</th>\n",
       "      <th>category</th>\n",
       "      <th>taxon_concept_id</th>\n",
       "      <th>common_name</th>\n",
       "      <th>scientific_name</th>\n",
       "      <th>subspecies_common_name</th>\n",
       "      <th>subspecies_scientific_name</th>\n",
       "      <th>exotic_code</th>\n",
       "      <th>...</th>\n",
       "      <th>number_observers</th>\n",
       "      <th>all_species_reported</th>\n",
       "      <th>group_identifier</th>\n",
       "      <th>has_media</th>\n",
       "      <th>approved</th>\n",
       "      <th>reviewed</th>\n",
       "      <th>reason</th>\n",
       "      <th>trip_comments</th>\n",
       "      <th>species_comments</th>\n",
       "      <th>unnamed_49</th>\n",
       "    </tr>\n",
       "  </thead>\n",
       "  <tbody>\n",
       "    <tr>\n",
       "      <th>0</th>\n",
       "      <td>URN:CornellLabOfOrnithology:EBIRD:OBS1604293624</td>\n",
       "      <td>2023-01-11 23:54:00.580061</td>\n",
       "      <td>5751</td>\n",
       "      <td>species</td>\n",
       "      <td>avibase-8EB0C1FA</td>\n",
       "      <td>American Avocet</td>\n",
       "      <td>Recurvirostra americana</td>\n",
       "      <td>NaN</td>\n",
       "      <td>NaN</td>\n",
       "      <td>NaN</td>\n",
       "      <td>...</td>\n",
       "      <td>1.0</td>\n",
       "      <td>1</td>\n",
       "      <td>NaN</td>\n",
       "      <td>0</td>\n",
       "      <td>1</td>\n",
       "      <td>0</td>\n",
       "      <td>NaN</td>\n",
       "      <td>NaN</td>\n",
       "      <td>Seen and heard in flight over Bird Pond; indiv...</td>\n",
       "      <td>NaN</td>\n",
       "    </tr>\n",
       "    <tr>\n",
       "      <th>1</th>\n",
       "      <td>URN:CornellLabOfOrnithology:EBIRD:OBS1595602863</td>\n",
       "      <td>2023-10-25 00:17:23.078205</td>\n",
       "      <td>7335</td>\n",
       "      <td>species</td>\n",
       "      <td>avibase-13E9F9B4</td>\n",
       "      <td>American Bittern</td>\n",
       "      <td>Botaurus lentiginosus</td>\n",
       "      <td>NaN</td>\n",
       "      <td>NaN</td>\n",
       "      <td>NaN</td>\n",
       "      <td>...</td>\n",
       "      <td>2.0</td>\n",
       "      <td>1</td>\n",
       "      <td>NaN</td>\n",
       "      <td>0</td>\n",
       "      <td>1</td>\n",
       "      <td>0</td>\n",
       "      <td>NaN</td>\n",
       "      <td>NaN</td>\n",
       "      <td>NaN</td>\n",
       "      <td>NaN</td>\n",
       "    </tr>\n",
       "    <tr>\n",
       "      <th>2</th>\n",
       "      <td>URN:CornellLabOfOrnithology:EBIRD:OBS1607571036</td>\n",
       "      <td>2023-01-15 21:40:16.314384</td>\n",
       "      <td>21168</td>\n",
       "      <td>species</td>\n",
       "      <td>avibase-69544B59</td>\n",
       "      <td>American Crow</td>\n",
       "      <td>Corvus brachyrhynchos</td>\n",
       "      <td>NaN</td>\n",
       "      <td>NaN</td>\n",
       "      <td>NaN</td>\n",
       "      <td>...</td>\n",
       "      <td>1.0</td>\n",
       "      <td>0</td>\n",
       "      <td>NaN</td>\n",
       "      <td>0</td>\n",
       "      <td>1</td>\n",
       "      <td>0</td>\n",
       "      <td>NaN</td>\n",
       "      <td>NaN</td>\n",
       "      <td>NaN</td>\n",
       "      <td>NaN</td>\n",
       "    </tr>\n",
       "    <tr>\n",
       "      <th>3</th>\n",
       "      <td>URN:CornellLabOfOrnithology:EBIRD:OBS1611944707</td>\n",
       "      <td>2023-01-21 17:57:44.50285</td>\n",
       "      <td>21168</td>\n",
       "      <td>species</td>\n",
       "      <td>avibase-69544B59</td>\n",
       "      <td>American Crow</td>\n",
       "      <td>Corvus brachyrhynchos</td>\n",
       "      <td>NaN</td>\n",
       "      <td>NaN</td>\n",
       "      <td>NaN</td>\n",
       "      <td>...</td>\n",
       "      <td>13.0</td>\n",
       "      <td>1</td>\n",
       "      <td>G9532004</td>\n",
       "      <td>0</td>\n",
       "      <td>1</td>\n",
       "      <td>0</td>\n",
       "      <td>NaN</td>\n",
       "      <td>This was a bird walk for the Bexar Audubon Soc...</td>\n",
       "      <td>NaN</td>\n",
       "      <td>NaN</td>\n",
       "    </tr>\n",
       "    <tr>\n",
       "      <th>4</th>\n",
       "      <td>URN:CornellLabOfOrnithology:EBIRD:OBS1610976542</td>\n",
       "      <td>2023-01-20 15:08:11.491595</td>\n",
       "      <td>21168</td>\n",
       "      <td>species</td>\n",
       "      <td>avibase-69544B59</td>\n",
       "      <td>American Crow</td>\n",
       "      <td>Corvus brachyrhynchos</td>\n",
       "      <td>NaN</td>\n",
       "      <td>NaN</td>\n",
       "      <td>NaN</td>\n",
       "      <td>...</td>\n",
       "      <td>1.0</td>\n",
       "      <td>1</td>\n",
       "      <td>NaN</td>\n",
       "      <td>0</td>\n",
       "      <td>1</td>\n",
       "      <td>0</td>\n",
       "      <td>NaN</td>\n",
       "      <td>NaN</td>\n",
       "      <td>NaN</td>\n",
       "      <td>NaN</td>\n",
       "    </tr>\n",
       "  </tbody>\n",
       "</table>\n",
       "<p>5 rows × 50 columns</p>\n",
       "</div>"
      ],
      "text/plain": [
       "                          global_unique_identifier  \\\n",
       "0  URN:CornellLabOfOrnithology:EBIRD:OBS1604293624   \n",
       "1  URN:CornellLabOfOrnithology:EBIRD:OBS1595602863   \n",
       "2  URN:CornellLabOfOrnithology:EBIRD:OBS1607571036   \n",
       "3  URN:CornellLabOfOrnithology:EBIRD:OBS1611944707   \n",
       "4  URN:CornellLabOfOrnithology:EBIRD:OBS1610976542   \n",
       "\n",
       "             last_edited_date  taxonomic_order category  taxon_concept_id  \\\n",
       "0  2023-01-11 23:54:00.580061             5751  species  avibase-8EB0C1FA   \n",
       "1  2023-10-25 00:17:23.078205             7335  species  avibase-13E9F9B4   \n",
       "2  2023-01-15 21:40:16.314384            21168  species  avibase-69544B59   \n",
       "3   2023-01-21 17:57:44.50285            21168  species  avibase-69544B59   \n",
       "4  2023-01-20 15:08:11.491595            21168  species  avibase-69544B59   \n",
       "\n",
       "        common_name          scientific_name subspecies_common_name  \\\n",
       "0   American Avocet  Recurvirostra americana                    NaN   \n",
       "1  American Bittern    Botaurus lentiginosus                    NaN   \n",
       "2     American Crow    Corvus brachyrhynchos                    NaN   \n",
       "3     American Crow    Corvus brachyrhynchos                    NaN   \n",
       "4     American Crow    Corvus brachyrhynchos                    NaN   \n",
       "\n",
       "  subspecies_scientific_name exotic_code  ... number_observers  \\\n",
       "0                        NaN         NaN  ...              1.0   \n",
       "1                        NaN         NaN  ...              2.0   \n",
       "2                        NaN         NaN  ...              1.0   \n",
       "3                        NaN         NaN  ...             13.0   \n",
       "4                        NaN         NaN  ...              1.0   \n",
       "\n",
       "  all_species_reported group_identifier has_media approved reviewed reason  \\\n",
       "0                    1              NaN         0        1        0    NaN   \n",
       "1                    1              NaN         0        1        0    NaN   \n",
       "2                    0              NaN         0        1        0    NaN   \n",
       "3                    1         G9532004         0        1        0    NaN   \n",
       "4                    1              NaN         0        1        0    NaN   \n",
       "\n",
       "                                       trip_comments  \\\n",
       "0                                                NaN   \n",
       "1                                                NaN   \n",
       "2                                                NaN   \n",
       "3  This was a bird walk for the Bexar Audubon Soc...   \n",
       "4                                                NaN   \n",
       "\n",
       "                                    species_comments unnamed_49  \n",
       "0  Seen and heard in flight over Bird Pond; indiv...        NaN  \n",
       "1                                                NaN        NaN  \n",
       "2                                                NaN        NaN  \n",
       "3                                                NaN        NaN  \n",
       "4                                                NaN        NaN  \n",
       "\n",
       "[5 rows x 50 columns]"
      ]
     },
     "execution_count": 113,
     "metadata": {},
     "output_type": "execute_result"
    }
   ],
   "source": [
    "df.head()"
   ]
  },
  {
   "cell_type": "markdown",
   "id": "5942ea88",
   "metadata": {},
   "source": [
    "### global_unique_identifier"
   ]
  },
  {
   "cell_type": "code",
   "execution_count": 114,
   "id": "44e7b186",
   "metadata": {},
   "outputs": [
    {
     "data": {
      "text/plain": [
       "URN:CornellLabOfOrnithology:EBIRD:OBS1604293624    1\n",
       "URN:CornellLabOfOrnithology:EBIRD:OBS1815648852    1\n",
       "URN:CornellLabOfOrnithology:EBIRD:OBS1807882793    1\n",
       "URN:CornellLabOfOrnithology:EBIRD:OBS1808641027    1\n",
       "URN:CornellLabOfOrnithology:EBIRD:OBS1805764249    1\n",
       "                                                  ..\n",
       "URN:CornellLabOfOrnithology:EBIRD:OBS1701573924    1\n",
       "URN:CornellLabOfOrnithology:EBIRD:OBS1706648170    1\n",
       "URN:CornellLabOfOrnithology:EBIRD:OBS1702629678    1\n",
       "URN:CornellLabOfOrnithology:EBIRD:OBS1702634657    1\n",
       "URN:CornellLabOfOrnithology:EBIRD:OBS1899726873    1\n",
       "Name: global_unique_identifier, Length: 254085, dtype: int64"
      ]
     },
     "execution_count": 114,
     "metadata": {},
     "output_type": "execute_result"
    }
   ],
   "source": [
    "df.global_unique_identifier.value_counts()"
   ]
  },
  {
   "cell_type": "markdown",
   "id": "35623c2c",
   "metadata": {},
   "source": [
    "> unique identifier, can drop"
   ]
  },
  {
   "cell_type": "code",
   "execution_count": 115,
   "id": "238b26ab",
   "metadata": {},
   "outputs": [],
   "source": [
    "df = df.drop(columns='global_unique_identifier')"
   ]
  },
  {
   "cell_type": "code",
   "execution_count": 116,
   "id": "0afb412e",
   "metadata": {},
   "outputs": [
    {
     "data": {
      "text/html": [
       "<div>\n",
       "<style scoped>\n",
       "    .dataframe tbody tr th:only-of-type {\n",
       "        vertical-align: middle;\n",
       "    }\n",
       "\n",
       "    .dataframe tbody tr th {\n",
       "        vertical-align: top;\n",
       "    }\n",
       "\n",
       "    .dataframe thead th {\n",
       "        text-align: right;\n",
       "    }\n",
       "</style>\n",
       "<table border=\"1\" class=\"dataframe\">\n",
       "  <thead>\n",
       "    <tr style=\"text-align: right;\">\n",
       "      <th></th>\n",
       "      <th>last_edited_date</th>\n",
       "      <th>taxonomic_order</th>\n",
       "      <th>category</th>\n",
       "      <th>taxon_concept_id</th>\n",
       "      <th>common_name</th>\n",
       "      <th>scientific_name</th>\n",
       "      <th>subspecies_common_name</th>\n",
       "      <th>subspecies_scientific_name</th>\n",
       "      <th>exotic_code</th>\n",
       "      <th>observation_count</th>\n",
       "      <th>...</th>\n",
       "      <th>number_observers</th>\n",
       "      <th>all_species_reported</th>\n",
       "      <th>group_identifier</th>\n",
       "      <th>has_media</th>\n",
       "      <th>approved</th>\n",
       "      <th>reviewed</th>\n",
       "      <th>reason</th>\n",
       "      <th>trip_comments</th>\n",
       "      <th>species_comments</th>\n",
       "      <th>unnamed_49</th>\n",
       "    </tr>\n",
       "  </thead>\n",
       "  <tbody>\n",
       "    <tr>\n",
       "      <th>0</th>\n",
       "      <td>2023-01-11 23:54:00.580061</td>\n",
       "      <td>5751</td>\n",
       "      <td>species</td>\n",
       "      <td>avibase-8EB0C1FA</td>\n",
       "      <td>American Avocet</td>\n",
       "      <td>Recurvirostra americana</td>\n",
       "      <td>NaN</td>\n",
       "      <td>NaN</td>\n",
       "      <td>NaN</td>\n",
       "      <td>1</td>\n",
       "      <td>...</td>\n",
       "      <td>1.0</td>\n",
       "      <td>1</td>\n",
       "      <td>NaN</td>\n",
       "      <td>0</td>\n",
       "      <td>1</td>\n",
       "      <td>0</td>\n",
       "      <td>NaN</td>\n",
       "      <td>NaN</td>\n",
       "      <td>Seen and heard in flight over Bird Pond; indiv...</td>\n",
       "      <td>NaN</td>\n",
       "    </tr>\n",
       "    <tr>\n",
       "      <th>1</th>\n",
       "      <td>2023-10-25 00:17:23.078205</td>\n",
       "      <td>7335</td>\n",
       "      <td>species</td>\n",
       "      <td>avibase-13E9F9B4</td>\n",
       "      <td>American Bittern</td>\n",
       "      <td>Botaurus lentiginosus</td>\n",
       "      <td>NaN</td>\n",
       "      <td>NaN</td>\n",
       "      <td>NaN</td>\n",
       "      <td>1</td>\n",
       "      <td>...</td>\n",
       "      <td>2.0</td>\n",
       "      <td>1</td>\n",
       "      <td>NaN</td>\n",
       "      <td>0</td>\n",
       "      <td>1</td>\n",
       "      <td>0</td>\n",
       "      <td>NaN</td>\n",
       "      <td>NaN</td>\n",
       "      <td>NaN</td>\n",
       "      <td>NaN</td>\n",
       "    </tr>\n",
       "    <tr>\n",
       "      <th>2</th>\n",
       "      <td>2023-01-15 21:40:16.314384</td>\n",
       "      <td>21168</td>\n",
       "      <td>species</td>\n",
       "      <td>avibase-69544B59</td>\n",
       "      <td>American Crow</td>\n",
       "      <td>Corvus brachyrhynchos</td>\n",
       "      <td>NaN</td>\n",
       "      <td>NaN</td>\n",
       "      <td>NaN</td>\n",
       "      <td>4</td>\n",
       "      <td>...</td>\n",
       "      <td>1.0</td>\n",
       "      <td>0</td>\n",
       "      <td>NaN</td>\n",
       "      <td>0</td>\n",
       "      <td>1</td>\n",
       "      <td>0</td>\n",
       "      <td>NaN</td>\n",
       "      <td>NaN</td>\n",
       "      <td>NaN</td>\n",
       "      <td>NaN</td>\n",
       "    </tr>\n",
       "    <tr>\n",
       "      <th>3</th>\n",
       "      <td>2023-01-21 17:57:44.50285</td>\n",
       "      <td>21168</td>\n",
       "      <td>species</td>\n",
       "      <td>avibase-69544B59</td>\n",
       "      <td>American Crow</td>\n",
       "      <td>Corvus brachyrhynchos</td>\n",
       "      <td>NaN</td>\n",
       "      <td>NaN</td>\n",
       "      <td>NaN</td>\n",
       "      <td>2</td>\n",
       "      <td>...</td>\n",
       "      <td>13.0</td>\n",
       "      <td>1</td>\n",
       "      <td>G9532004</td>\n",
       "      <td>0</td>\n",
       "      <td>1</td>\n",
       "      <td>0</td>\n",
       "      <td>NaN</td>\n",
       "      <td>This was a bird walk for the Bexar Audubon Soc...</td>\n",
       "      <td>NaN</td>\n",
       "      <td>NaN</td>\n",
       "    </tr>\n",
       "    <tr>\n",
       "      <th>4</th>\n",
       "      <td>2023-01-20 15:08:11.491595</td>\n",
       "      <td>21168</td>\n",
       "      <td>species</td>\n",
       "      <td>avibase-69544B59</td>\n",
       "      <td>American Crow</td>\n",
       "      <td>Corvus brachyrhynchos</td>\n",
       "      <td>NaN</td>\n",
       "      <td>NaN</td>\n",
       "      <td>NaN</td>\n",
       "      <td>3</td>\n",
       "      <td>...</td>\n",
       "      <td>1.0</td>\n",
       "      <td>1</td>\n",
       "      <td>NaN</td>\n",
       "      <td>0</td>\n",
       "      <td>1</td>\n",
       "      <td>0</td>\n",
       "      <td>NaN</td>\n",
       "      <td>NaN</td>\n",
       "      <td>NaN</td>\n",
       "      <td>NaN</td>\n",
       "    </tr>\n",
       "  </tbody>\n",
       "</table>\n",
       "<p>5 rows × 49 columns</p>\n",
       "</div>"
      ],
      "text/plain": [
       "             last_edited_date  taxonomic_order category  taxon_concept_id  \\\n",
       "0  2023-01-11 23:54:00.580061             5751  species  avibase-8EB0C1FA   \n",
       "1  2023-10-25 00:17:23.078205             7335  species  avibase-13E9F9B4   \n",
       "2  2023-01-15 21:40:16.314384            21168  species  avibase-69544B59   \n",
       "3   2023-01-21 17:57:44.50285            21168  species  avibase-69544B59   \n",
       "4  2023-01-20 15:08:11.491595            21168  species  avibase-69544B59   \n",
       "\n",
       "        common_name          scientific_name subspecies_common_name  \\\n",
       "0   American Avocet  Recurvirostra americana                    NaN   \n",
       "1  American Bittern    Botaurus lentiginosus                    NaN   \n",
       "2     American Crow    Corvus brachyrhynchos                    NaN   \n",
       "3     American Crow    Corvus brachyrhynchos                    NaN   \n",
       "4     American Crow    Corvus brachyrhynchos                    NaN   \n",
       "\n",
       "  subspecies_scientific_name exotic_code observation_count  ...  \\\n",
       "0                        NaN         NaN                 1  ...   \n",
       "1                        NaN         NaN                 1  ...   \n",
       "2                        NaN         NaN                 4  ...   \n",
       "3                        NaN         NaN                 2  ...   \n",
       "4                        NaN         NaN                 3  ...   \n",
       "\n",
       "  number_observers all_species_reported group_identifier has_media approved  \\\n",
       "0              1.0                    1              NaN         0        1   \n",
       "1              2.0                    1              NaN         0        1   \n",
       "2              1.0                    0              NaN         0        1   \n",
       "3             13.0                    1         G9532004         0        1   \n",
       "4              1.0                    1              NaN         0        1   \n",
       "\n",
       "  reviewed reason                                      trip_comments  \\\n",
       "0        0    NaN                                                NaN   \n",
       "1        0    NaN                                                NaN   \n",
       "2        0    NaN                                                NaN   \n",
       "3        0    NaN  This was a bird walk for the Bexar Audubon Soc...   \n",
       "4        0    NaN                                                NaN   \n",
       "\n",
       "                                    species_comments unnamed_49  \n",
       "0  Seen and heard in flight over Bird Pond; indiv...        NaN  \n",
       "1                                                NaN        NaN  \n",
       "2                                                NaN        NaN  \n",
       "3                                                NaN        NaN  \n",
       "4                                                NaN        NaN  \n",
       "\n",
       "[5 rows x 49 columns]"
      ]
     },
     "execution_count": 116,
     "metadata": {},
     "output_type": "execute_result"
    }
   ],
   "source": [
    "df.head()"
   ]
  },
  {
   "cell_type": "markdown",
   "id": "0790e39f",
   "metadata": {},
   "source": [
    "### last_edited_date"
   ]
  },
  {
   "cell_type": "code",
   "execution_count": 117,
   "id": "2cdcd9bd",
   "metadata": {},
   "outputs": [
    {
     "data": {
      "text/plain": [
       "2023-03-04 07:36:07.729744    7387\n",
       "2023-10-02 21:23:29.101142    6240\n",
       "2023-10-02 21:23:56.025217    2261\n",
       "2024-01-04 21:50:18.950508    2113\n",
       "2023-12-09 08:50:37.86482     1882\n",
       "                              ... \n",
       "2023-02-03 10:38:40.595456       1\n",
       "2023-02-27 13:23:49.591597       1\n",
       "2023-02-19 11:02:45.47566        1\n",
       "2023-02-17 18:29:14.564959       1\n",
       "2023-12-16 13:53:28.540152       1\n",
       "Name: last_edited_date, Length: 26981, dtype: int64"
      ]
     },
     "execution_count": 117,
     "metadata": {},
     "output_type": "execute_result"
    }
   ],
   "source": [
    "df.last_edited_date.value_counts()"
   ]
  },
  {
   "cell_type": "markdown",
   "id": "faaa9598",
   "metadata": {},
   "source": [
    "> dont need down to the microsecond, just keeping the date"
   ]
  },
  {
   "cell_type": "code",
   "execution_count": 118,
   "id": "2ca4af09",
   "metadata": {},
   "outputs": [],
   "source": [
    "df.last_edited_date = df.last_edited_date.str.split(expand=True)[0]"
   ]
  },
  {
   "cell_type": "code",
   "execution_count": 119,
   "id": "ff6e1a24",
   "metadata": {},
   "outputs": [
    {
     "data": {
      "text/plain": [
       "2023-10-25    22221\n",
       "2023-10-02    13036\n",
       "2023-03-04     9003\n",
       "2024-01-04     4998\n",
       "2023-03-03     3276\n",
       "              ...  \n",
       "2024-01-03       59\n",
       "2024-01-09       53\n",
       "2023-08-03       41\n",
       "2024-01-08       34\n",
       "2024-01-10       25\n",
       "Name: last_edited_date, Length: 375, dtype: int64"
      ]
     },
     "execution_count": 119,
     "metadata": {},
     "output_type": "execute_result"
    }
   ],
   "source": [
    "df.last_edited_date.value_counts()"
   ]
  },
  {
   "cell_type": "code",
   "execution_count": 120,
   "id": "bab90bc1",
   "metadata": {},
   "outputs": [
    {
     "data": {
      "text/plain": [
       "2023-01-01    286\n",
       "2023-01-02    475\n",
       "2023-01-03    279\n",
       "2023-01-04    308\n",
       "2023-01-05    472\n",
       "             ... \n",
       "2024-01-06    284\n",
       "2024-01-07    619\n",
       "2024-01-08     34\n",
       "2024-01-09     53\n",
       "2024-01-10     25\n",
       "Name: last_edited_date, Length: 375, dtype: int64"
      ]
     },
     "execution_count": 120,
     "metadata": {},
     "output_type": "execute_result"
    }
   ],
   "source": [
    "df.last_edited_date.value_counts().sort_index()"
   ]
  },
  {
   "cell_type": "markdown",
   "id": "217b92be",
   "metadata": {},
   "source": [
    "> is there a bird date? not an edit date"
   ]
  },
  {
   "cell_type": "markdown",
   "id": "bb29f787",
   "metadata": {},
   "source": [
    "### taxonomic_order"
   ]
  },
  {
   "cell_type": "code",
   "execution_count": 121,
   "id": "ce8ce689",
   "metadata": {},
   "outputs": [
    {
     "data": {
      "text/plain": [
       "33967    10985\n",
       "2404      8884\n",
       "27652     8332\n",
       "26897     7878\n",
       "31018     7070\n",
       "         ...  \n",
       "18870        1\n",
       "10910        1\n",
       "7340         1\n",
       "3759         1\n",
       "26898        1\n",
       "Name: taxonomic_order, Length: 492, dtype: int64"
      ]
     },
     "execution_count": 121,
     "metadata": {},
     "output_type": "execute_result"
    }
   ],
   "source": [
    "df.taxonomic_order.value_counts()"
   ]
  },
  {
   "cell_type": "markdown",
   "id": "877e9f9a",
   "metadata": {},
   "source": [
    "> numeric value assigned to this taxon in the eBird/Clements taxonomy to arrange the species in the latest taxonomic sequence\n",
    "\n",
    "> i dont know what this means"
   ]
  },
  {
   "cell_type": "markdown",
   "id": "70c309b3",
   "metadata": {},
   "source": [
    "### category"
   ]
  },
  {
   "cell_type": "code",
   "execution_count": 122,
   "id": "3fe747b5",
   "metadata": {},
   "outputs": [
    {
     "data": {
      "text/plain": [
       "species     242768\n",
       "issf          4210\n",
       "domestic      3422\n",
       "spuh          2017\n",
       "slash         1399\n",
       "form           242\n",
       "hybrid          27\n",
       "Name: category, dtype: int64"
      ]
     },
     "execution_count": 122,
     "metadata": {},
     "output_type": "execute_result"
    }
   ],
   "source": [
    "df.category.value_counts()"
   ]
  },
  {
   "cell_type": "markdown",
   "id": "ddac76d5",
   "metadata": {},
   "source": [
    "    species = what it is\n",
    "    issf = subspecies\n",
    "    domestic = not wild\n",
    "    spuh = broad species level identification\n",
    "    slash = indentification narrowed to two possible species\n",
    "    form = some species have different forms\n",
    "    hybrid = mix of two species\n",
    "    intergrade = mix of two subspecies"
   ]
  },
  {
   "cell_type": "markdown",
   "id": "78fc97ee",
   "metadata": {},
   "source": [
    "> imma get rid of hybrids & intergrade, they are so unlikely and rarely verified. theres also so few of them anyway."
   ]
  },
  {
   "cell_type": "code",
   "execution_count": 123,
   "id": "cfaf554a",
   "metadata": {},
   "outputs": [],
   "source": [
    "df = df [(df.category != 'hybrid') & ((df.category != 'intergrade'))]"
   ]
  },
  {
   "cell_type": "markdown",
   "id": "b360927b",
   "metadata": {},
   "source": [
    "### taxon_concept_id"
   ]
  },
  {
   "cell_type": "code",
   "execution_count": 124,
   "id": "35bdb77a",
   "metadata": {},
   "outputs": [
    {
     "data": {
      "text/plain": [
       "avibase-4E74AE22    10985\n",
       "avibase-BFBC73AF     8884\n",
       "avibase-7EFF698D     8332\n",
       "avibase-CB5469E1     7878\n",
       "avibase-240E3390     7070\n",
       "                    ...  \n",
       "avibase-25C6A911        1\n",
       "avibase-304D8767        1\n",
       "avibase-693BD192        1\n",
       "avibase-EB0CD5DC        1\n",
       "avibase-4880DC55        1\n",
       "Name: taxon_concept_id, Length: 487, dtype: int64"
      ]
     },
     "execution_count": 124,
     "metadata": {},
     "output_type": "execute_result"
    }
   ],
   "source": [
    "df.taxon_concept_id.value_counts()"
   ]
  },
  {
   "cell_type": "markdown",
   "id": "5005a644",
   "metadata": {},
   "source": [
    "> unique taxonomic identifier meant to identify a specific taxonomic concept\n",
    "\n",
    "> this is important if a species gets a name change, as this number is constant"
   ]
  },
  {
   "cell_type": "markdown",
   "id": "680baa3b",
   "metadata": {},
   "source": [
    "### common_name"
   ]
  },
  {
   "cell_type": "code",
   "execution_count": 125,
   "id": "3d858e89",
   "metadata": {},
   "outputs": [
    {
     "data": {
      "text/plain": [
       "Northern Cardinal        11565\n",
       "White-winged Dove         8884\n",
       "Northern Mockingbird      8332\n",
       "Carolina Wren             7879\n",
       "House Sparrow             7070\n",
       "                         ...  \n",
       "Black-bellied Plover         1\n",
       "Sanderling                   1\n",
       "Orchard/Hooded Oriole        1\n",
       "Cassin's Vireo               1\n",
       "Virginia Rail                1\n",
       "Name: common_name, Length: 437, dtype: int64"
      ]
     },
     "execution_count": 125,
     "metadata": {},
     "output_type": "execute_result"
    }
   ],
   "source": [
    "df.common_name.value_counts()"
   ]
  },
  {
   "cell_type": "markdown",
   "id": "a097da53",
   "metadata": {},
   "source": [
    "### scientific_name"
   ]
  },
  {
   "cell_type": "code",
   "execution_count": 126,
   "id": "1006df0e",
   "metadata": {},
   "outputs": [
    {
     "data": {
      "text/plain": [
       "Cardinalis cardinalis         11565\n",
       "Zenaida asiatica               8884\n",
       "Mimus polyglottos              8332\n",
       "Thryothorus ludovicianus       7879\n",
       "Passer domesticus              7070\n",
       "                              ...  \n",
       "Pluvialis squatarola              1\n",
       "Calidris alba                     1\n",
       "Icterus spurius/cucullatus        1\n",
       "Vireo cassinii                    1\n",
       "Rallus limicola                   1\n",
       "Name: scientific_name, Length: 437, dtype: int64"
      ]
     },
     "execution_count": 126,
     "metadata": {},
     "output_type": "execute_result"
    }
   ],
   "source": [
    "df.scientific_name.value_counts()"
   ]
  },
  {
   "cell_type": "code",
   "execution_count": 127,
   "id": "7338920c",
   "metadata": {},
   "outputs": [
    {
     "data": {
      "text/plain": [
       "Anatidae (duck sp.)                       97\n",
       "Accipitridae sp. (hawk sp.)               97\n",
       "Anser sp. (Domestic type)                 93\n",
       "Calidris sp. (peep sp.)                   60\n",
       "Tyrannus sp. (yellow-bellied)             30\n",
       "Anatidae sp. (dabbling duck sp.)          28\n",
       "Anatidae sp. (teal sp.)                   12\n",
       "Corvus sp. (raven sp.)                    10\n",
       "Scolopacidae sp. (large shorebird sp.)     5\n",
       "Falco sp. (small falcon sp.)               4\n",
       "Spinus sp. (goldfinch sp.)                 3\n",
       "Anatidae (goose sp.)                       2\n",
       "Rallidae sp. (rail/crake sp.)              1\n",
       "Name: scientific_name, dtype: int64"
      ]
     },
     "execution_count": 127,
     "metadata": {},
     "output_type": "execute_result"
    }
   ],
   "source": [
    "df.scientific_name [df.scientific_name.str.contains('\\(')].value_counts()"
   ]
  },
  {
   "cell_type": "code",
   "execution_count": 128,
   "id": "6d2b0b61",
   "metadata": {},
   "outputs": [],
   "source": [
    "#removing the common name in the parenthesis\n",
    "df.scientific_name = df.scientific_name.str.replace(r'\\(.*\\)','',regex=True)"
   ]
  },
  {
   "cell_type": "code",
   "execution_count": 129,
   "id": "63faf2cb",
   "metadata": {},
   "outputs": [
    {
     "data": {
      "text/plain": [
       "Series([], Name: scientific_name, dtype: int64)"
      ]
     },
     "execution_count": 129,
     "metadata": {},
     "output_type": "execute_result"
    }
   ],
   "source": [
    "df.scientific_name [df.scientific_name.str.contains('\\(')].value_counts()"
   ]
  },
  {
   "cell_type": "code",
   "execution_count": 130,
   "id": "ecd96824",
   "metadata": {},
   "outputs": [
    {
     "data": {
      "text/html": [
       "<div>\n",
       "<style scoped>\n",
       "    .dataframe tbody tr th:only-of-type {\n",
       "        vertical-align: middle;\n",
       "    }\n",
       "\n",
       "    .dataframe tbody tr th {\n",
       "        vertical-align: top;\n",
       "    }\n",
       "\n",
       "    .dataframe thead th {\n",
       "        text-align: right;\n",
       "    }\n",
       "</style>\n",
       "<table border=\"1\" class=\"dataframe\">\n",
       "  <thead>\n",
       "    <tr style=\"text-align: right;\">\n",
       "      <th></th>\n",
       "      <th>0</th>\n",
       "      <th>1</th>\n",
       "      <th>2</th>\n",
       "    </tr>\n",
       "  </thead>\n",
       "  <tbody>\n",
       "    <tr>\n",
       "      <th>0</th>\n",
       "      <td>Recurvirostra</td>\n",
       "      <td>americana</td>\n",
       "      <td>None</td>\n",
       "    </tr>\n",
       "    <tr>\n",
       "      <th>1</th>\n",
       "      <td>Botaurus</td>\n",
       "      <td>lentiginosus</td>\n",
       "      <td>None</td>\n",
       "    </tr>\n",
       "    <tr>\n",
       "      <th>2</th>\n",
       "      <td>Corvus</td>\n",
       "      <td>brachyrhynchos</td>\n",
       "      <td>None</td>\n",
       "    </tr>\n",
       "    <tr>\n",
       "      <th>3</th>\n",
       "      <td>Corvus</td>\n",
       "      <td>brachyrhynchos</td>\n",
       "      <td>None</td>\n",
       "    </tr>\n",
       "    <tr>\n",
       "      <th>4</th>\n",
       "      <td>Corvus</td>\n",
       "      <td>brachyrhynchos</td>\n",
       "      <td>None</td>\n",
       "    </tr>\n",
       "    <tr>\n",
       "      <th>...</th>\n",
       "      <td>...</td>\n",
       "      <td>...</td>\n",
       "      <td>...</td>\n",
       "    </tr>\n",
       "    <tr>\n",
       "      <th>254080</th>\n",
       "      <td>Buteo</td>\n",
       "      <td>albonotatus</td>\n",
       "      <td>None</td>\n",
       "    </tr>\n",
       "    <tr>\n",
       "      <th>254081</th>\n",
       "      <td>Buteo</td>\n",
       "      <td>albonotatus</td>\n",
       "      <td>None</td>\n",
       "    </tr>\n",
       "    <tr>\n",
       "      <th>254082</th>\n",
       "      <td>Buteo</td>\n",
       "      <td>albonotatus</td>\n",
       "      <td>None</td>\n",
       "    </tr>\n",
       "    <tr>\n",
       "      <th>254083</th>\n",
       "      <td>Buteo</td>\n",
       "      <td>albonotatus</td>\n",
       "      <td>None</td>\n",
       "    </tr>\n",
       "    <tr>\n",
       "      <th>254084</th>\n",
       "      <td>Buteo</td>\n",
       "      <td>albonotatus</td>\n",
       "      <td>None</td>\n",
       "    </tr>\n",
       "  </tbody>\n",
       "</table>\n",
       "<p>254058 rows × 3 columns</p>\n",
       "</div>"
      ],
      "text/plain": [
       "                    0               1     2\n",
       "0       Recurvirostra       americana  None\n",
       "1            Botaurus    lentiginosus  None\n",
       "2              Corvus  brachyrhynchos  None\n",
       "3              Corvus  brachyrhynchos  None\n",
       "4              Corvus  brachyrhynchos  None\n",
       "...               ...             ...   ...\n",
       "254080          Buteo     albonotatus  None\n",
       "254081          Buteo     albonotatus  None\n",
       "254082          Buteo     albonotatus  None\n",
       "254083          Buteo     albonotatus  None\n",
       "254084          Buteo     albonotatus  None\n",
       "\n",
       "[254058 rows x 3 columns]"
      ]
     },
     "execution_count": 130,
     "metadata": {},
     "output_type": "execute_result"
    }
   ],
   "source": [
    "df.scientific_name.str.split(expand=True)"
   ]
  },
  {
   "cell_type": "code",
   "execution_count": 131,
   "id": "7960f31a",
   "metadata": {},
   "outputs": [
    {
     "data": {
      "text/plain": [
       "Nycticorax nycticorax/Nyctanassa violacea    15\n",
       "Name: scientific_name, dtype: int64"
      ]
     },
     "execution_count": 131,
     "metadata": {},
     "output_type": "execute_result"
    }
   ],
   "source": [
    "df.scientific_name [df.scientific_name.str.split(expand=True)[2].notnull()].value_counts()"
   ]
  },
  {
   "cell_type": "code",
   "execution_count": 132,
   "id": "a11e8beb",
   "metadata": {},
   "outputs": [
    {
     "data": {
      "text/plain": [
       "Yellow-crowned/Black-crowned Night Heron    15\n",
       "Name: common_name, dtype: int64"
      ]
     },
     "execution_count": 132,
     "metadata": {},
     "output_type": "execute_result"
    }
   ],
   "source": [
    "df.common_name [df.scientific_name == 'Nycticorax nycticorax/Nyctanassa violacea'].value_counts()"
   ]
  },
  {
   "cell_type": "code",
   "execution_count": 133,
   "id": "14c40173",
   "metadata": {},
   "outputs": [
    {
     "data": {
      "text/plain": [
       "Cardinalis cardinalis           11565\n",
       "Zenaida asiatica                 8884\n",
       "Mimus polyglottos                8332\n",
       "Thryothorus ludovicianus         7879\n",
       "Passer domesticus                7070\n",
       "                                ...  \n",
       "Branta hutchinsii/canadensis        1\n",
       "Ixobrychus exilis                   1\n",
       "Calidris alba                       1\n",
       "Sternula antillarum                 1\n",
       "Rallus limicola                     1\n",
       "Name: scientific_name, Length: 435, dtype: int64"
      ]
     },
     "execution_count": 133,
     "metadata": {},
     "output_type": "execute_result"
    }
   ],
   "source": [
    "df.scientific_name.value_counts()"
   ]
  },
  {
   "cell_type": "code",
   "execution_count": 134,
   "id": "38ce10d0",
   "metadata": {},
   "outputs": [
    {
     "data": {
      "text/plain": [
       "Zenaida           13766\n",
       "Cardinalis        11955\n",
       "Mimus              8332\n",
       "Thryothorus        7879\n",
       "Baeolophus         7089\n",
       "                  ...  \n",
       "Elanoides             1\n",
       "Phalaenoptilus        1\n",
       "Cynanthus             1\n",
       "Rallidae              1\n",
       "Rallus                1\n",
       "Name: 0, Length: 228, dtype: int64"
      ]
     },
     "execution_count": 134,
     "metadata": {},
     "output_type": "execute_result"
    }
   ],
   "source": [
    "df.scientific_name.str.split(expand=True)[0].value_counts()"
   ]
  },
  {
   "cell_type": "markdown",
   "id": "5e71efc8",
   "metadata": {},
   "source": [
    "### subspecies_common_name"
   ]
  },
  {
   "cell_type": "code",
   "execution_count": 135,
   "id": "e2fcc35b",
   "metadata": {},
   "outputs": [
    {
     "data": {
      "text/plain": [
       "NaN                                          246277\n",
       "Rock Pigeon (Feral Pigeon)                     1550\n",
       "Mallard (Domestic type)                         899\n",
       "Muscovy Duck (Domestic type)                    700\n",
       "Yellow-rumped Warbler (Myrtle)                  683\n",
       "Northern Cardinal (Common)                      580\n",
       "Great-tailed Grackle (Great-tailed)             475\n",
       "Crested Caracara (Northern)                     450\n",
       "Barn Swallow (American)                         359\n",
       "Golden-fronted Woodpecker (Northern)            249\n",
       "American Coot (Red-shielded)                    234\n",
       "Great Blue Heron (Great Blue)                   221\n",
       "Red-shouldered Hawk (lineatus Group)            191\n",
       "Red-winged Blackbird (Red-winged)               170\n",
       "Great Egret (American)                          159\n",
       "Black-bellied Whistling-Duck (fulgens)          119\n",
       "House Wren (Northern)                           109\n",
       "Swan Goose (Domestic type)                      104\n",
       "Yellow Warbler (Northern)                        68\n",
       "Graylag Goose (Domestic type)                    64\n",
       "Black-necked Stilt (Black-necked)                61\n",
       "Savannah Sparrow (Savannah)                      60\n",
       "Green-winged Teal (American)                     54\n",
       "Yellow-rumped Warbler (Audubon's)                34\n",
       "Downy Woodpecker (Eastern)                       30\n",
       "Northern Flicker (Yellow-shafted)                24\n",
       "Cave Swallow (Texas)                             23\n",
       "Curve-billed Thrasher (curvirostre Group)        12\n",
       "Northern Flicker (Red-shafted)                   10\n",
       "Osprey (carolinensis)                             8\n",
       "Indian Peafowl (Domestic type)                    8\n",
       "White-crowned Sparrow (Dark-lored)                8\n",
       "Cliff Swallow (pyrrhonota Group)                  7\n",
       "Woodhouse's Scrub-Jay (Woodhouse's)               6\n",
       "Dark-eyed Junco (Slate-colored)                   5\n",
       "Limpkin (Speckled)                                5\n",
       "Blue-gray Gnatcatcher (caerulea)                  4\n",
       "Common Grackle (Bronzed)                          4\n",
       "Sharp-shinned Hawk (Northern)                     4\n",
       "Yellow-throated Warbler (albilora)                4\n",
       "Red-tailed Hawk (Harlan's)                        3\n",
       "Merlin (Taiga)                                    3\n",
       "House Finch (Common)                              2\n",
       "Red Junglefowl (Domestic type)                    2\n",
       "Red-tailed Hawk (fuertesi)                        2\n",
       "Budgerigar (Domestic type)                        2\n",
       "White-crowned Sparrow (Gambel's)                  2\n",
       "Fox Sparrow (Red)                                 1\n",
       "Peregrine Falcon (North American)                 1\n",
       "Greater White-fronted Goose (Western)             1\n",
       "Brown Booby (Atlantic)                            1\n",
       "Orchard Oriole (Orchard)                          1\n",
       "Black Phoebe (Northern)                           1\n",
       "Merlin (Prairie)                                  1\n",
       "Carolina Wren (Northern)                          1\n",
       "Monk Parakeet (Monk)                              1\n",
       "Palm Warbler (Western)                            1\n",
       "Name: subspecies_common_name, dtype: int64"
      ]
     },
     "execution_count": 135,
     "metadata": {},
     "output_type": "execute_result"
    }
   ],
   "source": [
    "df.subspecies_common_name.value_counts(dropna=False)"
   ]
  },
  {
   "cell_type": "markdown",
   "id": "c55b884e",
   "metadata": {},
   "source": [
    "### subspecies_scientific_name"
   ]
  },
  {
   "cell_type": "code",
   "execution_count": 136,
   "id": "f1298380",
   "metadata": {},
   "outputs": [
    {
     "data": {
      "text/plain": [
       "NaN                                                246277\n",
       "Columba livia (Feral Pigeon)                         1550\n",
       "Anas platyrhynchos (Domestic type)                    899\n",
       "Cairina moschata (Domestic type)                      700\n",
       "Setophaga coronata coronata                           683\n",
       "Cardinalis cardinalis [cardinalis Group]              580\n",
       "Quiscalus mexicanus [mexicanus Group]                 475\n",
       "Caracara plancus cheriway                             450\n",
       "Hirundo rustica erythrogaster                         359\n",
       "Melanerpes aurifrons aurifrons                        249\n",
       "Fulica americana (Red-shielded)                       234\n",
       "Ardea herodias [herodias Group]                       221\n",
       "Buteo lineatus [lineatus Group]                       191\n",
       "Agelaius phoeniceus [phoeniceus Group]                170\n",
       "Ardea alba egretta                                    159\n",
       "Dendrocygna autumnalis fulgens                        119\n",
       "Troglodytes aedon [aedon Group]                       109\n",
       "Anser cygnoides (Domestic type)                       104\n",
       "Setophaga petechia [aestiva Group]                     68\n",
       "Anser anser (Domestic type)                            64\n",
       "Himantopus mexicanus mexicanus                         61\n",
       "Passerculus sandwichensis [sandwichensis Group]        60\n",
       "Anas crecca carolinensis                               54\n",
       "Setophaga coronata auduboni                            34\n",
       "Dryobates pubescens pubescens/medianus                 30\n",
       "Colaptes auratus auratus/luteus                        24\n",
       "Petrochelidon fulva pallida                            23\n",
       "Toxostoma curvirostre [curvirostre Group]              12\n",
       "Colaptes auratus [cafer Group]                         10\n",
       "Pandion haliaetus carolinensis                          8\n",
       "Pavo cristatus (Domestic type)                          8\n",
       "Zonotrichia leucophrys leucophrys/oriantha              8\n",
       "Petrochelidon pyrrhonota [pyrrhonota Group]             7\n",
       "Aphelocoma woodhouseii [woodhouseii Group]              6\n",
       "Junco hyemalis hyemalis/carolinensis                    5\n",
       "Aramus guarauna [pictus Group]                          5\n",
       "Polioptila caerulea caerulea                            4\n",
       "Quiscalus quiscula versicolor                           4\n",
       "Accipiter striatus [velox Group]                        4\n",
       "Setophaga dominica albilora                             4\n",
       "Buteo jamaicensis harlani                               3\n",
       "Falco columbarius columbarius                           3\n",
       "Haemorhous mexicanus [mexicanus Group]                  2\n",
       "Gallus gallus (Domestic type)                           2\n",
       "Buteo jamaicensis fuertesi                              2\n",
       "Melopsittacus undulatus (Domestic type)                 2\n",
       "Zonotrichia leucophrys gambelii                         2\n",
       "Passerella iliaca iliaca/zaboria                        1\n",
       "Falco peregrinus anatum                                 1\n",
       "Anser albifrons gambelli/sponsa                         1\n",
       "Sula leucogaster leucogaster                            1\n",
       "Icterus spurius spurius                                 1\n",
       "Sayornis nigricans [nigricans Group]                    1\n",
       "Falco columbarius richardsonii                          1\n",
       "Thryothorus ludovicianus [ludovicianus Group]           1\n",
       "Myiopsitta monachus [monachus Group]                    1\n",
       "Setophaga palmarum palmarum                             1\n",
       "Name: subspecies_scientific_name, dtype: int64"
      ]
     },
     "execution_count": 136,
     "metadata": {},
     "output_type": "execute_result"
    }
   ],
   "source": [
    "df.subspecies_scientific_name.value_counts(dropna=False)"
   ]
  },
  {
   "cell_type": "markdown",
   "id": "76e99ac7",
   "metadata": {},
   "source": [
    "### exotic_code"
   ]
  },
  {
   "cell_type": "code",
   "execution_count": 137,
   "id": "1b48d513",
   "metadata": {},
   "outputs": [
    {
     "data": {
      "text/plain": [
       "N    12440\n",
       "X     2130\n",
       "P     1534\n",
       "Name: exotic_code, dtype: int64"
      ]
     },
     "execution_count": 137,
     "metadata": {},
     "output_type": "execute_result"
    }
   ],
   "source": [
    "df.exotic_code.value_counts()"
   ]
  },
  {
   "cell_type": "markdown",
   "id": "feef2632",
   "metadata": {},
   "source": [
    "    N (Naturalized)\n",
    "    P (Provisional)\n",
    "    X (Escapee)"
   ]
  },
  {
   "cell_type": "markdown",
   "id": "0c842874",
   "metadata": {},
   "source": [
    "### observation_count"
   ]
  },
  {
   "cell_type": "code",
   "execution_count": 138,
   "id": "45b97c04",
   "metadata": {},
   "outputs": [
    {
     "data": {
      "text/plain": [
       "1       96173\n",
       "2       51051\n",
       "3       24182\n",
       "4       15929\n",
       "5       11530\n",
       "        ...  \n",
       "518         1\n",
       "141         1\n",
       "315         1\n",
       "237         1\n",
       "3000        1\n",
       "Name: observation_count, Length: 297, dtype: int64"
      ]
     },
     "execution_count": 138,
     "metadata": {},
     "output_type": "execute_result"
    }
   ],
   "source": [
    "df.observation_count.value_counts()"
   ]
  },
  {
   "cell_type": "markdown",
   "id": "dd5ab1f5",
   "metadata": {},
   "source": [
    "### breeding_code"
   ]
  },
  {
   "cell_type": "code",
   "execution_count": 139,
   "id": "5da08cd6",
   "metadata": {},
   "outputs": [
    {
     "data": {
      "text/plain": [
       "NaN    250093\n",
       "H        1252\n",
       "F        1242\n",
       "S         475\n",
       "FL        165\n",
       "ON        149\n",
       "P         116\n",
       "FY        101\n",
       "C          95\n",
       "NB         81\n",
       "CN         77\n",
       "NY         40\n",
       "N          35\n",
       "T          29\n",
       "S7         27\n",
       "CF         26\n",
       "M          25\n",
       "A           6\n",
       "DD          6\n",
       "UN          5\n",
       "B           4\n",
       "NE          4\n",
       "FS          3\n",
       "PE          2\n",
       "Name: breeding_code, dtype: int64"
      ]
     },
     "execution_count": 139,
     "metadata": {},
     "output_type": "execute_result"
    }
   ],
   "source": [
    "df.breeding_code.value_counts(dropna=False)"
   ]
  },
  {
   "cell_type": "code",
   "execution_count": 140,
   "id": "7f916c5f",
   "metadata": {},
   "outputs": [
    {
     "data": {
      "text/plain": [
       "Index(['last_edited_date', 'taxonomic_order', 'category', 'taxon_concept_id',\n",
       "       'common_name', 'scientific_name', 'subspecies_common_name',\n",
       "       'subspecies_scientific_name', 'exotic_code', 'observation_count',\n",
       "       'breeding_code', 'breeding_category', 'behavior_code', 'age_sex',\n",
       "       'country', 'country_code', 'state', 'state_code', 'county',\n",
       "       'county_code', 'iba_code', 'bcr_code', 'usfws_code', 'atlas_block',\n",
       "       'locality', 'locality_id', 'locality_type', 'latitude', 'longitude',\n",
       "       'observation_date', 'time_observations_started', 'observer_id',\n",
       "       'sampling_event_identifier', 'protocol_type', 'protocol_code',\n",
       "       'project_code', 'duration_minutes', 'effort_distance_km',\n",
       "       'effort_area_ha', 'number_observers', 'all_species_reported',\n",
       "       'group_identifier', 'has_media', 'approved', 'reviewed', 'reason',\n",
       "       'trip_comments', 'species_comments', 'unnamed_49'],\n",
       "      dtype='object')"
      ]
     },
     "execution_count": 140,
     "metadata": {},
     "output_type": "execute_result"
    }
   ],
   "source": [
    "df.columns"
   ]
  },
  {
   "cell_type": "code",
   "execution_count": null,
   "id": "9f5168fe",
   "metadata": {},
   "outputs": [],
   "source": []
  },
  {
   "cell_type": "code",
   "execution_count": null,
   "id": "60702d38",
   "metadata": {},
   "outputs": [],
   "source": []
  },
  {
   "cell_type": "code",
   "execution_count": null,
   "id": "83592671",
   "metadata": {},
   "outputs": [],
   "source": []
  },
  {
   "cell_type": "code",
   "execution_count": null,
   "id": "a35cb585",
   "metadata": {},
   "outputs": [],
   "source": []
  },
  {
   "cell_type": "code",
   "execution_count": 141,
   "id": "f6064330",
   "metadata": {},
   "outputs": [
    {
     "data": {
      "text/html": [
       "<div>\n",
       "<style scoped>\n",
       "    .dataframe tbody tr th:only-of-type {\n",
       "        vertical-align: middle;\n",
       "    }\n",
       "\n",
       "    .dataframe tbody tr th {\n",
       "        vertical-align: top;\n",
       "    }\n",
       "\n",
       "    .dataframe thead th {\n",
       "        text-align: right;\n",
       "    }\n",
       "</style>\n",
       "<table border=\"1\" class=\"dataframe\">\n",
       "  <thead>\n",
       "    <tr style=\"text-align: right;\">\n",
       "      <th></th>\n",
       "      <th>breeding_code</th>\n",
       "      <th>behavior_code</th>\n",
       "    </tr>\n",
       "  </thead>\n",
       "  <tbody>\n",
       "    <tr>\n",
       "      <th>0</th>\n",
       "      <td>0</td>\n",
       "      <td>0</td>\n",
       "    </tr>\n",
       "    <tr>\n",
       "      <th>1</th>\n",
       "      <td>0</td>\n",
       "      <td>0</td>\n",
       "    </tr>\n",
       "    <tr>\n",
       "      <th>2</th>\n",
       "      <td>0</td>\n",
       "      <td>0</td>\n",
       "    </tr>\n",
       "    <tr>\n",
       "      <th>3</th>\n",
       "      <td>0</td>\n",
       "      <td>0</td>\n",
       "    </tr>\n",
       "    <tr>\n",
       "      <th>4</th>\n",
       "      <td>0</td>\n",
       "      <td>0</td>\n",
       "    </tr>\n",
       "    <tr>\n",
       "      <th>...</th>\n",
       "      <td>...</td>\n",
       "      <td>...</td>\n",
       "    </tr>\n",
       "    <tr>\n",
       "      <th>254080</th>\n",
       "      <td>0</td>\n",
       "      <td>0</td>\n",
       "    </tr>\n",
       "    <tr>\n",
       "      <th>254081</th>\n",
       "      <td>0</td>\n",
       "      <td>0</td>\n",
       "    </tr>\n",
       "    <tr>\n",
       "      <th>254082</th>\n",
       "      <td>0</td>\n",
       "      <td>0</td>\n",
       "    </tr>\n",
       "    <tr>\n",
       "      <th>254083</th>\n",
       "      <td>0</td>\n",
       "      <td>0</td>\n",
       "    </tr>\n",
       "    <tr>\n",
       "      <th>254084</th>\n",
       "      <td>0</td>\n",
       "      <td>0</td>\n",
       "    </tr>\n",
       "  </tbody>\n",
       "</table>\n",
       "<p>254058 rows × 2 columns</p>\n",
       "</div>"
      ],
      "text/plain": [
       "       breeding_code behavior_code\n",
       "0                  0             0\n",
       "1                  0             0\n",
       "2                  0             0\n",
       "3                  0             0\n",
       "4                  0             0\n",
       "...              ...           ...\n",
       "254080             0             0\n",
       "254081             0             0\n",
       "254082             0             0\n",
       "254083             0             0\n",
       "254084             0             0\n",
       "\n",
       "[254058 rows x 2 columns]"
      ]
     },
     "execution_count": 141,
     "metadata": {},
     "output_type": "execute_result"
    }
   ],
   "source": [
    "df[['breeding_code','behavior_code']].fillna('0').dropna()"
   ]
  },
  {
   "cell_type": "code",
   "execution_count": 142,
   "id": "25d51d49",
   "metadata": {},
   "outputs": [
    {
     "data": {
      "text/plain": [
       "0"
      ]
     },
     "execution_count": 142,
     "metadata": {},
     "output_type": "execute_result"
    }
   ],
   "source": [
    "(df.fillna('0').breeding_code != df.fillna('0').breeding_code).sum()"
   ]
  },
  {
   "cell_type": "code",
   "execution_count": null,
   "id": "8d49625a",
   "metadata": {},
   "outputs": [],
   "source": []
  }
 ],
 "metadata": {
  "kernelspec": {
   "display_name": "Python 3 (ipykernel)",
   "language": "python",
   "name": "python3"
  },
  "language_info": {
   "codemirror_mode": {
    "name": "ipython",
    "version": 3
   },
   "file_extension": ".py",
   "mimetype": "text/x-python",
   "name": "python",
   "nbconvert_exporter": "python",
   "pygments_lexer": "ipython3",
   "version": "3.9.12"
  }
 },
 "nbformat": 4,
 "nbformat_minor": 5
}
