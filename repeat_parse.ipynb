{
 "cells": [
  {
   "cell_type": "code",
   "execution_count": 47,
   "id": "910d0bb7",
   "metadata": {},
   "outputs": [],
   "source": [
    "import pandas as pd\n",
    "import numpy as np\n",
    "\n",
    "import os"
   ]
  },
  {
   "cell_type": "code",
   "execution_count": 78,
   "id": "f773af23",
   "metadata": {},
   "outputs": [
    {
     "data": {
      "text/plain": [
       "['ebd_US-TX-013_relDec-2023.txt',\n",
       " 'ebd_US-TX-019_relDec-2023.txt',\n",
       " 'ebd_US-TX-029_relDec-2023.txt',\n",
       " 'ebd_US-TX-091_relDec-2023.txt',\n",
       " 'ebd_US-TX-171_relDec-2023.txt',\n",
       " 'ebd_US-TX-187_relDec-2023.txt',\n",
       " 'ebd_US-TX-259_relDec-2023.txt',\n",
       " 'ebd_US-TX-265_relDec-2023.txt',\n",
       " 'ebd_US-TX-325_relDec-2023.txt',\n",
       " 'ebd_US-TX-493_relDec-2023.txt']"
      ]
     },
     "execution_count": 78,
     "metadata": {},
     "output_type": "execute_result"
    }
   ],
   "source": [
    "files = os.listdir('data')\n",
    "files.sort()\n",
    "files = files[1:-1]\n",
    "files"
   ]
  },
  {
   "cell_type": "code",
   "execution_count": 94,
   "id": "dd1bdb02",
   "metadata": {},
   "outputs": [],
   "source": [
    "def clean_ebird(df_init):\n",
    "    \n",
    "    #make it python friendly\n",
    "    df_init.columns = df_init.columns.str.lower().str.replace('\\W+','_',regex=True)\n",
    "\n",
    "    #remove unnecessary columns\n",
    "    df_init = df_init.drop(columns=['global_unique_identifier','last_edited_date','taxon_concept_id',\n",
    "                                    'scientific_name','subspecies_common_name','subspecies_scientific_name',\n",
    "                                    'exotic_code','breeding_code','breeding_category','behavior_code',\n",
    "                                    'age_sex','country','country_code','state_code','state',\n",
    "                                    'county_code','iba_code','bcr_code', 'locality_id', 'locality_type',\n",
    "                                    'protocol_code','protocol_type', 'project_code','effort_area_ha',\n",
    "                                    'has_media','approved','reviewed','reason','trip_comments',\n",
    "                                    'species_comments','unnamed_49','usfws_code','atlas_block',])\n",
    "\n",
    "    #replace all Xs with 1s, to count the bird once\n",
    "    df_init.observation_count = np.where(df_init.observation_count == 'X', 1, df_init.observation_count)\n",
    "    df_init.observation_count = df_init.observation_count.astype(int)\n",
    "\n",
    "    #find all dupe checklists\n",
    "    #sort them by observation count\n",
    "    #drop the duplicates, except teh first instance\n",
    "    df_keep_dups = df_init [df_init.group_identifier.notnull()].sort_values('observation_count', \n",
    "                                                   ascending=False).drop_duplicates(subset=['taxonomic_order',\n",
    "                                                                                            'group_identifier'])\n",
    "    #remove all duplicate checklists completely\n",
    "    df_no_dups = df_init [df_init.group_identifier.isnull()]\n",
    "\n",
    "\n",
    "    #combine the no dups df with the first dups only df\n",
    "    df = pd.concat([df_no_dups, df_keep_dups])\n",
    "\n",
    "    #drop group identifier column, as its no longer needed\n",
    "    df = df.drop('group_identifier', axis=1)\n",
    "\n",
    "    #remove everything before 2002\n",
    "    df = df [df.observation_date >= '2002-01-01']\n",
    "\n",
    "    return df"
   ]
  },
  {
   "cell_type": "code",
   "execution_count": 95,
   "id": "ead89a0b",
   "metadata": {},
   "outputs": [
    {
     "name": "stdout",
     "output_type": "stream",
     "text": [
      "ebd_US-TX-013_relDec-2023.txt\n",
      "ebd_US-TX-019_relDec-2023.txt\n"
     ]
    },
    {
     "name": "stderr",
     "output_type": "stream",
     "text": [
      "/var/folders/14/ft4ch4ld42z46kvx0_wfd3d40000gp/T/ipykernel_38247/71692512.py:5: DtypeWarning: Columns (11,12,13,21) have mixed types. Specify dtype option on import or set low_memory=False.\n",
      "  df = pd.read_csv('data/' + file, sep='\\t')\n"
     ]
    },
    {
     "name": "stdout",
     "output_type": "stream",
     "text": [
      "ebd_US-TX-029_relDec-2023.txt\n"
     ]
    },
    {
     "name": "stderr",
     "output_type": "stream",
     "text": [
      "/var/folders/14/ft4ch4ld42z46kvx0_wfd3d40000gp/T/ipykernel_38247/71692512.py:5: DtypeWarning: Columns (11,12,13,21) have mixed types. Specify dtype option on import or set low_memory=False.\n",
      "  df = pd.read_csv('data/' + file, sep='\\t')\n"
     ]
    },
    {
     "name": "stdout",
     "output_type": "stream",
     "text": [
      "ebd_US-TX-091_relDec-2023.txt\n",
      "ebd_US-TX-171_relDec-2023.txt\n",
      "ebd_US-TX-187_relDec-2023.txt\n"
     ]
    },
    {
     "name": "stderr",
     "output_type": "stream",
     "text": [
      "/var/folders/14/ft4ch4ld42z46kvx0_wfd3d40000gp/T/ipykernel_38247/71692512.py:5: DtypeWarning: Columns (11,12,13) have mixed types. Specify dtype option on import or set low_memory=False.\n",
      "  df = pd.read_csv('data/' + file, sep='\\t')\n"
     ]
    },
    {
     "name": "stdout",
     "output_type": "stream",
     "text": [
      "ebd_US-TX-259_relDec-2023.txt\n"
     ]
    },
    {
     "name": "stderr",
     "output_type": "stream",
     "text": [
      "/var/folders/14/ft4ch4ld42z46kvx0_wfd3d40000gp/T/ipykernel_38247/71692512.py:5: DtypeWarning: Columns (11,12,13) have mixed types. Specify dtype option on import or set low_memory=False.\n",
      "  df = pd.read_csv('data/' + file, sep='\\t')\n"
     ]
    },
    {
     "name": "stdout",
     "output_type": "stream",
     "text": [
      "ebd_US-TX-265_relDec-2023.txt\n",
      "ebd_US-TX-325_relDec-2023.txt\n",
      "ebd_US-TX-493_relDec-2023.txt\n"
     ]
    }
   ],
   "source": [
    "clean_dfs = []\n",
    "\n",
    "for file in files:\n",
    "    print(file)\n",
    "    df = pd.read_csv('data/' + file, sep='\\t')\n",
    "    clean_df = clean_ebird(df)\n",
    "    clean_dfs.append(clean_df)"
   ]
  },
  {
   "cell_type": "code",
   "execution_count": 103,
   "id": "86d845e9",
   "metadata": {},
   "outputs": [],
   "source": [
    "dff = pd.concat(clean_dfs)\n",
    "dff = dff.reset_index(drop=True)"
   ]
  },
  {
   "cell_type": "code",
   "execution_count": 104,
   "id": "2aa18e76",
   "metadata": {},
   "outputs": [
    {
     "data": {
      "text/html": [
       "<div>\n",
       "<style scoped>\n",
       "    .dataframe tbody tr th:only-of-type {\n",
       "        vertical-align: middle;\n",
       "    }\n",
       "\n",
       "    .dataframe tbody tr th {\n",
       "        vertical-align: top;\n",
       "    }\n",
       "\n",
       "    .dataframe thead th {\n",
       "        text-align: right;\n",
       "    }\n",
       "</style>\n",
       "<table border=\"1\" class=\"dataframe\">\n",
       "  <thead>\n",
       "    <tr style=\"text-align: right;\">\n",
       "      <th></th>\n",
       "      <th>taxonomic_order</th>\n",
       "      <th>category</th>\n",
       "      <th>common_name</th>\n",
       "      <th>observation_count</th>\n",
       "      <th>county</th>\n",
       "      <th>locality</th>\n",
       "      <th>latitude</th>\n",
       "      <th>longitude</th>\n",
       "      <th>observation_date</th>\n",
       "      <th>time_observations_started</th>\n",
       "      <th>observer_id</th>\n",
       "      <th>sampling_event_identifier</th>\n",
       "      <th>duration_minutes</th>\n",
       "      <th>effort_distance_km</th>\n",
       "      <th>number_observers</th>\n",
       "      <th>all_species_reported</th>\n",
       "    </tr>\n",
       "  </thead>\n",
       "  <tbody>\n",
       "    <tr>\n",
       "      <th>0</th>\n",
       "      <td>11791</td>\n",
       "      <td>species</td>\n",
       "      <td>American Kestrel</td>\n",
       "      <td>1</td>\n",
       "      <td>Atascosa</td>\n",
       "      <td>Peeler Tank</td>\n",
       "      <td>28.735340</td>\n",
       "      <td>-98.435998</td>\n",
       "      <td>2002-01-05</td>\n",
       "      <td>NaN</td>\n",
       "      <td>obsr88598</td>\n",
       "      <td>S5554748</td>\n",
       "      <td>NaN</td>\n",
       "      <td>NaN</td>\n",
       "      <td>NaN</td>\n",
       "      <td>1</td>\n",
       "    </tr>\n",
       "    <tr>\n",
       "      <th>1</th>\n",
       "      <td>233</td>\n",
       "      <td>species</td>\n",
       "      <td>Black-bellied Whistling-Duck</td>\n",
       "      <td>12</td>\n",
       "      <td>Atascosa</td>\n",
       "      <td>Peeler Tank</td>\n",
       "      <td>28.735340</td>\n",
       "      <td>-98.435998</td>\n",
       "      <td>2002-01-05</td>\n",
       "      <td>NaN</td>\n",
       "      <td>obsr88598</td>\n",
       "      <td>S5554748</td>\n",
       "      <td>NaN</td>\n",
       "      <td>NaN</td>\n",
       "      <td>NaN</td>\n",
       "      <td>1</td>\n",
       "    </tr>\n",
       "    <tr>\n",
       "      <th>2</th>\n",
       "      <td>33307</td>\n",
       "      <td>species</td>\n",
       "      <td>Brown-headed Cowbird</td>\n",
       "      <td>1</td>\n",
       "      <td>Atascosa</td>\n",
       "      <td>Atascosa Co.--CR411/412 FM99 area</td>\n",
       "      <td>28.710839</td>\n",
       "      <td>-98.214340</td>\n",
       "      <td>2002-01-11</td>\n",
       "      <td>14:35:00</td>\n",
       "      <td>obsr21142</td>\n",
       "      <td>S17226909</td>\n",
       "      <td>50.0</td>\n",
       "      <td>1.609</td>\n",
       "      <td>2.0</td>\n",
       "      <td>1</td>\n",
       "    </tr>\n",
       "    <tr>\n",
       "      <th>3</th>\n",
       "      <td>33325</td>\n",
       "      <td>species</td>\n",
       "      <td>Brewer's Blackbird</td>\n",
       "      <td>1</td>\n",
       "      <td>Atascosa</td>\n",
       "      <td>Atascosa Co.--CR411/412 FM99 area</td>\n",
       "      <td>28.710839</td>\n",
       "      <td>-98.214340</td>\n",
       "      <td>2002-01-11</td>\n",
       "      <td>14:35:00</td>\n",
       "      <td>obsr21142</td>\n",
       "      <td>S17226909</td>\n",
       "      <td>50.0</td>\n",
       "      <td>1.609</td>\n",
       "      <td>2.0</td>\n",
       "      <td>1</td>\n",
       "    </tr>\n",
       "    <tr>\n",
       "      <th>4</th>\n",
       "      <td>8416</td>\n",
       "      <td>species</td>\n",
       "      <td>Barn Owl</td>\n",
       "      <td>1</td>\n",
       "      <td>Atascosa</td>\n",
       "      <td>Peeler Tank</td>\n",
       "      <td>28.735340</td>\n",
       "      <td>-98.435998</td>\n",
       "      <td>2002-01-05</td>\n",
       "      <td>NaN</td>\n",
       "      <td>obsr88598</td>\n",
       "      <td>S5554748</td>\n",
       "      <td>NaN</td>\n",
       "      <td>NaN</td>\n",
       "      <td>NaN</td>\n",
       "      <td>1</td>\n",
       "    </tr>\n",
       "  </tbody>\n",
       "</table>\n",
       "</div>"
      ],
      "text/plain": [
       "   taxonomic_order category                   common_name  observation_count  \\\n",
       "0            11791  species              American Kestrel                  1   \n",
       "1              233  species  Black-bellied Whistling-Duck                 12   \n",
       "2            33307  species          Brown-headed Cowbird                  1   \n",
       "3            33325  species            Brewer's Blackbird                  1   \n",
       "4             8416  species                      Barn Owl                  1   \n",
       "\n",
       "     county                           locality   latitude  longitude  \\\n",
       "0  Atascosa                        Peeler Tank  28.735340 -98.435998   \n",
       "1  Atascosa                        Peeler Tank  28.735340 -98.435998   \n",
       "2  Atascosa  Atascosa Co.--CR411/412 FM99 area  28.710839 -98.214340   \n",
       "3  Atascosa  Atascosa Co.--CR411/412 FM99 area  28.710839 -98.214340   \n",
       "4  Atascosa                        Peeler Tank  28.735340 -98.435998   \n",
       "\n",
       "  observation_date time_observations_started observer_id  \\\n",
       "0       2002-01-05                       NaN   obsr88598   \n",
       "1       2002-01-05                       NaN   obsr88598   \n",
       "2       2002-01-11                  14:35:00   obsr21142   \n",
       "3       2002-01-11                  14:35:00   obsr21142   \n",
       "4       2002-01-05                       NaN   obsr88598   \n",
       "\n",
       "  sampling_event_identifier  duration_minutes  effort_distance_km  \\\n",
       "0                  S5554748               NaN                 NaN   \n",
       "1                  S5554748               NaN                 NaN   \n",
       "2                 S17226909              50.0               1.609   \n",
       "3                 S17226909              50.0               1.609   \n",
       "4                  S5554748               NaN                 NaN   \n",
       "\n",
       "   number_observers  all_species_reported  \n",
       "0               NaN                     1  \n",
       "1               NaN                     1  \n",
       "2               2.0                     1  \n",
       "3               2.0                     1  \n",
       "4               NaN                     1  "
      ]
     },
     "execution_count": 104,
     "metadata": {},
     "output_type": "execute_result"
    }
   ],
   "source": [
    "dff.head()"
   ]
  },
  {
   "cell_type": "code",
   "execution_count": 105,
   "id": "17af3caf",
   "metadata": {},
   "outputs": [
    {
     "data": {
      "text/plain": [
       "(3626211, 16)"
      ]
     },
     "execution_count": 105,
     "metadata": {},
     "output_type": "execute_result"
    }
   ],
   "source": [
    "dff.shape"
   ]
  },
  {
   "cell_type": "code",
   "execution_count": 106,
   "id": "12016714",
   "metadata": {},
   "outputs": [
    {
     "data": {
      "text/plain": [
       "Bexar        1765735\n",
       "Guadalupe     396980\n",
       "Kendall       372021\n",
       "Comal         311381\n",
       "Kerr          283787\n",
       "Bandera       232628\n",
       "Wilson         77269\n",
       "Medina         75427\n",
       "Gillespie      72553\n",
       "Atascosa       38430\n",
       "Name: county, dtype: int64"
      ]
     },
     "execution_count": 106,
     "metadata": {},
     "output_type": "execute_result"
    }
   ],
   "source": [
    "dff.county.value_counts()"
   ]
  },
  {
   "cell_type": "code",
   "execution_count": 108,
   "id": "f94eadaa",
   "metadata": {},
   "outputs": [],
   "source": [
    "dff.to_csv('ebird_all_BAS.csv')"
   ]
  },
  {
   "cell_type": "code",
   "execution_count": null,
   "id": "2d7ff9e5",
   "metadata": {},
   "outputs": [],
   "source": []
  }
 ],
 "metadata": {
  "kernelspec": {
   "display_name": "Python 3 (ipykernel)",
   "language": "python",
   "name": "python3"
  },
  "language_info": {
   "codemirror_mode": {
    "name": "ipython",
    "version": 3
   },
   "file_extension": ".py",
   "mimetype": "text/x-python",
   "name": "python",
   "nbconvert_exporter": "python",
   "pygments_lexer": "ipython3",
   "version": "3.9.12"
  }
 },
 "nbformat": 4,
 "nbformat_minor": 5
}
